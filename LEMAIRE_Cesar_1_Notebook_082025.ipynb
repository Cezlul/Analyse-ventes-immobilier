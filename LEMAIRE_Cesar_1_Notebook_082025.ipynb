{
 "cells": [
  {
   "cell_type": "markdown",
   "id": "8ea5dde0",
   "metadata": {},
   "source": [
    "# OpenClassrooms - parcours Data Analyst Business Intelligence - P8"
   ]
  },
  {
   "cell_type": "markdown",
   "id": "54cde67e",
   "metadata": {},
   "source": [
    "# Milestone 1 - Analyse des données"
   ]
  },
  {
   "cell_type": "markdown",
   "id": "10c1c891",
   "metadata": {},
   "source": [
    "Dans cette partie nous allons analyser le jeu de données que nous avons à notre disposition. Notre objectif est de comprendre les relations entre les variables, et surtout, celles qui influent sur le prix des transactions immobilières. Grâce à ce travail, nous pourrons ne conserver que les variables qui seront utiles à l'apprentissage de notre algorithme."
   ]
  },
  {
   "cell_type": "markdown",
   "id": "0536dfdf",
   "metadata": {},
   "source": [
    "## 1.Type des données"
   ]
  },
  {
   "cell_type": "markdown",
   "id": "a2a6c7c1",
   "metadata": {},
   "source": [
    "La première étape à réaliser est d'importer les données dans le notebook et d'opérer des transformations sur les variables si celles-ci s'imposent (exemple : nettoyage ou changement de type des variables, etc.)."
   ]
  },
  {
   "cell_type": "code",
   "execution_count": 1,
   "id": "8a4de40f",
   "metadata": {},
   "outputs": [],
   "source": [
    "#On importe les librairies que nous utiliserons pour traiter les données et les visualiser\n",
    "import pandas as pd, numpy as np, matplotlib as mpl, matplotlib.pyplot as plt, plotly.express as px, matplotlib.ticker as ticker, scipy.stats as st, sklearn.linear_model as sk, datetime as dt\n",
    "# N'oubliez pas d'avoir installé les librairies pandas, numpy et matplotlib via la commande pip\n",
    "pd.options.mode.copy_on_write = True"
   ]
  },
  {
   "cell_type": "code",
   "execution_count": 2,
   "id": "9b43d9e3",
   "metadata": {},
   "outputs": [],
   "source": [
    "#On importe les données dans un dataframe\n",
    "df_historique = pd.read_excel('historique_immobilier_paris_2017_2021_vdef2.xlsx')"
   ]
  },
  {
   "cell_type": "markdown",
   "id": "70dc6974",
   "metadata": {},
   "source": [
    "Attention, si l'opération ci-dessus ne marche pas, il se peut que le package \"openpyxl\" ne soit pas présent sur votre ordinateur. Si c'est le cas vous pouvez l'installer en éxécutant la commande : pip install openpyxl ou conda install openpyxl."
   ]
  },
  {
   "cell_type": "code",
   "execution_count": 3,
   "id": "3655b793",
   "metadata": {},
   "outputs": [
    {
     "name": "stdout",
     "output_type": "stream",
     "text": [
      "<class 'pandas.core.frame.DataFrame'>\n",
      "RangeIndex: 26196 entries, 0 to 26195\n",
      "Data columns (total 9 columns):\n",
      " #   Column            Non-Null Count  Dtype         \n",
      "---  ------            --------------  -----         \n",
      " 0   date_mutation     26196 non-null  datetime64[ns]\n",
      " 1   valeur_fonciere   26196 non-null  float64       \n",
      " 2   adresse_numero    26196 non-null  int64         \n",
      " 3   adresse_nom_voie  26196 non-null  object        \n",
      " 4   code_postal       26196 non-null  int64         \n",
      " 5   nom_commune       26196 non-null  object        \n",
      " 6   code_type_local   26196 non-null  int64         \n",
      " 7   type_local        26196 non-null  object        \n",
      " 8   surface_reelle    26196 non-null  int64         \n",
      "dtypes: datetime64[ns](1), float64(1), int64(4), object(3)\n",
      "memory usage: 1.8+ MB\n"
     ]
    }
   ],
   "source": [
    "#On vérifie que le type des données attribué par pandas est cohérent\n",
    "df_historique.info()\n"
   ]
  },
  {
   "cell_type": "markdown",
   "id": "71c6c622",
   "metadata": {},
   "source": [
    "### 2. Regardons les différents types de biens immobiliers que nous avons dans nos données :"
   ]
  },
  {
   "cell_type": "code",
   "execution_count": 4,
   "id": "746ed1b1",
   "metadata": {},
   "outputs": [
    {
     "name": "stdout",
     "output_type": "stream",
     "text": [
      "Les types de biens dans notre fichier historique :type_local\n",
      "Appartement                                 24353\n",
      "Local industriel. commercial ou assimilé     1843\n",
      "Name: count, dtype: int64\n"
     ]
    }
   ],
   "source": [
    "#On cherche quel sont les type de biens présents dans le dataframe ainsi que le code associé\n",
    "type_histo=df_historique.value_counts('type_local')\n",
    "print(f\"Les types de biens dans notre fichier historique :{type_histo}\")\n"
   ]
  },
  {
   "cell_type": "markdown",
   "id": "f38e5dd1",
   "metadata": {},
   "source": [
    "On observe qu'il y a 2 types de biens, et que leurs codes types sont 2 pour les type Appartements et 4 pour les types Local industriel, commercial ou assimilé. "
   ]
  },
  {
   "cell_type": "markdown",
   "id": "6416e560",
   "metadata": {},
   "source": [
    "### 3. Nombre de transactions"
   ]
  },
  {
   "cell_type": "code",
   "execution_count": 5,
   "id": "d27c307b",
   "metadata": {},
   "outputs": [
    {
     "name": "stdout",
     "output_type": "stream",
     "text": [
      "Le nombre de transactions dans les données est 26196\n",
      "Le nombre de transactions pour les appartements dans les données est 24353\n",
      "Le nombre de transactions pour les locaux commerciaux dans les données est 1843\n"
     ]
    }
   ],
   "source": [
    "#On verifie le nombre de transactions que nous avons dans notre dataframe\n",
    "\n",
    "print(\"Le nombre de transactions dans les données est\",len(df_historique.index))\n",
    "appartement = df_historique.apply(lambda x: True if x['type_local'] == 'Appartement' else False, axis=1)\n",
    "transaction_appartement = len(appartement[appartement==True].index)\n",
    "print(f\"Le nombre de transactions pour les appartements dans les données est {transaction_appartement}\")\n",
    "locaux = df_historique.apply(lambda x: True if x['type_local'] == 'Local industriel. commercial ou assimilé' else False, axis=1)\n",
    "transaction_locaux = len(locaux[locaux==True].index)\n",
    "print(f\"Le nombre de transactions pour les locaux commerciaux dans les données est {transaction_locaux}\")"
   ]
  },
  {
   "cell_type": "markdown",
   "id": "4601fdac",
   "metadata": {},
   "source": [
    "### 4. interval de l'historique des données"
   ]
  },
  {
   "cell_type": "code",
   "execution_count": 6,
   "id": "023ef741",
   "metadata": {},
   "outputs": [
    {
     "name": "stdout",
     "output_type": "stream",
     "text": [
      "La première date de transaction dans les données est le 2017-01-02 00:00:00 \n",
      "La dernière date de transaction dans les données est le 2021-12-31 00:00:00 \n"
     ]
    }
   ],
   "source": [
    "#On vérifie également la plage de l'historique disponible\n",
    "print(\"La première date de transaction dans les données est le {} \".format(df_historique['date_mutation'].min()))\n",
    "print(\"La dernière date de transaction dans les données est le {} \".format(df_historique['date_mutation'].max()))"
   ]
  },
  {
   "cell_type": "markdown",
   "id": "92964843",
   "metadata": {},
   "source": [
    "## Commençons à analyser les données"
   ]
  },
  {
   "cell_type": "markdown",
   "id": "ae74642d",
   "metadata": {},
   "source": [
    "Maintenant nous allons analyser les données historiques pour les 2 différents types de biens immobiliers en essayant d'identifier les relations entre les variables. Mais avant cela, il nous faudra pouvoir comparer les biens entre eux, et pour cela nous allons créer une colonne du prix au metre carré."
   ]
  },
  {
   "cell_type": "code",
   "execution_count": 7,
   "id": "933c010b",
   "metadata": {},
   "outputs": [
    {
     "data": {
      "text/html": [
       "<div>\n",
       "<style scoped>\n",
       "    .dataframe tbody tr th:only-of-type {\n",
       "        vertical-align: middle;\n",
       "    }\n",
       "\n",
       "    .dataframe tbody tr th {\n",
       "        vertical-align: top;\n",
       "    }\n",
       "\n",
       "    .dataframe thead th {\n",
       "        text-align: right;\n",
       "    }\n",
       "</style>\n",
       "<table border=\"1\" class=\"dataframe\">\n",
       "  <thead>\n",
       "    <tr style=\"text-align: right;\">\n",
       "      <th></th>\n",
       "      <th>date_mutation</th>\n",
       "      <th>valeur_fonciere</th>\n",
       "      <th>adresse_numero</th>\n",
       "      <th>adresse_nom_voie</th>\n",
       "      <th>code_postal</th>\n",
       "      <th>nom_commune</th>\n",
       "      <th>code_type_local</th>\n",
       "      <th>type_local</th>\n",
       "      <th>surface_reelle</th>\n",
       "      <th>prix_m2</th>\n",
       "    </tr>\n",
       "  </thead>\n",
       "  <tbody>\n",
       "    <tr>\n",
       "      <th>0</th>\n",
       "      <td>2017-01-03</td>\n",
       "      <td>5.505597e+05</td>\n",
       "      <td>8</td>\n",
       "      <td>RUE DES COUTURES SAINT GERVAIS</td>\n",
       "      <td>75003</td>\n",
       "      <td>Paris 3e Arrondissement</td>\n",
       "      <td>2</td>\n",
       "      <td>Appartement</td>\n",
       "      <td>50</td>\n",
       "      <td>11011.19</td>\n",
       "    </tr>\n",
       "    <tr>\n",
       "      <th>1</th>\n",
       "      <td>2017-01-12</td>\n",
       "      <td>1.576492e+06</td>\n",
       "      <td>32</td>\n",
       "      <td>AV MARCEAU</td>\n",
       "      <td>75008</td>\n",
       "      <td>Paris 8e Arrondissement</td>\n",
       "      <td>2</td>\n",
       "      <td>Appartement</td>\n",
       "      <td>163</td>\n",
       "      <td>9671.73</td>\n",
       "    </tr>\n",
       "    <tr>\n",
       "      <th>2</th>\n",
       "      <td>2017-01-10</td>\n",
       "      <td>6.577574e+05</td>\n",
       "      <td>52</td>\n",
       "      <td>RUE DU FAUBOURG SAINT HONORE</td>\n",
       "      <td>75008</td>\n",
       "      <td>Paris 8e Arrondissement</td>\n",
       "      <td>2</td>\n",
       "      <td>Appartement</td>\n",
       "      <td>66</td>\n",
       "      <td>9966.02</td>\n",
       "    </tr>\n",
       "    <tr>\n",
       "      <th>3</th>\n",
       "      <td>2017-01-10</td>\n",
       "      <td>2.500868e+05</td>\n",
       "      <td>64</td>\n",
       "      <td>RUE DU VERTBOIS</td>\n",
       "      <td>75003</td>\n",
       "      <td>Paris 3e Arrondissement</td>\n",
       "      <td>2</td>\n",
       "      <td>Appartement</td>\n",
       "      <td>22</td>\n",
       "      <td>11367.58</td>\n",
       "    </tr>\n",
       "    <tr>\n",
       "      <th>4</th>\n",
       "      <td>2017-01-13</td>\n",
       "      <td>1.762667e+05</td>\n",
       "      <td>25</td>\n",
       "      <td>RUE DES LAVANDIERES STE OPPORT</td>\n",
       "      <td>75001</td>\n",
       "      <td>Paris 1er Arrondissement</td>\n",
       "      <td>2</td>\n",
       "      <td>Appartement</td>\n",
       "      <td>15</td>\n",
       "      <td>11751.11</td>\n",
       "    </tr>\n",
       "  </tbody>\n",
       "</table>\n",
       "</div>"
      ],
      "text/plain": [
       "  date_mutation  valeur_fonciere  adresse_numero  \\\n",
       "0    2017-01-03     5.505597e+05               8   \n",
       "1    2017-01-12     1.576492e+06              32   \n",
       "2    2017-01-10     6.577574e+05              52   \n",
       "3    2017-01-10     2.500868e+05              64   \n",
       "4    2017-01-13     1.762667e+05              25   \n",
       "\n",
       "                 adresse_nom_voie  code_postal               nom_commune  \\\n",
       "0  RUE DES COUTURES SAINT GERVAIS        75003   Paris 3e Arrondissement   \n",
       "1                      AV MARCEAU        75008   Paris 8e Arrondissement   \n",
       "2    RUE DU FAUBOURG SAINT HONORE        75008   Paris 8e Arrondissement   \n",
       "3                 RUE DU VERTBOIS        75003   Paris 3e Arrondissement   \n",
       "4  RUE DES LAVANDIERES STE OPPORT        75001  Paris 1er Arrondissement   \n",
       "\n",
       "   code_type_local   type_local  surface_reelle   prix_m2  \n",
       "0                2  Appartement              50  11011.19  \n",
       "1                2  Appartement             163   9671.73  \n",
       "2                2  Appartement              66   9966.02  \n",
       "3                2  Appartement              22  11367.58  \n",
       "4                2  Appartement              15  11751.11  "
      ]
     },
     "execution_count": 7,
     "metadata": {},
     "output_type": "execute_result"
    }
   ],
   "source": [
    "# Calcul de la colonne\n",
    "df_historique['prix_m2'] = round(df_historique['valeur_fonciere'] / df_historique['surface_reelle'],2)\n",
    "df_historique.head()"
   ]
  },
  {
   "cell_type": "markdown",
   "id": "1b08d5b8",
   "metadata": {},
   "source": [
    "Maintenant, analysons les appartements."
   ]
  },
  {
   "cell_type": "markdown",
   "id": "e52299e8",
   "metadata": {},
   "source": [
    "### 5. Evolution du prix au metre carré des appartements dans Paris"
   ]
  },
  {
   "cell_type": "code",
   "execution_count": 8,
   "id": "706a3f1e",
   "metadata": {},
   "outputs": [
    {
     "data": {
      "text/html": [
       "<div>\n",
       "<style scoped>\n",
       "    .dataframe tbody tr th:only-of-type {\n",
       "        vertical-align: middle;\n",
       "    }\n",
       "\n",
       "    .dataframe tbody tr th {\n",
       "        vertical-align: top;\n",
       "    }\n",
       "\n",
       "    .dataframe thead th {\n",
       "        text-align: right;\n",
       "    }\n",
       "</style>\n",
       "<table border=\"1\" class=\"dataframe\">\n",
       "  <thead>\n",
       "    <tr style=\"text-align: right;\">\n",
       "      <th></th>\n",
       "      <th>date_mutation</th>\n",
       "      <th>valeur_fonciere</th>\n",
       "      <th>code_postal</th>\n",
       "      <th>type_local</th>\n",
       "      <th>surface_reelle</th>\n",
       "      <th>prix_m2</th>\n",
       "      <th>Annee</th>\n",
       "    </tr>\n",
       "  </thead>\n",
       "  <tbody>\n",
       "    <tr>\n",
       "      <th>0</th>\n",
       "      <td>2017-01-03</td>\n",
       "      <td>5.505597e+05</td>\n",
       "      <td>75003</td>\n",
       "      <td>Appartement</td>\n",
       "      <td>50</td>\n",
       "      <td>11011.19</td>\n",
       "      <td>2017</td>\n",
       "    </tr>\n",
       "    <tr>\n",
       "      <th>1</th>\n",
       "      <td>2017-01-12</td>\n",
       "      <td>1.576492e+06</td>\n",
       "      <td>75008</td>\n",
       "      <td>Appartement</td>\n",
       "      <td>163</td>\n",
       "      <td>9671.73</td>\n",
       "      <td>2017</td>\n",
       "    </tr>\n",
       "    <tr>\n",
       "      <th>2</th>\n",
       "      <td>2017-01-10</td>\n",
       "      <td>6.577574e+05</td>\n",
       "      <td>75008</td>\n",
       "      <td>Appartement</td>\n",
       "      <td>66</td>\n",
       "      <td>9966.02</td>\n",
       "      <td>2017</td>\n",
       "    </tr>\n",
       "    <tr>\n",
       "      <th>3</th>\n",
       "      <td>2017-01-10</td>\n",
       "      <td>2.500868e+05</td>\n",
       "      <td>75003</td>\n",
       "      <td>Appartement</td>\n",
       "      <td>22</td>\n",
       "      <td>11367.58</td>\n",
       "      <td>2017</td>\n",
       "    </tr>\n",
       "    <tr>\n",
       "      <th>4</th>\n",
       "      <td>2017-01-13</td>\n",
       "      <td>1.762667e+05</td>\n",
       "      <td>75001</td>\n",
       "      <td>Appartement</td>\n",
       "      <td>15</td>\n",
       "      <td>11751.11</td>\n",
       "      <td>2017</td>\n",
       "    </tr>\n",
       "    <tr>\n",
       "      <th>...</th>\n",
       "      <td>...</td>\n",
       "      <td>...</td>\n",
       "      <td>...</td>\n",
       "      <td>...</td>\n",
       "      <td>...</td>\n",
       "      <td>...</td>\n",
       "      <td>...</td>\n",
       "    </tr>\n",
       "    <tr>\n",
       "      <th>26189</th>\n",
       "      <td>2021-02-24</td>\n",
       "      <td>8.489150e+05</td>\n",
       "      <td>75004</td>\n",
       "      <td>Appartement</td>\n",
       "      <td>66</td>\n",
       "      <td>12862.35</td>\n",
       "      <td>2021</td>\n",
       "    </tr>\n",
       "    <tr>\n",
       "      <th>26191</th>\n",
       "      <td>2021-02-25</td>\n",
       "      <td>4.712239e+05</td>\n",
       "      <td>75004</td>\n",
       "      <td>Appartement</td>\n",
       "      <td>37</td>\n",
       "      <td>12735.78</td>\n",
       "      <td>2021</td>\n",
       "    </tr>\n",
       "    <tr>\n",
       "      <th>26193</th>\n",
       "      <td>2021-03-08</td>\n",
       "      <td>3.124359e+05</td>\n",
       "      <td>75002</td>\n",
       "      <td>Appartement</td>\n",
       "      <td>26</td>\n",
       "      <td>12016.77</td>\n",
       "      <td>2021</td>\n",
       "    </tr>\n",
       "    <tr>\n",
       "      <th>26194</th>\n",
       "      <td>2021-03-11</td>\n",
       "      <td>1.562234e+05</td>\n",
       "      <td>75002</td>\n",
       "      <td>Appartement</td>\n",
       "      <td>13</td>\n",
       "      <td>12017.18</td>\n",
       "      <td>2021</td>\n",
       "    </tr>\n",
       "    <tr>\n",
       "      <th>26195</th>\n",
       "      <td>2021-03-19</td>\n",
       "      <td>3.694294e+05</td>\n",
       "      <td>75002</td>\n",
       "      <td>Appartement</td>\n",
       "      <td>32</td>\n",
       "      <td>11544.67</td>\n",
       "      <td>2021</td>\n",
       "    </tr>\n",
       "  </tbody>\n",
       "</table>\n",
       "<p>24353 rows × 7 columns</p>\n",
       "</div>"
      ],
      "text/plain": [
       "      date_mutation  valeur_fonciere  code_postal   type_local  \\\n",
       "0        2017-01-03     5.505597e+05        75003  Appartement   \n",
       "1        2017-01-12     1.576492e+06        75008  Appartement   \n",
       "2        2017-01-10     6.577574e+05        75008  Appartement   \n",
       "3        2017-01-10     2.500868e+05        75003  Appartement   \n",
       "4        2017-01-13     1.762667e+05        75001  Appartement   \n",
       "...             ...              ...          ...          ...   \n",
       "26189    2021-02-24     8.489150e+05        75004  Appartement   \n",
       "26191    2021-02-25     4.712239e+05        75004  Appartement   \n",
       "26193    2021-03-08     3.124359e+05        75002  Appartement   \n",
       "26194    2021-03-11     1.562234e+05        75002  Appartement   \n",
       "26195    2021-03-19     3.694294e+05        75002  Appartement   \n",
       "\n",
       "       surface_reelle   prix_m2  Annee  \n",
       "0                  50  11011.19   2017  \n",
       "1                 163   9671.73   2017  \n",
       "2                  66   9966.02   2017  \n",
       "3                  22  11367.58   2017  \n",
       "4                  15  11751.11   2017  \n",
       "...               ...       ...    ...  \n",
       "26189              66  12862.35   2021  \n",
       "26191              37  12735.78   2021  \n",
       "26193              26  12016.77   2021  \n",
       "26194              13  12017.18   2021  \n",
       "26195              32  11544.67   2021  \n",
       "\n",
       "[24353 rows x 7 columns]"
      ]
     },
     "metadata": {},
     "output_type": "display_data"
    }
   ],
   "source": [
    "#On retire les colonnes qui sont à priori inutiles ET nous allons nous concentrer sur les appartements dans un premier temps\n",
    "df_appartement = df_historique[df_historique['type_local']=='Appartement']\n",
    "df_appartement['Annee'] = df_appartement['date_mutation'].dt.year\n",
    "df_appartement.drop(['adresse_numero','adresse_nom_voie','nom_commune','code_type_local'],axis=1,inplace=True)\n",
    "display(df_appartement)"
   ]
  },
  {
   "cell_type": "code",
   "execution_count": 9,
   "id": "865eca76",
   "metadata": {},
   "outputs": [
    {
     "data": {
      "text/html": [
       "<div>\n",
       "<style scoped>\n",
       "    .dataframe tbody tr th:only-of-type {\n",
       "        vertical-align: middle;\n",
       "    }\n",
       "\n",
       "    .dataframe tbody tr th {\n",
       "        vertical-align: top;\n",
       "    }\n",
       "\n",
       "    .dataframe thead th {\n",
       "        text-align: right;\n",
       "    }\n",
       "</style>\n",
       "<table border=\"1\" class=\"dataframe\">\n",
       "  <thead>\n",
       "    <tr style=\"text-align: right;\">\n",
       "      <th></th>\n",
       "      <th>valeur_fonciere</th>\n",
       "      <th>surface_reelle</th>\n",
       "      <th>prix_m2</th>\n",
       "    </tr>\n",
       "    <tr>\n",
       "      <th>Annee</th>\n",
       "      <th></th>\n",
       "      <th></th>\n",
       "      <th></th>\n",
       "    </tr>\n",
       "  </thead>\n",
       "  <tbody>\n",
       "    <tr>\n",
       "      <th>2017</th>\n",
       "      <td>427963.24</td>\n",
       "      <td>44.63</td>\n",
       "      <td>9492.86</td>\n",
       "    </tr>\n",
       "    <tr>\n",
       "      <th>2018</th>\n",
       "      <td>448055.76</td>\n",
       "      <td>44.27</td>\n",
       "      <td>10031.40</td>\n",
       "    </tr>\n",
       "    <tr>\n",
       "      <th>2019</th>\n",
       "      <td>461950.06</td>\n",
       "      <td>43.36</td>\n",
       "      <td>10562.71</td>\n",
       "    </tr>\n",
       "    <tr>\n",
       "      <th>2020</th>\n",
       "      <td>462383.25</td>\n",
       "      <td>42.90</td>\n",
       "      <td>10674.87</td>\n",
       "    </tr>\n",
       "    <tr>\n",
       "      <th>2021</th>\n",
       "      <td>458771.51</td>\n",
       "      <td>43.48</td>\n",
       "      <td>10455.60</td>\n",
       "    </tr>\n",
       "  </tbody>\n",
       "</table>\n",
       "</div>"
      ],
      "text/plain": [
       "       valeur_fonciere  surface_reelle   prix_m2\n",
       "Annee                                           \n",
       "2017         427963.24           44.63   9492.86\n",
       "2018         448055.76           44.27  10031.40\n",
       "2019         461950.06           43.36  10562.71\n",
       "2020         462383.25           42.90  10674.87\n",
       "2021         458771.51           43.48  10455.60"
      ]
     },
     "metadata": {},
     "output_type": "display_data"
    }
   ],
   "source": [
    "#Préparons un dataframe en regroupant les prix moyens de ventes des appartements par année avec la surface moyenne associée\n",
    "df_all_appart = pd.DataFrame(\n",
    "    round(df_appartement.groupby('Annee').mean('prix_m2'),2),\n",
    "    columns=['valeur_fonciere','surface_reelle','prix_m2']\n",
    ")\n",
    "display(df_all_appart)"
   ]
  },
  {
   "cell_type": "markdown",
   "id": "cb200fe8",
   "metadata": {},
   "source": [
    "On constate sur la moyenne des prix de vente des appartements à Paris que le prix du m2 a augmenté au fil des années avec un pic en 2020 puis a connu une baisse en 2021 <br>\n",
    "Nous allons créer un graphique pour mieux le visualiser."
   ]
  },
  {
   "cell_type": "code",
   "execution_count": 10,
   "id": "3c0d6baf",
   "metadata": {},
   "outputs": [
    {
     "data": {
      "application/vnd.plotly.v1+json": {
       "config": {
        "plotlyServerURL": "https://plot.ly"
       },
       "data": [
        {
         "hovertemplate": "Année=%{x}<br>Prix du m2 (€)=%{y}<extra></extra>",
         "legendgroup": "",
         "line": {
          "color": "#636efa",
          "dash": "solid"
         },
         "marker": {
          "symbol": "circle"
         },
         "mode": "lines+markers",
         "name": "",
         "orientation": "v",
         "showlegend": false,
         "type": "scatter",
         "x": [
          "2017",
          "2018",
          "2019",
          "2020",
          "2021"
         ],
         "xaxis": "x",
         "y": {
          "bdata": "SOF6FG6KwkAzMzMzs5fDQBSuR+FaocRAw/UoXG/ZxEDNzMzMzGvEQA==",
          "dtype": "f8"
         },
         "yaxis": "y"
        }
       ],
       "layout": {
        "legend": {
         "tracegroupgap": 0
        },
        "template": {
         "data": {
          "bar": [
           {
            "error_x": {
             "color": "#2a3f5f"
            },
            "error_y": {
             "color": "#2a3f5f"
            },
            "marker": {
             "line": {
              "color": "#E5ECF6",
              "width": 0.5
             },
             "pattern": {
              "fillmode": "overlay",
              "size": 10,
              "solidity": 0.2
             }
            },
            "type": "bar"
           }
          ],
          "barpolar": [
           {
            "marker": {
             "line": {
              "color": "#E5ECF6",
              "width": 0.5
             },
             "pattern": {
              "fillmode": "overlay",
              "size": 10,
              "solidity": 0.2
             }
            },
            "type": "barpolar"
           }
          ],
          "carpet": [
           {
            "aaxis": {
             "endlinecolor": "#2a3f5f",
             "gridcolor": "white",
             "linecolor": "white",
             "minorgridcolor": "white",
             "startlinecolor": "#2a3f5f"
            },
            "baxis": {
             "endlinecolor": "#2a3f5f",
             "gridcolor": "white",
             "linecolor": "white",
             "minorgridcolor": "white",
             "startlinecolor": "#2a3f5f"
            },
            "type": "carpet"
           }
          ],
          "choropleth": [
           {
            "colorbar": {
             "outlinewidth": 0,
             "ticks": ""
            },
            "type": "choropleth"
           }
          ],
          "contour": [
           {
            "colorbar": {
             "outlinewidth": 0,
             "ticks": ""
            },
            "colorscale": [
             [
              0,
              "#0d0887"
             ],
             [
              0.1111111111111111,
              "#46039f"
             ],
             [
              0.2222222222222222,
              "#7201a8"
             ],
             [
              0.3333333333333333,
              "#9c179e"
             ],
             [
              0.4444444444444444,
              "#bd3786"
             ],
             [
              0.5555555555555556,
              "#d8576b"
             ],
             [
              0.6666666666666666,
              "#ed7953"
             ],
             [
              0.7777777777777778,
              "#fb9f3a"
             ],
             [
              0.8888888888888888,
              "#fdca26"
             ],
             [
              1,
              "#f0f921"
             ]
            ],
            "type": "contour"
           }
          ],
          "contourcarpet": [
           {
            "colorbar": {
             "outlinewidth": 0,
             "ticks": ""
            },
            "type": "contourcarpet"
           }
          ],
          "heatmap": [
           {
            "colorbar": {
             "outlinewidth": 0,
             "ticks": ""
            },
            "colorscale": [
             [
              0,
              "#0d0887"
             ],
             [
              0.1111111111111111,
              "#46039f"
             ],
             [
              0.2222222222222222,
              "#7201a8"
             ],
             [
              0.3333333333333333,
              "#9c179e"
             ],
             [
              0.4444444444444444,
              "#bd3786"
             ],
             [
              0.5555555555555556,
              "#d8576b"
             ],
             [
              0.6666666666666666,
              "#ed7953"
             ],
             [
              0.7777777777777778,
              "#fb9f3a"
             ],
             [
              0.8888888888888888,
              "#fdca26"
             ],
             [
              1,
              "#f0f921"
             ]
            ],
            "type": "heatmap"
           }
          ],
          "histogram": [
           {
            "marker": {
             "pattern": {
              "fillmode": "overlay",
              "size": 10,
              "solidity": 0.2
             }
            },
            "type": "histogram"
           }
          ],
          "histogram2d": [
           {
            "colorbar": {
             "outlinewidth": 0,
             "ticks": ""
            },
            "colorscale": [
             [
              0,
              "#0d0887"
             ],
             [
              0.1111111111111111,
              "#46039f"
             ],
             [
              0.2222222222222222,
              "#7201a8"
             ],
             [
              0.3333333333333333,
              "#9c179e"
             ],
             [
              0.4444444444444444,
              "#bd3786"
             ],
             [
              0.5555555555555556,
              "#d8576b"
             ],
             [
              0.6666666666666666,
              "#ed7953"
             ],
             [
              0.7777777777777778,
              "#fb9f3a"
             ],
             [
              0.8888888888888888,
              "#fdca26"
             ],
             [
              1,
              "#f0f921"
             ]
            ],
            "type": "histogram2d"
           }
          ],
          "histogram2dcontour": [
           {
            "colorbar": {
             "outlinewidth": 0,
             "ticks": ""
            },
            "colorscale": [
             [
              0,
              "#0d0887"
             ],
             [
              0.1111111111111111,
              "#46039f"
             ],
             [
              0.2222222222222222,
              "#7201a8"
             ],
             [
              0.3333333333333333,
              "#9c179e"
             ],
             [
              0.4444444444444444,
              "#bd3786"
             ],
             [
              0.5555555555555556,
              "#d8576b"
             ],
             [
              0.6666666666666666,
              "#ed7953"
             ],
             [
              0.7777777777777778,
              "#fb9f3a"
             ],
             [
              0.8888888888888888,
              "#fdca26"
             ],
             [
              1,
              "#f0f921"
             ]
            ],
            "type": "histogram2dcontour"
           }
          ],
          "mesh3d": [
           {
            "colorbar": {
             "outlinewidth": 0,
             "ticks": ""
            },
            "type": "mesh3d"
           }
          ],
          "parcoords": [
           {
            "line": {
             "colorbar": {
              "outlinewidth": 0,
              "ticks": ""
             }
            },
            "type": "parcoords"
           }
          ],
          "pie": [
           {
            "automargin": true,
            "type": "pie"
           }
          ],
          "scatter": [
           {
            "fillpattern": {
             "fillmode": "overlay",
             "size": 10,
             "solidity": 0.2
            },
            "type": "scatter"
           }
          ],
          "scatter3d": [
           {
            "line": {
             "colorbar": {
              "outlinewidth": 0,
              "ticks": ""
             }
            },
            "marker": {
             "colorbar": {
              "outlinewidth": 0,
              "ticks": ""
             }
            },
            "type": "scatter3d"
           }
          ],
          "scattercarpet": [
           {
            "marker": {
             "colorbar": {
              "outlinewidth": 0,
              "ticks": ""
             }
            },
            "type": "scattercarpet"
           }
          ],
          "scattergeo": [
           {
            "marker": {
             "colorbar": {
              "outlinewidth": 0,
              "ticks": ""
             }
            },
            "type": "scattergeo"
           }
          ],
          "scattergl": [
           {
            "marker": {
             "colorbar": {
              "outlinewidth": 0,
              "ticks": ""
             }
            },
            "type": "scattergl"
           }
          ],
          "scattermap": [
           {
            "marker": {
             "colorbar": {
              "outlinewidth": 0,
              "ticks": ""
             }
            },
            "type": "scattermap"
           }
          ],
          "scattermapbox": [
           {
            "marker": {
             "colorbar": {
              "outlinewidth": 0,
              "ticks": ""
             }
            },
            "type": "scattermapbox"
           }
          ],
          "scatterpolar": [
           {
            "marker": {
             "colorbar": {
              "outlinewidth": 0,
              "ticks": ""
             }
            },
            "type": "scatterpolar"
           }
          ],
          "scatterpolargl": [
           {
            "marker": {
             "colorbar": {
              "outlinewidth": 0,
              "ticks": ""
             }
            },
            "type": "scatterpolargl"
           }
          ],
          "scatterternary": [
           {
            "marker": {
             "colorbar": {
              "outlinewidth": 0,
              "ticks": ""
             }
            },
            "type": "scatterternary"
           }
          ],
          "surface": [
           {
            "colorbar": {
             "outlinewidth": 0,
             "ticks": ""
            },
            "colorscale": [
             [
              0,
              "#0d0887"
             ],
             [
              0.1111111111111111,
              "#46039f"
             ],
             [
              0.2222222222222222,
              "#7201a8"
             ],
             [
              0.3333333333333333,
              "#9c179e"
             ],
             [
              0.4444444444444444,
              "#bd3786"
             ],
             [
              0.5555555555555556,
              "#d8576b"
             ],
             [
              0.6666666666666666,
              "#ed7953"
             ],
             [
              0.7777777777777778,
              "#fb9f3a"
             ],
             [
              0.8888888888888888,
              "#fdca26"
             ],
             [
              1,
              "#f0f921"
             ]
            ],
            "type": "surface"
           }
          ],
          "table": [
           {
            "cells": {
             "fill": {
              "color": "#EBF0F8"
             },
             "line": {
              "color": "white"
             }
            },
            "header": {
             "fill": {
              "color": "#C8D4E3"
             },
             "line": {
              "color": "white"
             }
            },
            "type": "table"
           }
          ]
         },
         "layout": {
          "annotationdefaults": {
           "arrowcolor": "#2a3f5f",
           "arrowhead": 0,
           "arrowwidth": 1
          },
          "autotypenumbers": "strict",
          "coloraxis": {
           "colorbar": {
            "outlinewidth": 0,
            "ticks": ""
           }
          },
          "colorscale": {
           "diverging": [
            [
             0,
             "#8e0152"
            ],
            [
             0.1,
             "#c51b7d"
            ],
            [
             0.2,
             "#de77ae"
            ],
            [
             0.3,
             "#f1b6da"
            ],
            [
             0.4,
             "#fde0ef"
            ],
            [
             0.5,
             "#f7f7f7"
            ],
            [
             0.6,
             "#e6f5d0"
            ],
            [
             0.7,
             "#b8e186"
            ],
            [
             0.8,
             "#7fbc41"
            ],
            [
             0.9,
             "#4d9221"
            ],
            [
             1,
             "#276419"
            ]
           ],
           "sequential": [
            [
             0,
             "#0d0887"
            ],
            [
             0.1111111111111111,
             "#46039f"
            ],
            [
             0.2222222222222222,
             "#7201a8"
            ],
            [
             0.3333333333333333,
             "#9c179e"
            ],
            [
             0.4444444444444444,
             "#bd3786"
            ],
            [
             0.5555555555555556,
             "#d8576b"
            ],
            [
             0.6666666666666666,
             "#ed7953"
            ],
            [
             0.7777777777777778,
             "#fb9f3a"
            ],
            [
             0.8888888888888888,
             "#fdca26"
            ],
            [
             1,
             "#f0f921"
            ]
           ],
           "sequentialminus": [
            [
             0,
             "#0d0887"
            ],
            [
             0.1111111111111111,
             "#46039f"
            ],
            [
             0.2222222222222222,
             "#7201a8"
            ],
            [
             0.3333333333333333,
             "#9c179e"
            ],
            [
             0.4444444444444444,
             "#bd3786"
            ],
            [
             0.5555555555555556,
             "#d8576b"
            ],
            [
             0.6666666666666666,
             "#ed7953"
            ],
            [
             0.7777777777777778,
             "#fb9f3a"
            ],
            [
             0.8888888888888888,
             "#fdca26"
            ],
            [
             1,
             "#f0f921"
            ]
           ]
          },
          "colorway": [
           "#636efa",
           "#EF553B",
           "#00cc96",
           "#ab63fa",
           "#FFA15A",
           "#19d3f3",
           "#FF6692",
           "#B6E880",
           "#FF97FF",
           "#FECB52"
          ],
          "font": {
           "color": "#2a3f5f"
          },
          "geo": {
           "bgcolor": "white",
           "lakecolor": "white",
           "landcolor": "#E5ECF6",
           "showlakes": true,
           "showland": true,
           "subunitcolor": "white"
          },
          "hoverlabel": {
           "align": "left"
          },
          "hovermode": "closest",
          "mapbox": {
           "style": "light"
          },
          "paper_bgcolor": "white",
          "plot_bgcolor": "#E5ECF6",
          "polar": {
           "angularaxis": {
            "gridcolor": "white",
            "linecolor": "white",
            "ticks": ""
           },
           "bgcolor": "#E5ECF6",
           "radialaxis": {
            "gridcolor": "white",
            "linecolor": "white",
            "ticks": ""
           }
          },
          "scene": {
           "xaxis": {
            "backgroundcolor": "#E5ECF6",
            "gridcolor": "white",
            "gridwidth": 2,
            "linecolor": "white",
            "showbackground": true,
            "ticks": "",
            "zerolinecolor": "white"
           },
           "yaxis": {
            "backgroundcolor": "#E5ECF6",
            "gridcolor": "white",
            "gridwidth": 2,
            "linecolor": "white",
            "showbackground": true,
            "ticks": "",
            "zerolinecolor": "white"
           },
           "zaxis": {
            "backgroundcolor": "#E5ECF6",
            "gridcolor": "white",
            "gridwidth": 2,
            "linecolor": "white",
            "showbackground": true,
            "ticks": "",
            "zerolinecolor": "white"
           }
          },
          "shapedefaults": {
           "line": {
            "color": "#2a3f5f"
           }
          },
          "ternary": {
           "aaxis": {
            "gridcolor": "white",
            "linecolor": "white",
            "ticks": ""
           },
           "baxis": {
            "gridcolor": "white",
            "linecolor": "white",
            "ticks": ""
           },
           "bgcolor": "#E5ECF6",
           "caxis": {
            "gridcolor": "white",
            "linecolor": "white",
            "ticks": ""
           }
          },
          "title": {
           "x": 0.05
          },
          "xaxis": {
           "automargin": true,
           "gridcolor": "white",
           "linecolor": "white",
           "ticks": "",
           "title": {
            "standoff": 15
           },
           "zerolinecolor": "white",
           "zerolinewidth": 2
          },
          "yaxis": {
           "automargin": true,
           "gridcolor": "white",
           "linecolor": "white",
           "ticks": "",
           "title": {
            "standoff": 15
           },
           "zerolinecolor": "white",
           "zerolinewidth": 2
          }
         }
        },
        "title": {
         "text": "Visualisation de la hausse moyenne des prix du m2 à Paris"
        },
        "xaxis": {
         "anchor": "y",
         "domain": [
          0,
          1
         ],
         "title": {
          "text": "Année"
         }
        },
        "yaxis": {
         "anchor": "x",
         "domain": [
          0,
          1
         ],
         "title": {
          "text": "Prix du m2 (€)"
         }
        }
       }
      },
      "image/png": "[encoded data removed]"
     },
     "metadata": {},
     "output_type": "display_data"
    }
   ],
   "source": [
    "#Création d'un graphique pour visualiser la hausse de la moyenne des prix\n",
    "liste_annee = ['2017','2018','2019','2020','2021']\n",
    "fig1 = px.line(\n",
    "    df_all_appart,\n",
    "      x=liste_annee,\n",
    "        y='prix_m2',\n",
    "        title='Visualisation de la hausse moyenne des prix du m2 à Paris',\n",
    "        markers=True,\n",
    "        labels={'x':'Année','prix_m2':'Prix du m2 (€)'}\n",
    "        )\n",
    "fig1.show()"
   ]
  },
  {
   "cell_type": "markdown",
   "id": "452fe405",
   "metadata": {},
   "source": [
    "### 6. Différences de prix au metre carré entre les arrondissements"
   ]
  },
  {
   "cell_type": "markdown",
   "id": "d4415dbb",
   "metadata": {},
   "source": [
    "Maintenant nous allons chercher à afficher l'évolution des prix par arrondissement. Vérifions la liste des arrondissements que nous avons dans nos données. Normalement à Paris nous avons 20 codes postaux différents, 1 par arrondissement allant de 75001 à 75020."
   ]
  },
  {
   "cell_type": "code",
   "execution_count": 11,
   "id": "a855fc89",
   "metadata": {},
   "outputs": [
    {
     "name": "stdout",
     "output_type": "stream",
     "text": [
      "[75003 75008 75001 75006 75005 75007 75010 75009 75011 75012 75013 75014\n",
      " 75015 75016 75017 75018 75020 75019 75004 75002]\n"
     ]
    }
   ],
   "source": [
    "#Liste des codes postaux dans nos données.\n",
    "listing_cp = df_appartement['code_postal'].unique()\n",
    "print(listing_cp)\n"
   ]
  },
  {
   "cell_type": "code",
   "execution_count": 12,
   "id": "27c2e1b4",
   "metadata": {},
   "outputs": [
    {
     "data": {
      "text/html": [
       "<div>\n",
       "<style scoped>\n",
       "    .dataframe tbody tr th:only-of-type {\n",
       "        vertical-align: middle;\n",
       "    }\n",
       "\n",
       "    .dataframe tbody tr th {\n",
       "        vertical-align: top;\n",
       "    }\n",
       "\n",
       "    .dataframe thead tr th {\n",
       "        text-align: left;\n",
       "    }\n",
       "\n",
       "    .dataframe thead tr:last-of-type th {\n",
       "        text-align: right;\n",
       "    }\n",
       "</style>\n",
       "<table border=\"1\" class=\"dataframe\">\n",
       "  <thead>\n",
       "    <tr>\n",
       "      <th></th>\n",
       "      <th colspan=\"20\" halign=\"left\">prix_m2</th>\n",
       "    </tr>\n",
       "    <tr>\n",
       "      <th>code_postal</th>\n",
       "      <th>75001</th>\n",
       "      <th>75002</th>\n",
       "      <th>75003</th>\n",
       "      <th>75004</th>\n",
       "      <th>75005</th>\n",
       "      <th>75006</th>\n",
       "      <th>75007</th>\n",
       "      <th>75008</th>\n",
       "      <th>75009</th>\n",
       "      <th>75010</th>\n",
       "      <th>75011</th>\n",
       "      <th>75012</th>\n",
       "      <th>75013</th>\n",
       "      <th>75014</th>\n",
       "      <th>75015</th>\n",
       "      <th>75016</th>\n",
       "      <th>75017</th>\n",
       "      <th>75018</th>\n",
       "      <th>75019</th>\n",
       "      <th>75020</th>\n",
       "    </tr>\n",
       "    <tr>\n",
       "      <th>Annee</th>\n",
       "      <th></th>\n",
       "      <th></th>\n",
       "      <th></th>\n",
       "      <th></th>\n",
       "      <th></th>\n",
       "      <th></th>\n",
       "      <th></th>\n",
       "      <th></th>\n",
       "      <th></th>\n",
       "      <th></th>\n",
       "      <th></th>\n",
       "      <th></th>\n",
       "      <th></th>\n",
       "      <th></th>\n",
       "      <th></th>\n",
       "      <th></th>\n",
       "      <th></th>\n",
       "      <th></th>\n",
       "      <th></th>\n",
       "      <th></th>\n",
       "    </tr>\n",
       "  </thead>\n",
       "  <tbody>\n",
       "    <tr>\n",
       "      <th>2017</th>\n",
       "      <td>11762.71</td>\n",
       "      <td>10920.13</td>\n",
       "      <td>11679.82</td>\n",
       "      <td>12407.23</td>\n",
       "      <td>11306.75</td>\n",
       "      <td>12508.84</td>\n",
       "      <td>11845.12</td>\n",
       "      <td>10132.80</td>\n",
       "      <td>9582.31</td>\n",
       "      <td>8747.00</td>\n",
       "      <td>9137.78</td>\n",
       "      <td>8454.85</td>\n",
       "      <td>8344.89</td>\n",
       "      <td>9054.81</td>\n",
       "      <td>9097.89</td>\n",
       "      <td>9808.82</td>\n",
       "      <td>9336.87</td>\n",
       "      <td>8466.30</td>\n",
       "      <td>7621.76</td>\n",
       "      <td>7886.02</td>\n",
       "    </tr>\n",
       "    <tr>\n",
       "      <th>2018</th>\n",
       "      <td>12621.23</td>\n",
       "      <td>11309.46</td>\n",
       "      <td>12470.00</td>\n",
       "      <td>13431.89</td>\n",
       "      <td>12056.44</td>\n",
       "      <td>12896.28</td>\n",
       "      <td>12553.18</td>\n",
       "      <td>10631.30</td>\n",
       "      <td>10187.21</td>\n",
       "      <td>9328.03</td>\n",
       "      <td>9688.95</td>\n",
       "      <td>8937.73</td>\n",
       "      <td>8755.22</td>\n",
       "      <td>9433.54</td>\n",
       "      <td>9328.04</td>\n",
       "      <td>10244.44</td>\n",
       "      <td>9880.66</td>\n",
       "      <td>9152.93</td>\n",
       "      <td>8265.86</td>\n",
       "      <td>8485.16</td>\n",
       "    </tr>\n",
       "    <tr>\n",
       "      <th>2019</th>\n",
       "      <td>13269.26</td>\n",
       "      <td>12150.54</td>\n",
       "      <td>12813.40</td>\n",
       "      <td>13641.49</td>\n",
       "      <td>12928.38</td>\n",
       "      <td>13378.07</td>\n",
       "      <td>12921.89</td>\n",
       "      <td>11195.45</td>\n",
       "      <td>10957.78</td>\n",
       "      <td>9999.13</td>\n",
       "      <td>10376.91</td>\n",
       "      <td>9497.68</td>\n",
       "      <td>9340.37</td>\n",
       "      <td>10027.17</td>\n",
       "      <td>9822.11</td>\n",
       "      <td>10825.03</td>\n",
       "      <td>10399.61</td>\n",
       "      <td>9928.34</td>\n",
       "      <td>8850.26</td>\n",
       "      <td>9093.99</td>\n",
       "    </tr>\n",
       "    <tr>\n",
       "      <th>2020</th>\n",
       "      <td>13405.99</td>\n",
       "      <td>12181.59</td>\n",
       "      <td>12834.31</td>\n",
       "      <td>13104.74</td>\n",
       "      <td>12959.76</td>\n",
       "      <td>13807.09</td>\n",
       "      <td>13109.83</td>\n",
       "      <td>11702.93</td>\n",
       "      <td>10981.24</td>\n",
       "      <td>10200.33</td>\n",
       "      <td>10533.07</td>\n",
       "      <td>9691.11</td>\n",
       "      <td>9333.90</td>\n",
       "      <td>10107.80</td>\n",
       "      <td>10061.24</td>\n",
       "      <td>10911.14</td>\n",
       "      <td>10536.29</td>\n",
       "      <td>9946.89</td>\n",
       "      <td>8982.62</td>\n",
       "      <td>9329.31</td>\n",
       "    </tr>\n",
       "    <tr>\n",
       "      <th>2021</th>\n",
       "      <td>13379.50</td>\n",
       "      <td>11773.45</td>\n",
       "      <td>12660.55</td>\n",
       "      <td>12936.96</td>\n",
       "      <td>12605.84</td>\n",
       "      <td>13795.05</td>\n",
       "      <td>13118.14</td>\n",
       "      <td>11710.09</td>\n",
       "      <td>10732.18</td>\n",
       "      <td>10043.47</td>\n",
       "      <td>10351.64</td>\n",
       "      <td>9657.98</td>\n",
       "      <td>9164.63</td>\n",
       "      <td>9993.62</td>\n",
       "      <td>9971.24</td>\n",
       "      <td>10790.31</td>\n",
       "      <td>10372.37</td>\n",
       "      <td>9665.64</td>\n",
       "      <td>8828.59</td>\n",
       "      <td>9114.40</td>\n",
       "    </tr>\n",
       "  </tbody>\n",
       "</table>\n",
       "</div>"
      ],
      "text/plain": [
       "              prix_m2                                                    \\\n",
       "code_postal     75001     75002     75003     75004     75005     75006   \n",
       "Annee                                                                     \n",
       "2017         11762.71  10920.13  11679.82  12407.23  11306.75  12508.84   \n",
       "2018         12621.23  11309.46  12470.00  13431.89  12056.44  12896.28   \n",
       "2019         13269.26  12150.54  12813.40  13641.49  12928.38  13378.07   \n",
       "2020         13405.99  12181.59  12834.31  13104.74  12959.76  13807.09   \n",
       "2021         13379.50  11773.45  12660.55  12936.96  12605.84  13795.05   \n",
       "\n",
       "                                                                        \\\n",
       "code_postal     75007     75008     75009     75010     75011    75012   \n",
       "Annee                                                                    \n",
       "2017         11845.12  10132.80   9582.31   8747.00   9137.78  8454.85   \n",
       "2018         12553.18  10631.30  10187.21   9328.03   9688.95  8937.73   \n",
       "2019         12921.89  11195.45  10957.78   9999.13  10376.91  9497.68   \n",
       "2020         13109.83  11702.93  10981.24  10200.33  10533.07  9691.11   \n",
       "2021         13118.14  11710.09  10732.18  10043.47  10351.64  9657.98   \n",
       "\n",
       "                                                                       \\\n",
       "code_postal    75013     75014     75015     75016     75017    75018   \n",
       "Annee                                                                   \n",
       "2017         8344.89   9054.81   9097.89   9808.82   9336.87  8466.30   \n",
       "2018         8755.22   9433.54   9328.04  10244.44   9880.66  9152.93   \n",
       "2019         9340.37  10027.17   9822.11  10825.03  10399.61  9928.34   \n",
       "2020         9333.90  10107.80  10061.24  10911.14  10536.29  9946.89   \n",
       "2021         9164.63   9993.62   9971.24  10790.31  10372.37  9665.64   \n",
       "\n",
       "                               \n",
       "code_postal    75019    75020  \n",
       "Annee                          \n",
       "2017         7621.76  7886.02  \n",
       "2018         8265.86  8485.16  \n",
       "2019         8850.26  9093.99  \n",
       "2020         8982.62  9329.31  \n",
       "2021         8828.59  9114.40  "
      ]
     },
     "metadata": {},
     "output_type": "display_data"
    }
   ],
   "source": [
    "#Créeons un dataframe pour une deuxième visualisation avec l'evolution des prix par arrondissement\n",
    "df_evolution_all = round(df_appartement.pivot_table(index='Annee',columns='code_postal',values=['prix_m2']),2)\n",
    "display(df_evolution_all)"
   ]
  },
  {
   "cell_type": "code",
   "execution_count": 13,
   "id": "5c9f7217",
   "metadata": {},
   "outputs": [
    {
     "data": {
      "application/vnd.plotly.v1+json": {
       "config": {
        "plotlyServerURL": "https://plot.ly"
       },
       "data": [
        {
         "hovertemplate": "Annee=%{x}<br>Prix du m2 (€)=%{y}<extra></extra>",
         "legendgroup": "",
         "line": {
          "color": "#636efa",
          "dash": "solid"
         },
         "marker": {
          "symbol": "circle"
         },
         "mode": "lines+markers",
         "name": "",
         "orientation": "v",
         "showlegend": false,
         "type": "scatter",
         "x": [
          "2017",
          "2018",
          "2019",
          "2020",
          "2021"
         ],
         "xaxis": "x",
         "y": {
          "bdata": "FK5H4Vr5xkAK16NwnabIQHsUrkeh6slAhetRuP4uykAAAAAAwCHKQA==",
          "dtype": "f8"
         },
         "yaxis": "y"
        }
       ],
       "layout": {
        "legend": {
         "tracegroupgap": 0
        },
        "template": {
         "data": {
          "bar": [
           {
            "error_x": {
             "color": "#2a3f5f"
            },
            "error_y": {
             "color": "#2a3f5f"
            },
            "marker": {
             "line": {
              "color": "#E5ECF6",
              "width": 0.5
             },
             "pattern": {
              "fillmode": "overlay",
              "size": 10,
              "solidity": 0.2
             }
            },
            "type": "bar"
           }
          ],
          "barpolar": [
           {
            "marker": {
             "line": {
              "color": "#E5ECF6",
              "width": 0.5
             },
             "pattern": {
              "fillmode": "overlay",
              "size": 10,
              "solidity": 0.2
             }
            },
            "type": "barpolar"
           }
          ],
          "carpet": [
           {
            "aaxis": {
             "endlinecolor": "#2a3f5f",
             "gridcolor": "white",
             "linecolor": "white",
             "minorgridcolor": "white",
             "startlinecolor": "#2a3f5f"
            },
            "baxis": {
             "endlinecolor": "#2a3f5f",
             "gridcolor": "white",
             "linecolor": "white",
             "minorgridcolor": "white",
             "startlinecolor": "#2a3f5f"
            },
            "type": "carpet"
           }
          ],
          "choropleth": [
           {
            "colorbar": {
             "outlinewidth": 0,
             "ticks": ""
            },
            "type": "choropleth"
           }
          ],
          "contour": [
           {
            "colorbar": {
             "outlinewidth": 0,
             "ticks": ""
            },
            "colorscale": [
             [
              0,
              "#0d0887"
             ],
             [
              0.1111111111111111,
              "#46039f"
             ],
             [
              0.2222222222222222,
              "#7201a8"
             ],
             [
              0.3333333333333333,
              "#9c179e"
             ],
             [
              0.4444444444444444,
              "#bd3786"
             ],
             [
              0.5555555555555556,
              "#d8576b"
             ],
             [
              0.6666666666666666,
              "#ed7953"
             ],
             [
              0.7777777777777778,
              "#fb9f3a"
             ],
             [
              0.8888888888888888,
              "#fdca26"
             ],
             [
              1,
              "#f0f921"
             ]
            ],
            "type": "contour"
           }
          ],
          "contourcarpet": [
           {
            "colorbar": {
             "outlinewidth": 0,
             "ticks": ""
            },
            "type": "contourcarpet"
           }
          ],
          "heatmap": [
           {
            "colorbar": {
             "outlinewidth": 0,
             "ticks": ""
            },
            "colorscale": [
             [
              0,
              "#0d0887"
             ],
             [
              0.1111111111111111,
              "#46039f"
             ],
             [
              0.2222222222222222,
              "#7201a8"
             ],
             [
              0.3333333333333333,
              "#9c179e"
             ],
             [
              0.4444444444444444,
              "#bd3786"
             ],
             [
              0.5555555555555556,
              "#d8576b"
             ],
             [
              0.6666666666666666,
              "#ed7953"
             ],
             [
              0.7777777777777778,
              "#fb9f3a"
             ],
             [
              0.8888888888888888,
              "#fdca26"
             ],
             [
              1,
              "#f0f921"
             ]
            ],
            "type": "heatmap"
           }
          ],
          "histogram": [
           {
            "marker": {
             "pattern": {
              "fillmode": "overlay",
              "size": 10,
              "solidity": 0.2
             }
            },
            "type": "histogram"
           }
          ],
          "histogram2d": [
           {
            "colorbar": {
             "outlinewidth": 0,
             "ticks": ""
            },
            "colorscale": [
             [
              0,
              "#0d0887"
             ],
             [
              0.1111111111111111,
              "#46039f"
             ],
             [
              0.2222222222222222,
              "#7201a8"
             ],
             [
              0.3333333333333333,
              "#9c179e"
             ],
             [
              0.4444444444444444,
              "#bd3786"
             ],
             [
              0.5555555555555556,
              "#d8576b"
             ],
             [
              0.6666666666666666,
              "#ed7953"
             ],
             [
              0.7777777777777778,
              "#fb9f3a"
             ],
             [
              0.8888888888888888,
              "#fdca26"
             ],
             [
              1,
              "#f0f921"
             ]
            ],
            "type": "histogram2d"
           }
          ],
          "histogram2dcontour": [
           {
            "colorbar": {
             "outlinewidth": 0,
             "ticks": ""
            },
            "colorscale": [
             [
              0,
              "#0d0887"
             ],
             [
              0.1111111111111111,
              "#46039f"
             ],
             [
              0.2222222222222222,
              "#7201a8"
             ],
             [
              0.3333333333333333,
              "#9c179e"
             ],
             [
              0.4444444444444444,
              "#bd3786"
             ],
             [
              0.5555555555555556,
              "#d8576b"
             ],
             [
              0.6666666666666666,
              "#ed7953"
             ],
             [
              0.7777777777777778,
              "#fb9f3a"
             ],
             [
              0.8888888888888888,
              "#fdca26"
             ],
             [
              1,
              "#f0f921"
             ]
            ],
            "type": "histogram2dcontour"
           }
          ],
          "mesh3d": [
           {
            "colorbar": {
             "outlinewidth": 0,
             "ticks": ""
            },
            "type": "mesh3d"
           }
          ],
          "parcoords": [
           {
            "line": {
             "colorbar": {
              "outlinewidth": 0,
              "ticks": ""
             }
            },
            "type": "parcoords"
           }
          ],
          "pie": [
           {
            "automargin": true,
            "type": "pie"
           }
          ],
          "scatter": [
           {
            "fillpattern": {
             "fillmode": "overlay",
             "size": 10,
             "solidity": 0.2
            },
            "type": "scatter"
           }
          ],
          "scatter3d": [
           {
            "line": {
             "colorbar": {
              "outlinewidth": 0,
              "ticks": ""
             }
            },
            "marker": {
             "colorbar": {
              "outlinewidth": 0,
              "ticks": ""
             }
            },
            "type": "scatter3d"
           }
          ],
          "scattercarpet": [
           {
            "marker": {
             "colorbar": {
              "outlinewidth": 0,
              "ticks": ""
             }
            },
            "type": "scattercarpet"
           }
          ],
          "scattergeo": [
           {
            "marker": {
             "colorbar": {
              "outlinewidth": 0,
              "ticks": ""
             }
            },
            "type": "scattergeo"
           }
          ],
          "scattergl": [
           {
            "marker": {
             "colorbar": {
              "outlinewidth": 0,
              "ticks": ""
             }
            },
            "type": "scattergl"
           }
          ],
          "scattermap": [
           {
            "marker": {
             "colorbar": {
              "outlinewidth": 0,
              "ticks": ""
             }
            },
            "type": "scattermap"
           }
          ],
          "scattermapbox": [
           {
            "marker": {
             "colorbar": {
              "outlinewidth": 0,
              "ticks": ""
             }
            },
            "type": "scattermapbox"
           }
          ],
          "scatterpolar": [
           {
            "marker": {
             "colorbar": {
              "outlinewidth": 0,
              "ticks": ""
             }
            },
            "type": "scatterpolar"
           }
          ],
          "scatterpolargl": [
           {
            "marker": {
             "colorbar": {
              "outlinewidth": 0,
              "ticks": ""
             }
            },
            "type": "scatterpolargl"
           }
          ],
          "scatterternary": [
           {
            "marker": {
             "colorbar": {
              "outlinewidth": 0,
              "ticks": ""
             }
            },
            "type": "scatterternary"
           }
          ],
          "surface": [
           {
            "colorbar": {
             "outlinewidth": 0,
             "ticks": ""
            },
            "colorscale": [
             [
              0,
              "#0d0887"
             ],
             [
              0.1111111111111111,
              "#46039f"
             ],
             [
              0.2222222222222222,
              "#7201a8"
             ],
             [
              0.3333333333333333,
              "#9c179e"
             ],
             [
              0.4444444444444444,
              "#bd3786"
             ],
             [
              0.5555555555555556,
              "#d8576b"
             ],
             [
              0.6666666666666666,
              "#ed7953"
             ],
             [
              0.7777777777777778,
              "#fb9f3a"
             ],
             [
              0.8888888888888888,
              "#fdca26"
             ],
             [
              1,
              "#f0f921"
             ]
            ],
            "type": "surface"
           }
          ],
          "table": [
           {
            "cells": {
             "fill": {
              "color": "#EBF0F8"
             },
             "line": {
              "color": "white"
             }
            },
            "header": {
             "fill": {
              "color": "#C8D4E3"
             },
             "line": {
              "color": "white"
             }
            },
            "type": "table"
           }
          ]
         },
         "layout": {
          "annotationdefaults": {
           "arrowcolor": "#2a3f5f",
           "arrowhead": 0,
           "arrowwidth": 1
          },
          "autotypenumbers": "strict",
          "coloraxis": {
           "colorbar": {
            "outlinewidth": 0,
            "ticks": ""
           }
          },
          "colorscale": {
           "diverging": [
            [
             0,
             "#8e0152"
            ],
            [
             0.1,
             "#c51b7d"
            ],
            [
             0.2,
             "#de77ae"
            ],
            [
             0.3,
             "#f1b6da"
            ],
            [
             0.4,
             "#fde0ef"
            ],
            [
             0.5,
             "#f7f7f7"
            ],
            [
             0.6,
             "#e6f5d0"
            ],
            [
             0.7,
             "#b8e186"
            ],
            [
             0.8,
             "#7fbc41"
            ],
            [
             0.9,
             "#4d9221"
            ],
            [
             1,
             "#276419"
            ]
           ],
           "sequential": [
            [
             0,
             "#0d0887"
            ],
            [
             0.1111111111111111,
             "#46039f"
            ],
            [
             0.2222222222222222,
             "#7201a8"
            ],
            [
             0.3333333333333333,
             "#9c179e"
            ],
            [
             0.4444444444444444,
             "#bd3786"
            ],
            [
             0.5555555555555556,
             "#d8576b"
            ],
            [
             0.6666666666666666,
             "#ed7953"
            ],
            [
             0.7777777777777778,
             "#fb9f3a"
            ],
            [
             0.8888888888888888,
             "#fdca26"
            ],
            [
             1,
             "#f0f921"
            ]
           ],
           "sequentialminus": [
            [
             0,
             "#0d0887"
            ],
            [
             0.1111111111111111,
             "#46039f"
            ],
            [
             0.2222222222222222,
             "#7201a8"
            ],
            [
             0.3333333333333333,
             "#9c179e"
            ],
            [
             0.4444444444444444,
             "#bd3786"
            ],
            [
             0.5555555555555556,
             "#d8576b"
            ],
            [
             0.6666666666666666,
             "#ed7953"
            ],
            [
             0.7777777777777778,
             "#fb9f3a"
            ],
            [
             0.8888888888888888,
             "#fdca26"
            ],
            [
             1,
             "#f0f921"
            ]
           ]
          },
          "colorway": [
           "#636efa",
           "#EF553B",
           "#00cc96",
           "#ab63fa",
           "#FFA15A",
           "#19d3f3",
           "#FF6692",
           "#B6E880",
           "#FF97FF",
           "#FECB52"
          ],
          "font": {
           "color": "#2a3f5f"
          },
          "geo": {
           "bgcolor": "white",
           "lakecolor": "white",
           "landcolor": "#E5ECF6",
           "showlakes": true,
           "showland": true,
           "subunitcolor": "white"
          },
          "hoverlabel": {
           "align": "left"
          },
          "hovermode": "closest",
          "mapbox": {
           "style": "light"
          },
          "paper_bgcolor": "white",
          "plot_bgcolor": "#E5ECF6",
          "polar": {
           "angularaxis": {
            "gridcolor": "white",
            "linecolor": "white",
            "ticks": ""
           },
           "bgcolor": "#E5ECF6",
           "radialaxis": {
            "gridcolor": "white",
            "linecolor": "white",
            "ticks": ""
           }
          },
          "scene": {
           "xaxis": {
            "backgroundcolor": "#E5ECF6",
            "gridcolor": "white",
            "gridwidth": 2,
            "linecolor": "white",
            "showbackground": true,
            "ticks": "",
            "zerolinecolor": "white"
           },
           "yaxis": {
            "backgroundcolor": "#E5ECF6",
            "gridcolor": "white",
            "gridwidth": 2,
            "linecolor": "white",
            "showbackground": true,
            "ticks": "",
            "zerolinecolor": "white"
           },
           "zaxis": {
            "backgroundcolor": "#E5ECF6",
            "gridcolor": "white",
            "gridwidth": 2,
            "linecolor": "white",
            "showbackground": true,
            "ticks": "",
            "zerolinecolor": "white"
           }
          },
          "shapedefaults": {
           "line": {
            "color": "#2a3f5f"
           }
          },
          "ternary": {
           "aaxis": {
            "gridcolor": "white",
            "linecolor": "white",
            "ticks": ""
           },
           "baxis": {
            "gridcolor": "white",
            "linecolor": "white",
            "ticks": ""
           },
           "bgcolor": "#E5ECF6",
           "caxis": {
            "gridcolor": "white",
            "linecolor": "white",
            "ticks": ""
           }
          },
          "title": {
           "x": 0.05
          },
          "xaxis": {
           "automargin": true,
           "gridcolor": "white",
           "linecolor": "white",
           "ticks": "",
           "title": {
            "standoff": 15
           },
           "zerolinecolor": "white",
           "zerolinewidth": 2
          },
          "yaxis": {
           "automargin": true,
           "gridcolor": "white",
           "linecolor": "white",
           "ticks": "",
           "title": {
            "standoff": 15
           },
           "zerolinecolor": "white",
           "zerolinewidth": 2
          }
         }
        },
        "title": {
         "text": "Evolution du prix au m² dans le premier arrondissement"
        },
        "xaxis": {
         "anchor": "y",
         "domain": [
          0,
          1
         ],
         "title": {
          "text": "Annee"
         }
        },
        "yaxis": {
         "anchor": "x",
         "domain": [
          0,
          1
         ],
         "title": {
          "text": "Prix du m2 (€)"
         }
        }
       }
      },
      "image/png": "[encoded data removed]"
     },
     "metadata": {},
     "output_type": "display_data"
    }
   ],
   "source": [
    "#Création d'un graphique pour visualiser la hausse de la moyenne des prix au metre carré dans le premier arrondissement\n",
    "prix_1A = (df_evolution_all.iloc[0:5,0]).to_list()\n",
    "Annee = liste_annee\n",
    "fig2 = px.line(df_evolution_all,\n",
    "                x=Annee,\n",
    "                  y=prix_1A,\n",
    "                  title='Evolution du prix au m² dans le premier arrondissement',\n",
    "                  markers=True,\n",
    "                  labels={'x':'Annee','y':'Prix du m2 (€)'}\n",
    "                          )\n",
    "fig2.show()"
   ]
  },
  {
   "cell_type": "markdown",
   "id": "876fd6f0",
   "metadata": {},
   "source": [
    "Nous allons ajouter à cette visualisation tous les autres arrondissement avec une couleur différente."
   ]
  },
  {
   "cell_type": "code",
   "execution_count": 14,
   "id": "800cfc6d",
   "metadata": {
    "scrolled": true
   },
   "outputs": [
    {
     "data": {
      "application/vnd.plotly.v1+json": {
       "config": {
        "plotlyServerURL": "https://plot.ly"
       },
       "data": [
        {
         "hovertemplate": "variable=Paris 1er Arrondissement<br>Année=%{x}<br>Prix du m2 (€)=%{y}<extra></extra>",
         "legendgroup": "Paris 1er Arrondissement",
         "line": {
          "color": "#636efa",
          "dash": "solid"
         },
         "marker": {
          "symbol": "circle"
         },
         "mode": "lines+markers",
         "name": "Paris 1er Arrondissement",
         "orientation": "v",
         "showlegend": true,
         "type": "scatter",
         "x": [
          "2017",
          "2018",
          "2019",
          "2020",
          "2021"
         ],
         "xaxis": "x",
         "y": {
          "bdata": "FK5H4Vr5xkAK16NwnabIQHsUrkeh6slAhetRuP4uykAAAAAAwCHKQA==",
          "dtype": "f8"
         },
         "yaxis": "y"
        },
        {
         "hovertemplate": "variable=Paris 2nd Arrondissement<br>Année=%{x}<br>Prix du m2 (€)=%{y}<extra></extra>",
         "legendgroup": "Paris 2nd Arrondissement",
         "line": {
          "color": "#EF553B",
          "dash": "solid"
         },
         "marker": {
          "symbol": "circle"
         },
         "mode": "lines+markers",
         "name": "Paris 2nd Arrondissement",
         "orientation": "v",
         "showlegend": true,
         "type": "scatter",
         "x": [
          "2017",
          "2018",
          "2019",
          "2020",
          "2021"
         ],
         "xaxis": "x",
         "y": {
          "bdata": "PQrXoxBUxUAUrkfhuhbGQOxRuB5Fu8dAUrgehcvKx0CamZmZuf7GQA==",
          "dtype": "f8"
         },
         "yaxis": "y"
        },
        {
         "hovertemplate": "variable=Paris 3e Arrondissement<br>Année=%{x}<br>Prix du m2 (€)=%{y}<extra></extra>",
         "legendgroup": "Paris 3e Arrondissement",
         "line": {
          "color": "#00cc96",
          "dash": "solid"
         },
         "marker": {
          "symbol": "circle"
         },
         "mode": "lines+markers",
         "name": "Paris 3e Arrondissement",
         "orientation": "v",
         "showlegend": true,
         "type": "scatter",
         "x": [
          "2017",
          "2018",
          "2019",
          "2020",
          "2021"
         ],
         "xaxis": "x",
         "y": {
          "bdata": "XI/C9ejPxkAAAAAAAFvIQDMzMzOzBslA4XoUricRyUBmZmZmRrrIQA==",
          "dtype": "f8"
         },
         "yaxis": "y"
        },
        {
         "hovertemplate": "variable=Paris 4e Arrondissement<br>Année=%{x}<br>Prix du m2 (€)=%{y}<extra></extra>",
         "legendgroup": "Paris 4e Arrondissement",
         "line": {
          "color": "#ab63fa",
          "dash": "solid"
         },
         "marker": {
          "symbol": "circle"
         },
         "mode": "lines+markers",
         "name": "Paris 4e Arrondissement",
         "orientation": "v",
         "showlegend": true,
         "type": "scatter",
         "x": [
          "2017",
          "2018",
          "2019",
          "2020",
          "2021"
         ],
         "xaxis": "x",
         "y": {
          "bdata": "CtejcJ07yEC4HoXr8TvKQIXrUbi+pMpAhetRuF6YyUAUrkfhekTJQA==",
          "dtype": "f8"
         },
         "yaxis": "y"
        },
        {
         "hovertemplate": "variable=Paris 5e Arrondissement<br>Année=%{x}<br>Prix du m2 (€)=%{y}<extra></extra>",
         "legendgroup": "Paris 5e Arrondissement",
         "line": {
          "color": "#FFA15A",
          "dash": "solid"
         },
         "marker": {
          "symbol": "circle"
         },
         "mode": "lines+markers",
         "name": "Paris 5e Arrondissement",
         "orientation": "v",
         "showlegend": true,
         "type": "scatter",
         "x": [
          "2017",
          "2018",
          "2019",
          "2020",
          "2021"
         ],
         "xaxis": "x",
         "y": {
          "bdata": "AAAAAGAVxkAfhetROIzHQD0K16MwQMlAexSuR+FPyUBSuB6F657IQA==",
          "dtype": "f8"
         },
         "yaxis": "y"
        },
        {
         "hovertemplate": "variable=Paris 6e Arrondissement<br>Année=%{x}<br>Prix du m2 (€)=%{y}<extra></extra>",
         "legendgroup": "Paris 6e Arrondissement",
         "line": {
          "color": "#19d3f3",
          "dash": "solid"
         },
         "marker": {
          "symbol": "circle"
         },
         "mode": "lines+markers",
         "name": "Paris 6e Arrondissement",
         "orientation": "v",
         "showlegend": true,
         "type": "scatter",
         "x": [
          "2017",
          "2018",
          "2019",
          "2020",
          "2021"
         ],
         "xaxis": "x",
         "y": {
          "bdata": "UrgehWtuyEBxPQrXIzDJQFyPwvUIIcpAUrgehYv3ykBmZmZmhvHKQA==",
          "dtype": "f8"
         },
         "yaxis": "y"
        },
        {
         "hovertemplate": "variable=Paris 7e Arrondissement<br>Année=%{x}<br>Prix du m2 (€)=%{y}<extra></extra>",
         "legendgroup": "Paris 7e Arrondissement",
         "line": {
          "color": "#FF6692",
          "dash": "solid"
         },
         "marker": {
          "symbol": "circle"
         },
         "mode": "lines+markers",
         "name": "Paris 7e Arrondissement",
         "orientation": "v",
         "showlegend": true,
         "type": "scatter",
         "x": [
          "2017",
          "2018",
          "2019",
          "2020",
          "2021"
         ],
         "xaxis": "x",
         "y": {
          "bdata": "w/UoXI8ix0CkcD0Kl4TIQLgehevxPMlA16NwPeqayUC4HoXrEZ/JQA==",
          "dtype": "f8"
         },
         "yaxis": "y"
        },
        {
         "hovertemplate": "variable=Paris 8e Arrondissement<br>Année=%{x}<br>Prix du m2 (€)=%{y}<extra></extra>",
         "legendgroup": "Paris 8e Arrondissement",
         "line": {
          "color": "#B6E880",
          "dash": "solid"
         },
         "marker": {
          "symbol": "circle"
         },
         "mode": "lines+markers",
         "name": "Paris 8e Arrondissement",
         "orientation": "v",
         "showlegend": true,
         "type": "scatter",
         "x": [
          "2017",
          "2018",
          "2019",
          "2020",
          "2021"
         ],
         "xaxis": "x",
         "y": {
          "bdata": "ZmZmZmbKw0BmZmZmpsPEQJqZmZm53cVApHA9CnfbxkBSuB6FC9/GQA==",
          "dtype": "f8"
         },
         "yaxis": "y"
        },
        {
         "hovertemplate": "variable=Paris 9e Arrondissement<br>Année=%{x}<br>Prix du m2 (€)=%{y}<extra></extra>",
         "legendgroup": "Paris 9e Arrondissement",
         "line": {
          "color": "#FF97FF",
          "dash": "solid"
         },
         "marker": {
          "symbol": "circle"
         },
         "mode": "lines+markers",
         "name": "Paris 9e Arrondissement",
         "orientation": "v",
         "showlegend": true,
         "type": "scatter",
         "x": [
          "2017",
          "2018",
          "2019",
          "2020",
          "2021"
         ],
         "xaxis": "x",
         "y": {
          "bdata": "4XoUrie3wkAUrkfhmuXDQHE9CtfjZsVAhetRuJ5yxUCkcD0KF/bEQA==",
          "dtype": "f8"
         },
         "yaxis": "y"
        },
        {
         "hovertemplate": "variable=Paris 10e Arrondissement<br>Année=%{x}<br>Prix du m2 (€)=%{y}<extra></extra>",
         "legendgroup": "Paris 10e Arrondissement",
         "line": {
          "color": "#FECB52",
          "dash": "solid"
         },
         "marker": {
          "symbol": "circle"
         },
         "mode": "lines+markers",
         "name": "Paris 10e Arrondissement",
         "orientation": "v",
         "showlegend": true,
         "type": "scatter",
         "x": [
          "2017",
          "2018",
          "2019",
          "2020",
          "2021"
         ],
         "xaxis": "x",
         "y": {
          "bdata": "AAAAAIAVwUBxPQrXAzjCQD0K16OQh8NA16NwPSrsw0CPwvUovJ3DQA==",
          "dtype": "f8"
         },
         "yaxis": "y"
        },
        {
         "hovertemplate": "variable=Paris 11e Arrondissement<br>Année=%{x}<br>Prix du m2 (€)=%{y}<extra></extra>",
         "legendgroup": "Paris 11e Arrondissement",
         "line": {
          "color": "#636efa",
          "dash": "solid"
         },
         "marker": {
          "symbol": "circle"
         },
         "mode": "lines+markers",
         "name": "Paris 11e Arrondissement",
         "orientation": "v",
         "showlegend": true,
         "type": "scatter",
         "x": [
          "2017",
          "2018",
          "2019",
          "2020",
          "2021"
         ],
         "xaxis": "x",
         "y": {
          "bdata": "cT0K1+PYwUCamZmZeezCQK5H4Xp0RMRAXI/C9YiSxEC4HoXr0TfEQA==",
          "dtype": "f8"
         },
         "yaxis": "y"
        },
        {
         "hovertemplate": "variable=Paris 12e Arrondissement<br>Année=%{x}<br>Prix du m2 (€)=%{y}<extra></extra>",
         "legendgroup": "Paris 12e Arrondissement",
         "line": {
          "color": "#EF553B",
          "dash": "solid"
         },
         "marker": {
          "symbol": "circle"
         },
         "mode": "lines+markers",
         "name": "Paris 12e Arrondissement",
         "orientation": "v",
         "showlegend": true,
         "type": "scatter",
         "x": [
          "2017",
          "2018",
          "2019",
          "2020",
          "2021"
         ],
         "xaxis": "x",
         "y": {
          "bdata": "zczMzGyDwEAK16Nw3XTBQKRwPQrXjMJASOF6FI7twkAK16Nw/dzCQA==",
          "dtype": "f8"
         },
         "yaxis": "y"
        },
        {
         "hovertemplate": "variable=Paris 13e Arrondissement<br>Année=%{x}<br>Prix du m2 (€)=%{y}<extra></extra>",
         "legendgroup": "Paris 13e Arrondissement",
         "line": {
          "color": "#00cc96",
          "dash": "solid"
         },
         "marker": {
          "symbol": "circle"
         },
         "mode": "lines+markers",
         "name": "Paris 13e Arrondissement",
         "orientation": "v",
         "showlegend": true,
         "type": "scatter",
         "x": [
          "2017",
          "2018",
          "2019",
          "2020",
          "2021"
         ],
         "xaxis": "x",
         "y": {
          "bdata": "uB6F63FMwECPwvUonBnBQMP1KFwvPsJAMzMzM/M6wkA9CtejUObBQA==",
          "dtype": "f8"
         },
         "yaxis": "y"
        },
        {
         "hovertemplate": "variable=Paris 14e Arrondissement<br>Année=%{x}<br>Prix du m2 (€)=%{y}<extra></extra>",
         "legendgroup": "Paris 14e Arrondissement",
         "line": {
          "color": "#ab63fa",
          "dash": "solid"
         },
         "marker": {
          "symbol": "circle"
         },
         "mode": "lines+markers",
         "name": "Paris 14e Arrondissement",
         "orientation": "v",
         "showlegend": true,
         "type": "scatter",
         "x": [
          "2017",
          "2018",
          "2019",
          "2020",
          "2021"
         ],
         "xaxis": "x",
         "y": {
          "bdata": "4XoUrmevwUDsUbgexWzCQClcj8KVlcNAZmZmZua9w0DD9Shcz4TDQA==",
          "dtype": "f8"
         },
         "yaxis": "y"
        },
        {
         "hovertemplate": "variable=Paris 15e Arrondissement<br>Année=%{x}<br>Prix du m2 (€)=%{y}<extra></extra>",
         "legendgroup": "Paris 15e Arrondissement",
         "line": {
          "color": "#FFA15A",
          "dash": "solid"
         },
         "marker": {
          "symbol": "circle"
         },
         "mode": "lines+markers",
         "name": "Paris 15e Arrondissement",
         "orientation": "v",
         "showlegend": true,
         "type": "scatter",
         "x": [
          "2017",
          "2018",
          "2019",
          "2020",
          "2021"
         ],
         "xaxis": "x",
         "y": {
          "bdata": "uB6F6/HEwUDsUbgeBTjCQEjhehQOL8NAhetRuJ6mw0CF61G4nnnDQA==",
          "dtype": "f8"
         },
         "yaxis": "y"
        },
        {
         "hovertemplate": "variable=Paris 16e Arrondissement<br>Année=%{x}<br>Prix du m2 (€)=%{y}<extra></extra>",
         "legendgroup": "Paris 16e Arrondissement",
         "line": {
          "color": "#19d3f3",
          "dash": "solid"
         },
         "marker": {
          "symbol": "circle"
         },
         "mode": "lines+markers",
         "name": "Paris 16e Arrondissement",
         "orientation": "v",
         "showlegend": true,
         "type": "scatter",
         "x": [
          "2017",
          "2018",
          "2019",
          "2020",
          "2021"
         ],
         "xaxis": "x",
         "y": {
          "bdata": "XI/C9Wgow0AfhetROALEQHE9CteDJMVAuB6F65FPxUDhehSuJxPFQA==",
          "dtype": "f8"
         },
         "yaxis": "y"
        },
        {
         "hovertemplate": "variable=Paris 17e Arrondissement<br>Année=%{x}<br>Prix du m2 (€)=%{y}<extra></extra>",
         "legendgroup": "Paris 17e Arrondissement",
         "line": {
          "color": "#FF6692",
          "dash": "solid"
         },
         "marker": {
          "symbol": "circle"
         },
         "mode": "lines+markers",
         "name": "Paris 17e Arrondissement",
         "orientation": "v",
         "showlegend": true,
         "type": "scatter",
         "x": [
          "2017",
          "2018",
          "2019",
          "2020",
          "2021"
         ],
         "xaxis": "x",
         "y": {
          "bdata": "w/UoXG88wkCuR+F6VEzDQEjhehTOT8RA7FG4HiWUxEDD9ShcL0LEQA==",
          "dtype": "f8"
         },
         "yaxis": "y"
        },
        {
         "hovertemplate": "variable=Paris 18e Arrondissement<br>Année=%{x}<br>Prix du m2 (€)=%{y}<extra></extra>",
         "legendgroup": "Paris 18e Arrondissement",
         "line": {
          "color": "#B6E880",
          "dash": "solid"
         },
         "marker": {
          "symbol": "circle"
         },
         "mode": "lines+markers",
         "name": "Paris 18e Arrondissement",
         "orientation": "v",
         "showlegend": true,
         "type": "scatter",
         "x": [
          "2017",
          "2018",
          "2019",
          "2020",
          "2021"
         ],
         "xaxis": "x",
         "y": {
          "bdata": "ZmZmZiaJwECkcD0Kd+DBQFK4HoUrZMNAuB6F63Ftw0C4HoXr0eDCQA==",
          "dtype": "f8"
         },
         "yaxis": "y"
        },
        {
         "hovertemplate": "variable=Paris 19e Arrondissement<br>Année=%{x}<br>Prix du m2 (€)=%{y}<extra></extra>",
         "legendgroup": "Paris 19e Arrondissement",
         "line": {
          "color": "#FF97FF",
          "dash": "solid"
         },
         "marker": {
          "symbol": "circle"
         },
         "mode": "lines+markers",
         "name": "Paris 19e Arrondissement",
         "orientation": "v",
         "showlegend": true,
         "type": "scatter",
         "x": [
          "2017",
          "2018",
          "2019",
          "2020",
          "2021"
         ],
         "xaxis": "x",
         "y": {
          "bdata": "9ihcj8LFvUBI4XoU7iTAQHsUrkchScFAw/UoXE+LwUBSuB6FSz7BQA==",
          "dtype": "f8"
         },
         "yaxis": "y"
        },
        {
         "hovertemplate": "variable=Paris 20e Arrondissement<br>Année=%{x}<br>Prix du m2 (€)=%{y}<extra></extra>",
         "legendgroup": "Paris 20e Arrondissement",
         "line": {
          "color": "#FECB52",
          "dash": "solid"
         },
         "marker": {
          "symbol": "circle"
         },
         "mode": "lines+markers",
         "name": "Paris 20e Arrondissement",
         "orientation": "v",
         "showlegend": true,
         "type": "scatter",
         "x": [
          "2017",
          "2018",
          "2019",
          "2020",
          "2021"
         ],
         "xaxis": "x",
         "y": {
          "bdata": "7FG4HgXOvkCuR+F6lJLAQIXrUbj+wsFA4XoUrqc4wkAzMzMzM83BQA==",
          "dtype": "f8"
         },
         "yaxis": "y"
        }
       ],
       "layout": {
        "legend": {
         "title": {
          "text": "variable"
         },
         "tracegroupgap": 0
        },
        "template": {
         "data": {
          "bar": [
           {
            "error_x": {
             "color": "#2a3f5f"
            },
            "error_y": {
             "color": "#2a3f5f"
            },
            "marker": {
             "line": {
              "color": "#E5ECF6",
              "width": 0.5
             },
             "pattern": {
              "fillmode": "overlay",
              "size": 10,
              "solidity": 0.2
             }
            },
            "type": "bar"
           }
          ],
          "barpolar": [
           {
            "marker": {
             "line": {
              "color": "#E5ECF6",
              "width": 0.5
             },
             "pattern": {
              "fillmode": "overlay",
              "size": 10,
              "solidity": 0.2
             }
            },
            "type": "barpolar"
           }
          ],
          "carpet": [
           {
            "aaxis": {
             "endlinecolor": "#2a3f5f",
             "gridcolor": "white",
             "linecolor": "white",
             "minorgridcolor": "white",
             "startlinecolor": "#2a3f5f"
            },
            "baxis": {
             "endlinecolor": "#2a3f5f",
             "gridcolor": "white",
             "linecolor": "white",
             "minorgridcolor": "white",
             "startlinecolor": "#2a3f5f"
            },
            "type": "carpet"
           }
          ],
          "choropleth": [
           {
            "colorbar": {
             "outlinewidth": 0,
             "ticks": ""
            },
            "type": "choropleth"
           }
          ],
          "contour": [
           {
            "colorbar": {
             "outlinewidth": 0,
             "ticks": ""
            },
            "colorscale": [
             [
              0,
              "#0d0887"
             ],
             [
              0.1111111111111111,
              "#46039f"
             ],
             [
              0.2222222222222222,
              "#7201a8"
             ],
             [
              0.3333333333333333,
              "#9c179e"
             ],
             [
              0.4444444444444444,
              "#bd3786"
             ],
             [
              0.5555555555555556,
              "#d8576b"
             ],
             [
              0.6666666666666666,
              "#ed7953"
             ],
             [
              0.7777777777777778,
              "#fb9f3a"
             ],
             [
              0.8888888888888888,
              "#fdca26"
             ],
             [
              1,
              "#f0f921"
             ]
            ],
            "type": "contour"
           }
          ],
          "contourcarpet": [
           {
            "colorbar": {
             "outlinewidth": 0,
             "ticks": ""
            },
            "type": "contourcarpet"
           }
          ],
          "heatmap": [
           {
            "colorbar": {
             "outlinewidth": 0,
             "ticks": ""
            },
            "colorscale": [
             [
              0,
              "#0d0887"
             ],
             [
              0.1111111111111111,
              "#46039f"
             ],
             [
              0.2222222222222222,
              "#7201a8"
             ],
             [
              0.3333333333333333,
              "#9c179e"
             ],
             [
              0.4444444444444444,
              "#bd3786"
             ],
             [
              0.5555555555555556,
              "#d8576b"
             ],
             [
              0.6666666666666666,
              "#ed7953"
             ],
             [
              0.7777777777777778,
              "#fb9f3a"
             ],
             [
              0.8888888888888888,
              "#fdca26"
             ],
             [
              1,
              "#f0f921"
             ]
            ],
            "type": "heatmap"
           }
          ],
          "histogram": [
           {
            "marker": {
             "pattern": {
              "fillmode": "overlay",
              "size": 10,
              "solidity": 0.2
             }
            },
            "type": "histogram"
           }
          ],
          "histogram2d": [
           {
            "colorbar": {
             "outlinewidth": 0,
             "ticks": ""
            },
            "colorscale": [
             [
              0,
              "#0d0887"
             ],
             [
              0.1111111111111111,
              "#46039f"
             ],
             [
              0.2222222222222222,
              "#7201a8"
             ],
             [
              0.3333333333333333,
              "#9c179e"
             ],
             [
              0.4444444444444444,
              "#bd3786"
             ],
             [
              0.5555555555555556,
              "#d8576b"
             ],
             [
              0.6666666666666666,
              "#ed7953"
             ],
             [
              0.7777777777777778,
              "#fb9f3a"
             ],
             [
              0.8888888888888888,
              "#fdca26"
             ],
             [
              1,
              "#f0f921"
             ]
            ],
            "type": "histogram2d"
           }
          ],
          "histogram2dcontour": [
           {
            "colorbar": {
             "outlinewidth": 0,
             "ticks": ""
            },
            "colorscale": [
             [
              0,
              "#0d0887"
             ],
             [
              0.1111111111111111,
              "#46039f"
             ],
             [
              0.2222222222222222,
              "#7201a8"
             ],
             [
              0.3333333333333333,
              "#9c179e"
             ],
             [
              0.4444444444444444,
              "#bd3786"
             ],
             [
              0.5555555555555556,
              "#d8576b"
             ],
             [
              0.6666666666666666,
              "#ed7953"
             ],
             [
              0.7777777777777778,
              "#fb9f3a"
             ],
             [
              0.8888888888888888,
              "#fdca26"
             ],
             [
              1,
              "#f0f921"
             ]
            ],
            "type": "histogram2dcontour"
           }
          ],
          "mesh3d": [
           {
            "colorbar": {
             "outlinewidth": 0,
             "ticks": ""
            },
            "type": "mesh3d"
           }
          ],
          "parcoords": [
           {
            "line": {
             "colorbar": {
              "outlinewidth": 0,
              "ticks": ""
             }
            },
            "type": "parcoords"
           }
          ],
          "pie": [
           {
            "automargin": true,
            "type": "pie"
           }
          ],
          "scatter": [
           {
            "fillpattern": {
             "fillmode": "overlay",
             "size": 10,
             "solidity": 0.2
            },
            "type": "scatter"
           }
          ],
          "scatter3d": [
           {
            "line": {
             "colorbar": {
              "outlinewidth": 0,
              "ticks": ""
             }
            },
            "marker": {
             "colorbar": {
              "outlinewidth": 0,
              "ticks": ""
             }
            },
            "type": "scatter3d"
           }
          ],
          "scattercarpet": [
           {
            "marker": {
             "colorbar": {
              "outlinewidth": 0,
              "ticks": ""
             }
            },
            "type": "scattercarpet"
           }
          ],
          "scattergeo": [
           {
            "marker": {
             "colorbar": {
              "outlinewidth": 0,
              "ticks": ""
             }
            },
            "type": "scattergeo"
           }
          ],
          "scattergl": [
           {
            "marker": {
             "colorbar": {
              "outlinewidth": 0,
              "ticks": ""
             }
            },
            "type": "scattergl"
           }
          ],
          "scattermap": [
           {
            "marker": {
             "colorbar": {
              "outlinewidth": 0,
              "ticks": ""
             }
            },
            "type": "scattermap"
           }
          ],
          "scattermapbox": [
           {
            "marker": {
             "colorbar": {
              "outlinewidth": 0,
              "ticks": ""
             }
            },
            "type": "scattermapbox"
           }
          ],
          "scatterpolar": [
           {
            "marker": {
             "colorbar": {
              "outlinewidth": 0,
              "ticks": ""
             }
            },
            "type": "scatterpolar"
           }
          ],
          "scatterpolargl": [
           {
            "marker": {
             "colorbar": {
              "outlinewidth": 0,
              "ticks": ""
             }
            },
            "type": "scatterpolargl"
           }
          ],
          "scatterternary": [
           {
            "marker": {
             "colorbar": {
              "outlinewidth": 0,
              "ticks": ""
             }
            },
            "type": "scatterternary"
           }
          ],
          "surface": [
           {
            "colorbar": {
             "outlinewidth": 0,
             "ticks": ""
            },
            "colorscale": [
             [
              0,
              "#0d0887"
             ],
             [
              0.1111111111111111,
              "#46039f"
             ],
             [
              0.2222222222222222,
              "#7201a8"
             ],
             [
              0.3333333333333333,
              "#9c179e"
             ],
             [
              0.4444444444444444,
              "#bd3786"
             ],
             [
              0.5555555555555556,
              "#d8576b"
             ],
             [
              0.6666666666666666,
              "#ed7953"
             ],
             [
              0.7777777777777778,
              "#fb9f3a"
             ],
             [
              0.8888888888888888,
              "#fdca26"
             ],
             [
              1,
              "#f0f921"
             ]
            ],
            "type": "surface"
           }
          ],
          "table": [
           {
            "cells": {
             "fill": {
              "color": "#EBF0F8"
             },
             "line": {
              "color": "white"
             }
            },
            "header": {
             "fill": {
              "color": "#C8D4E3"
             },
             "line": {
              "color": "white"
             }
            },
            "type": "table"
           }
          ]
         },
         "layout": {
          "annotationdefaults": {
           "arrowcolor": "#2a3f5f",
           "arrowhead": 0,
           "arrowwidth": 1
          },
          "autotypenumbers": "strict",
          "coloraxis": {
           "colorbar": {
            "outlinewidth": 0,
            "ticks": ""
           }
          },
          "colorscale": {
           "diverging": [
            [
             0,
             "#8e0152"
            ],
            [
             0.1,
             "#c51b7d"
            ],
            [
             0.2,
             "#de77ae"
            ],
            [
             0.3,
             "#f1b6da"
            ],
            [
             0.4,
             "#fde0ef"
            ],
            [
             0.5,
             "#f7f7f7"
            ],
            [
             0.6,
             "#e6f5d0"
            ],
            [
             0.7,
             "#b8e186"
            ],
            [
             0.8,
             "#7fbc41"
            ],
            [
             0.9,
             "#4d9221"
            ],
            [
             1,
             "#276419"
            ]
           ],
           "sequential": [
            [
             0,
             "#0d0887"
            ],
            [
             0.1111111111111111,
             "#46039f"
            ],
            [
             0.2222222222222222,
             "#7201a8"
            ],
            [
             0.3333333333333333,
             "#9c179e"
            ],
            [
             0.4444444444444444,
             "#bd3786"
            ],
            [
             0.5555555555555556,
             "#d8576b"
            ],
            [
             0.6666666666666666,
             "#ed7953"
            ],
            [
             0.7777777777777778,
             "#fb9f3a"
            ],
            [
             0.8888888888888888,
             "#fdca26"
            ],
            [
             1,
             "#f0f921"
            ]
           ],
           "sequentialminus": [
            [
             0,
             "#0d0887"
            ],
            [
             0.1111111111111111,
             "#46039f"
            ],
            [
             0.2222222222222222,
             "#7201a8"
            ],
            [
             0.3333333333333333,
             "#9c179e"
            ],
            [
             0.4444444444444444,
             "#bd3786"
            ],
            [
             0.5555555555555556,
             "#d8576b"
            ],
            [
             0.6666666666666666,
             "#ed7953"
            ],
            [
             0.7777777777777778,
             "#fb9f3a"
            ],
            [
             0.8888888888888888,
             "#fdca26"
            ],
            [
             1,
             "#f0f921"
            ]
           ]
          },
          "colorway": [
           "#636efa",
           "#EF553B",
           "#00cc96",
           "#ab63fa",
           "#FFA15A",
           "#19d3f3",
           "#FF6692",
           "#B6E880",
           "#FF97FF",
           "#FECB52"
          ],
          "font": {
           "color": "#2a3f5f"
          },
          "geo": {
           "bgcolor": "white",
           "lakecolor": "white",
           "landcolor": "#E5ECF6",
           "showlakes": true,
           "showland": true,
           "subunitcolor": "white"
          },
          "hoverlabel": {
           "align": "left"
          },
          "hovermode": "closest",
          "mapbox": {
           "style": "light"
          },
          "paper_bgcolor": "white",
          "plot_bgcolor": "#E5ECF6",
          "polar": {
           "angularaxis": {
            "gridcolor": "white",
            "linecolor": "white",
            "ticks": ""
           },
           "bgcolor": "#E5ECF6",
           "radialaxis": {
            "gridcolor": "white",
            "linecolor": "white",
            "ticks": ""
           }
          },
          "scene": {
           "xaxis": {
            "backgroundcolor": "#E5ECF6",
            "gridcolor": "white",
            "gridwidth": 2,
            "linecolor": "white",
            "showbackground": true,
            "ticks": "",
            "zerolinecolor": "white"
           },
           "yaxis": {
            "backgroundcolor": "#E5ECF6",
            "gridcolor": "white",
            "gridwidth": 2,
            "linecolor": "white",
            "showbackground": true,
            "ticks": "",
            "zerolinecolor": "white"
           },
           "zaxis": {
            "backgroundcolor": "#E5ECF6",
            "gridcolor": "white",
            "gridwidth": 2,
            "linecolor": "white",
            "showbackground": true,
            "ticks": "",
            "zerolinecolor": "white"
           }
          },
          "shapedefaults": {
           "line": {
            "color": "#2a3f5f"
           }
          },
          "ternary": {
           "aaxis": {
            "gridcolor": "white",
            "linecolor": "white",
            "ticks": ""
           },
           "baxis": {
            "gridcolor": "white",
            "linecolor": "white",
            "ticks": ""
           },
           "bgcolor": "#E5ECF6",
           "caxis": {
            "gridcolor": "white",
            "linecolor": "white",
            "ticks": ""
           }
          },
          "title": {
           "x": 0.05
          },
          "xaxis": {
           "automargin": true,
           "gridcolor": "white",
           "linecolor": "white",
           "ticks": "",
           "title": {
            "standoff": 15
           },
           "zerolinecolor": "white",
           "zerolinewidth": 2
          },
          "yaxis": {
           "automargin": true,
           "gridcolor": "white",
           "linecolor": "white",
           "ticks": "",
           "title": {
            "standoff": 15
           },
           "zerolinecolor": "white",
           "zerolinewidth": 2
          }
         }
        },
        "title": {
         "text": "Evolution du prix au m² dans les 20 arrondissements"
        },
        "xaxis": {
         "anchor": "y",
         "domain": [
          0,
          1
         ],
         "title": {
          "text": "Année"
         }
        },
        "yaxis": {
         "anchor": "x",
         "domain": [
          0,
          1
         ],
         "title": {
          "text": "Prix du m2 (€)"
         }
        }
       }
      },
      "image/png": "[encoded data removed]"
     },
     "metadata": {},
     "output_type": "display_data"
    }
   ],
   "source": [
    "#On affiche l'évolution du prix au m² par arrondissement dans Paris\n",
    "prix_2A = (df_evolution_all.iloc[0:5,1]).to_list()\n",
    "prix_3A = (df_evolution_all.iloc[0:5,2]).to_list()\n",
    "prix_4A = (df_evolution_all.iloc[0:5,3]).to_list()\n",
    "prix_5A = (df_evolution_all.iloc[0:5,4]).to_list()\n",
    "prix_6A = (df_evolution_all.iloc[0:5,5]).to_list()\n",
    "prix_7A = (df_evolution_all.iloc[0:5,6]).to_list()\n",
    "prix_8A = (df_evolution_all.iloc[0:5,7]).to_list()\n",
    "prix_9A = (df_evolution_all.iloc[0:5,8]).to_list()\n",
    "prix_10A = (df_evolution_all.iloc[0:5,9]).to_list()\n",
    "prix_11A = (df_evolution_all.iloc[0:5,10]).to_list()\n",
    "prix_12A = (df_evolution_all.iloc[0:5,11]).to_list()\n",
    "prix_13A = (df_evolution_all.iloc[0:5,12]).to_list()\n",
    "prix_14A = (df_evolution_all.iloc[0:5,13]).to_list()\n",
    "prix_15A = (df_evolution_all.iloc[0:5,14]).to_list()\n",
    "prix_16A = (df_evolution_all.iloc[0:5,15]).to_list()\n",
    "prix_17A = (df_evolution_all.iloc[0:5,16]).to_list()\n",
    "prix_18A = (df_evolution_all.iloc[0:5,17]).to_list()\n",
    "prix_19A = (df_evolution_all.iloc[0:5,18]).to_list()\n",
    "prix_20A = (df_evolution_all.iloc[0:5,19]).to_list()\n",
    "\n",
    "\n",
    "fig3 = px.line(df_evolution_all, \n",
    "               x=liste_annee, \n",
    "               y=[prix_1A,prix_2A,prix_3A,prix_4A,prix_5A,prix_6A,prix_7A,prix_8A,prix_9A,prix_10A,prix_11A,prix_12A,prix_13A,prix_14A,prix_15A,prix_16A,prix_17A,prix_18A,prix_19A,prix_20A],\n",
    "               title='Evolution du prix au m² dans les 20 arrondissements',\n",
    "               markers=True,\n",
    "               labels={'x':'Année','value':'Prix du m2 (€)'}\n",
    "               )\n",
    "newnames = {'wide_variable_0':'Paris 1er Arrondissement',\n",
    "            'wide_variable_1': 'Paris 2nd Arrondissement',\n",
    "            'wide_variable_2': 'Paris 3e Arrondissement',\n",
    "            'wide_variable_3': 'Paris 4e Arrondissement',\n",
    "            'wide_variable_4': 'Paris 5e Arrondissement',\n",
    "            'wide_variable_5': 'Paris 6e Arrondissement',\n",
    "            'wide_variable_6': 'Paris 7e Arrondissement',\n",
    "            'wide_variable_7': 'Paris 8e Arrondissement',\n",
    "            'wide_variable_8': 'Paris 9e Arrondissement',\n",
    "            'wide_variable_9': 'Paris 10e Arrondissement',\n",
    "            'wide_variable_10': 'Paris 11e Arrondissement',\n",
    "            'wide_variable_11': 'Paris 12e Arrondissement',\n",
    "            'wide_variable_12': 'Paris 13e Arrondissement',\n",
    "            'wide_variable_13': 'Paris 14e Arrondissement',\n",
    "            'wide_variable_14':'Paris 15e Arrondissement',\n",
    "            'wide_variable_15': 'Paris 16e Arrondissement',\n",
    "            'wide_variable_16': 'Paris 17e Arrondissement',\n",
    "            'wide_variable_17': 'Paris 18e Arrondissement',\n",
    "            'wide_variable_18': 'Paris 19e Arrondissement',\n",
    "            'wide_variable_19': 'Paris 20e Arrondissement'\n",
    "            }\n",
    "fig3.for_each_trace(lambda t: t.update(name = newnames[t.name], legendgroup = newnames[t.name], \n",
    "                                      hovertemplate = t.hovertemplate.replace(t.name, newnames[t.name])))\n",
    "fig3.show()"
   ]
  },
  {
   "cell_type": "markdown",
   "id": "4a87ed50",
   "metadata": {},
   "source": [
    "On observe que globalement que le prix du m2 a augmenté pour l'ensemble des arrondissements jusqu'à atteindre un pic en 2020 puis se stabilise voir même diminue pour certains arrondissements."
   ]
  },
  {
   "cell_type": "markdown",
   "id": "20631df9",
   "metadata": {},
   "source": [
    "### 7. Prix au metre carré par transaction dans un arrondissement"
   ]
  },
  {
   "cell_type": "code",
   "execution_count": 15,
   "id": "066de112",
   "metadata": {},
   "outputs": [
    {
     "data": {
      "text/html": [
       "<div>\n",
       "<style scoped>\n",
       "    .dataframe tbody tr th:only-of-type {\n",
       "        vertical-align: middle;\n",
       "    }\n",
       "\n",
       "    .dataframe tbody tr th {\n",
       "        vertical-align: top;\n",
       "    }\n",
       "\n",
       "    .dataframe thead th {\n",
       "        text-align: right;\n",
       "    }\n",
       "</style>\n",
       "<table border=\"1\" class=\"dataframe\">\n",
       "  <thead>\n",
       "    <tr style=\"text-align: right;\">\n",
       "      <th></th>\n",
       "      <th>date_mutation</th>\n",
       "      <th>valeur_fonciere</th>\n",
       "      <th>code_postal</th>\n",
       "      <th>type_local</th>\n",
       "      <th>surface_reelle</th>\n",
       "      <th>prix_m2</th>\n",
       "      <th>Annee</th>\n",
       "    </tr>\n",
       "  </thead>\n",
       "  <tbody>\n",
       "    <tr>\n",
       "      <th>478</th>\n",
       "      <td>2017-01-10</td>\n",
       "      <td>9.601314e+05</td>\n",
       "      <td>75006</td>\n",
       "      <td>Appartement</td>\n",
       "      <td>78</td>\n",
       "      <td>12309.38</td>\n",
       "      <td>2017</td>\n",
       "    </tr>\n",
       "    <tr>\n",
       "      <th>482</th>\n",
       "      <td>2017-01-13</td>\n",
       "      <td>8.204362e+05</td>\n",
       "      <td>75006</td>\n",
       "      <td>Appartement</td>\n",
       "      <td>68</td>\n",
       "      <td>12065.24</td>\n",
       "      <td>2017</td>\n",
       "    </tr>\n",
       "    <tr>\n",
       "      <th>484</th>\n",
       "      <td>2017-01-13</td>\n",
       "      <td>1.796112e+06</td>\n",
       "      <td>75006</td>\n",
       "      <td>Appartement</td>\n",
       "      <td>143</td>\n",
       "      <td>12560.22</td>\n",
       "      <td>2017</td>\n",
       "    </tr>\n",
       "    <tr>\n",
       "      <th>488</th>\n",
       "      <td>2017-01-17</td>\n",
       "      <td>2.488198e+05</td>\n",
       "      <td>75006</td>\n",
       "      <td>Appartement</td>\n",
       "      <td>20</td>\n",
       "      <td>12440.99</td>\n",
       "      <td>2017</td>\n",
       "    </tr>\n",
       "    <tr>\n",
       "      <th>491</th>\n",
       "      <td>2017-01-19</td>\n",
       "      <td>4.828724e+05</td>\n",
       "      <td>75006</td>\n",
       "      <td>Appartement</td>\n",
       "      <td>40</td>\n",
       "      <td>12071.81</td>\n",
       "      <td>2017</td>\n",
       "    </tr>\n",
       "    <tr>\n",
       "      <th>...</th>\n",
       "      <td>...</td>\n",
       "      <td>...</td>\n",
       "      <td>...</td>\n",
       "      <td>...</td>\n",
       "      <td>...</td>\n",
       "      <td>...</td>\n",
       "      <td>...</td>\n",
       "    </tr>\n",
       "    <tr>\n",
       "      <th>24915</th>\n",
       "      <td>2021-12-22</td>\n",
       "      <td>1.360988e+06</td>\n",
       "      <td>75006</td>\n",
       "      <td>Appartement</td>\n",
       "      <td>97</td>\n",
       "      <td>14030.80</td>\n",
       "      <td>2021</td>\n",
       "    </tr>\n",
       "    <tr>\n",
       "      <th>24953</th>\n",
       "      <td>2021-12-16</td>\n",
       "      <td>9.705679e+05</td>\n",
       "      <td>75006</td>\n",
       "      <td>Appartement</td>\n",
       "      <td>72</td>\n",
       "      <td>13480.11</td>\n",
       "      <td>2021</td>\n",
       "    </tr>\n",
       "    <tr>\n",
       "      <th>24956</th>\n",
       "      <td>2021-12-27</td>\n",
       "      <td>2.525194e+05</td>\n",
       "      <td>75006</td>\n",
       "      <td>Appartement</td>\n",
       "      <td>18</td>\n",
       "      <td>14028.86</td>\n",
       "      <td>2021</td>\n",
       "    </tr>\n",
       "    <tr>\n",
       "      <th>25013</th>\n",
       "      <td>2021-12-24</td>\n",
       "      <td>6.051571e+05</td>\n",
       "      <td>75006</td>\n",
       "      <td>Appartement</td>\n",
       "      <td>44</td>\n",
       "      <td>13753.57</td>\n",
       "      <td>2021</td>\n",
       "    </tr>\n",
       "    <tr>\n",
       "      <th>25020</th>\n",
       "      <td>2021-12-29</td>\n",
       "      <td>3.850466e+05</td>\n",
       "      <td>75006</td>\n",
       "      <td>Appartement</td>\n",
       "      <td>28</td>\n",
       "      <td>13751.66</td>\n",
       "      <td>2021</td>\n",
       "    </tr>\n",
       "  </tbody>\n",
       "</table>\n",
       "<p>709 rows × 7 columns</p>\n",
       "</div>"
      ],
      "text/plain": [
       "      date_mutation  valeur_fonciere  code_postal   type_local  \\\n",
       "478      2017-01-10     9.601314e+05        75006  Appartement   \n",
       "482      2017-01-13     8.204362e+05        75006  Appartement   \n",
       "484      2017-01-13     1.796112e+06        75006  Appartement   \n",
       "488      2017-01-17     2.488198e+05        75006  Appartement   \n",
       "491      2017-01-19     4.828724e+05        75006  Appartement   \n",
       "...             ...              ...          ...          ...   \n",
       "24915    2021-12-22     1.360988e+06        75006  Appartement   \n",
       "24953    2021-12-16     9.705679e+05        75006  Appartement   \n",
       "24956    2021-12-27     2.525194e+05        75006  Appartement   \n",
       "25013    2021-12-24     6.051571e+05        75006  Appartement   \n",
       "25020    2021-12-29     3.850466e+05        75006  Appartement   \n",
       "\n",
       "       surface_reelle   prix_m2  Annee  \n",
       "478                78  12309.38   2017  \n",
       "482                68  12065.24   2017  \n",
       "484               143  12560.22   2017  \n",
       "488                20  12440.99   2017  \n",
       "491                40  12071.81   2017  \n",
       "...               ...       ...    ...  \n",
       "24915              97  14030.80   2021  \n",
       "24953              72  13480.11   2021  \n",
       "24956              18  14028.86   2021  \n",
       "25013              44  13753.57   2021  \n",
       "25020              28  13751.66   2021  \n",
       "\n",
       "[709 rows x 7 columns]"
      ]
     },
     "metadata": {},
     "output_type": "display_data"
    },
    {
     "name": "stdout",
     "output_type": "stream",
     "text": [
      "\n",
      "Nombre de transaction par année dans le 6ème arrondissement:\n",
      "Annee\n",
      "2017    198\n",
      "2018    175\n",
      "2019    123\n",
      "2020    108\n",
      "2021    105\n",
      "Name: count, dtype: int64\n"
     ]
    }
   ],
   "source": [
    "#Vérifions le nombre de transaction dans le 6ème car le prix semble élevé\n",
    "df_transac_sixieme = df_appartement[df_appartement['code_postal']== 75006]\n",
    "display(df_transac_sixieme)\n",
    "liste_transaction = df_transac_sixieme.value_counts('Annee')\n",
    "print()\n",
    "print(\"Nombre de transaction par année dans le 6ème arrondissement:\")\n",
    "print(liste_transaction)"
   ]
  },
  {
   "cell_type": "markdown",
   "id": "16586dcf",
   "metadata": {},
   "source": [
    "On constate que le nombre de transaction a diminué en avançant dans le temps.\n",
    "\n",
    "Affichons l'historique des transactions pour visualiser la dispersion des données :"
   ]
  },
  {
   "cell_type": "code",
   "execution_count": 16,
   "id": "7885c573",
   "metadata": {},
   "outputs": [
    {
     "data": {
      "application/vnd.plotly.v1+json": {
       "config": {
        "plotlyServerURL": "https://plot.ly"
       },
       "data": [
        {
         "hovertemplate": "Année=%{x}<br>Prix du m2=%{y}<br>Nombres de transactions=%{marker.size}<extra></extra>",
         "legendgroup": "",
         "marker": {
          "color": "#636efa",
          "size": {
           "bdata": "xgCvAHsAbABpAA==",
           "dtype": "i2"
          },
          "sizemode": "area",
          "sizeref": 0.495,
          "symbol": "circle"
         },
         "mode": "markers",
         "name": "",
         "orientation": "v",
         "showlegend": false,
         "type": "scatter",
         "x": [
          "2017",
          "2018",
          "2019",
          "2020",
          "2021"
         ],
         "xaxis": "x",
         "y": {
          "bdata": "UrgehWtuyEBxPQrXIzDJQFyPwvUIIcpAUrgehYv3ykBmZmZmhvHKQA==",
          "dtype": "f8"
         },
         "yaxis": "y"
        }
       ],
       "layout": {
        "legend": {
         "itemsizing": "constant",
         "tracegroupgap": 0
        },
        "template": {
         "data": {
          "bar": [
           {
            "error_x": {
             "color": "#2a3f5f"
            },
            "error_y": {
             "color": "#2a3f5f"
            },
            "marker": {
             "line": {
              "color": "#E5ECF6",
              "width": 0.5
             },
             "pattern": {
              "fillmode": "overlay",
              "size": 10,
              "solidity": 0.2
             }
            },
            "type": "bar"
           }
          ],
          "barpolar": [
           {
            "marker": {
             "line": {
              "color": "#E5ECF6",
              "width": 0.5
             },
             "pattern": {
              "fillmode": "overlay",
              "size": 10,
              "solidity": 0.2
             }
            },
            "type": "barpolar"
           }
          ],
          "carpet": [
           {
            "aaxis": {
             "endlinecolor": "#2a3f5f",
             "gridcolor": "white",
             "linecolor": "white",
             "minorgridcolor": "white",
             "startlinecolor": "#2a3f5f"
            },
            "baxis": {
             "endlinecolor": "#2a3f5f",
             "gridcolor": "white",
             "linecolor": "white",
             "minorgridcolor": "white",
             "startlinecolor": "#2a3f5f"
            },
            "type": "carpet"
           }
          ],
          "choropleth": [
           {
            "colorbar": {
             "outlinewidth": 0,
             "ticks": ""
            },
            "type": "choropleth"
           }
          ],
          "contour": [
           {
            "colorbar": {
             "outlinewidth": 0,
             "ticks": ""
            },
            "colorscale": [
             [
              0,
              "#0d0887"
             ],
             [
              0.1111111111111111,
              "#46039f"
             ],
             [
              0.2222222222222222,
              "#7201a8"
             ],
             [
              0.3333333333333333,
              "#9c179e"
             ],
             [
              0.4444444444444444,
              "#bd3786"
             ],
             [
              0.5555555555555556,
              "#d8576b"
             ],
             [
              0.6666666666666666,
              "#ed7953"
             ],
             [
              0.7777777777777778,
              "#fb9f3a"
             ],
             [
              0.8888888888888888,
              "#fdca26"
             ],
             [
              1,
              "#f0f921"
             ]
            ],
            "type": "contour"
           }
          ],
          "contourcarpet": [
           {
            "colorbar": {
             "outlinewidth": 0,
             "ticks": ""
            },
            "type": "contourcarpet"
           }
          ],
          "heatmap": [
           {
            "colorbar": {
             "outlinewidth": 0,
             "ticks": ""
            },
            "colorscale": [
             [
              0,
              "#0d0887"
             ],
             [
              0.1111111111111111,
              "#46039f"
             ],
             [
              0.2222222222222222,
              "#7201a8"
             ],
             [
              0.3333333333333333,
              "#9c179e"
             ],
             [
              0.4444444444444444,
              "#bd3786"
             ],
             [
              0.5555555555555556,
              "#d8576b"
             ],
             [
              0.6666666666666666,
              "#ed7953"
             ],
             [
              0.7777777777777778,
              "#fb9f3a"
             ],
             [
              0.8888888888888888,
              "#fdca26"
             ],
             [
              1,
              "#f0f921"
             ]
            ],
            "type": "heatmap"
           }
          ],
          "histogram": [
           {
            "marker": {
             "pattern": {
              "fillmode": "overlay",
              "size": 10,
              "solidity": 0.2
             }
            },
            "type": "histogram"
           }
          ],
          "histogram2d": [
           {
            "colorbar": {
             "outlinewidth": 0,
             "ticks": ""
            },
            "colorscale": [
             [
              0,
              "#0d0887"
             ],
             [
              0.1111111111111111,
              "#46039f"
             ],
             [
              0.2222222222222222,
              "#7201a8"
             ],
             [
              0.3333333333333333,
              "#9c179e"
             ],
             [
              0.4444444444444444,
              "#bd3786"
             ],
             [
              0.5555555555555556,
              "#d8576b"
             ],
             [
              0.6666666666666666,
              "#ed7953"
             ],
             [
              0.7777777777777778,
              "#fb9f3a"
             ],
             [
              0.8888888888888888,
              "#fdca26"
             ],
             [
              1,
              "#f0f921"
             ]
            ],
            "type": "histogram2d"
           }
          ],
          "histogram2dcontour": [
           {
            "colorbar": {
             "outlinewidth": 0,
             "ticks": ""
            },
            "colorscale": [
             [
              0,
              "#0d0887"
             ],
             [
              0.1111111111111111,
              "#46039f"
             ],
             [
              0.2222222222222222,
              "#7201a8"
             ],
             [
              0.3333333333333333,
              "#9c179e"
             ],
             [
              0.4444444444444444,
              "#bd3786"
             ],
             [
              0.5555555555555556,
              "#d8576b"
             ],
             [
              0.6666666666666666,
              "#ed7953"
             ],
             [
              0.7777777777777778,
              "#fb9f3a"
             ],
             [
              0.8888888888888888,
              "#fdca26"
             ],
             [
              1,
              "#f0f921"
             ]
            ],
            "type": "histogram2dcontour"
           }
          ],
          "mesh3d": [
           {
            "colorbar": {
             "outlinewidth": 0,
             "ticks": ""
            },
            "type": "mesh3d"
           }
          ],
          "parcoords": [
           {
            "line": {
             "colorbar": {
              "outlinewidth": 0,
              "ticks": ""
             }
            },
            "type": "parcoords"
           }
          ],
          "pie": [
           {
            "automargin": true,
            "type": "pie"
           }
          ],
          "scatter": [
           {
            "fillpattern": {
             "fillmode": "overlay",
             "size": 10,
             "solidity": 0.2
            },
            "type": "scatter"
           }
          ],
          "scatter3d": [
           {
            "line": {
             "colorbar": {
              "outlinewidth": 0,
              "ticks": ""
             }
            },
            "marker": {
             "colorbar": {
              "outlinewidth": 0,
              "ticks": ""
             }
            },
            "type": "scatter3d"
           }
          ],
          "scattercarpet": [
           {
            "marker": {
             "colorbar": {
              "outlinewidth": 0,
              "ticks": ""
             }
            },
            "type": "scattercarpet"
           }
          ],
          "scattergeo": [
           {
            "marker": {
             "colorbar": {
              "outlinewidth": 0,
              "ticks": ""
             }
            },
            "type": "scattergeo"
           }
          ],
          "scattergl": [
           {
            "marker": {
             "colorbar": {
              "outlinewidth": 0,
              "ticks": ""
             }
            },
            "type": "scattergl"
           }
          ],
          "scattermap": [
           {
            "marker": {
             "colorbar": {
              "outlinewidth": 0,
              "ticks": ""
             }
            },
            "type": "scattermap"
           }
          ],
          "scattermapbox": [
           {
            "marker": {
             "colorbar": {
              "outlinewidth": 0,
              "ticks": ""
             }
            },
            "type": "scattermapbox"
           }
          ],
          "scatterpolar": [
           {
            "marker": {
             "colorbar": {
              "outlinewidth": 0,
              "ticks": ""
             }
            },
            "type": "scatterpolar"
           }
          ],
          "scatterpolargl": [
           {
            "marker": {
             "colorbar": {
              "outlinewidth": 0,
              "ticks": ""
             }
            },
            "type": "scatterpolargl"
           }
          ],
          "scatterternary": [
           {
            "marker": {
             "colorbar": {
              "outlinewidth": 0,
              "ticks": ""
             }
            },
            "type": "scatterternary"
           }
          ],
          "surface": [
           {
            "colorbar": {
             "outlinewidth": 0,
             "ticks": ""
            },
            "colorscale": [
             [
              0,
              "#0d0887"
             ],
             [
              0.1111111111111111,
              "#46039f"
             ],
             [
              0.2222222222222222,
              "#7201a8"
             ],
             [
              0.3333333333333333,
              "#9c179e"
             ],
             [
              0.4444444444444444,
              "#bd3786"
             ],
             [
              0.5555555555555556,
              "#d8576b"
             ],
             [
              0.6666666666666666,
              "#ed7953"
             ],
             [
              0.7777777777777778,
              "#fb9f3a"
             ],
             [
              0.8888888888888888,
              "#fdca26"
             ],
             [
              1,
              "#f0f921"
             ]
            ],
            "type": "surface"
           }
          ],
          "table": [
           {
            "cells": {
             "fill": {
              "color": "#EBF0F8"
             },
             "line": {
              "color": "white"
             }
            },
            "header": {
             "fill": {
              "color": "#C8D4E3"
             },
             "line": {
              "color": "white"
             }
            },
            "type": "table"
           }
          ]
         },
         "layout": {
          "annotationdefaults": {
           "arrowcolor": "#2a3f5f",
           "arrowhead": 0,
           "arrowwidth": 1
          },
          "autotypenumbers": "strict",
          "coloraxis": {
           "colorbar": {
            "outlinewidth": 0,
            "ticks": ""
           }
          },
          "colorscale": {
           "diverging": [
            [
             0,
             "#8e0152"
            ],
            [
             0.1,
             "#c51b7d"
            ],
            [
             0.2,
             "#de77ae"
            ],
            [
             0.3,
             "#f1b6da"
            ],
            [
             0.4,
             "#fde0ef"
            ],
            [
             0.5,
             "#f7f7f7"
            ],
            [
             0.6,
             "#e6f5d0"
            ],
            [
             0.7,
             "#b8e186"
            ],
            [
             0.8,
             "#7fbc41"
            ],
            [
             0.9,
             "#4d9221"
            ],
            [
             1,
             "#276419"
            ]
           ],
           "sequential": [
            [
             0,
             "#0d0887"
            ],
            [
             0.1111111111111111,
             "#46039f"
            ],
            [
             0.2222222222222222,
             "#7201a8"
            ],
            [
             0.3333333333333333,
             "#9c179e"
            ],
            [
             0.4444444444444444,
             "#bd3786"
            ],
            [
             0.5555555555555556,
             "#d8576b"
            ],
            [
             0.6666666666666666,
             "#ed7953"
            ],
            [
             0.7777777777777778,
             "#fb9f3a"
            ],
            [
             0.8888888888888888,
             "#fdca26"
            ],
            [
             1,
             "#f0f921"
            ]
           ],
           "sequentialminus": [
            [
             0,
             "#0d0887"
            ],
            [
             0.1111111111111111,
             "#46039f"
            ],
            [
             0.2222222222222222,
             "#7201a8"
            ],
            [
             0.3333333333333333,
             "#9c179e"
            ],
            [
             0.4444444444444444,
             "#bd3786"
            ],
            [
             0.5555555555555556,
             "#d8576b"
            ],
            [
             0.6666666666666666,
             "#ed7953"
            ],
            [
             0.7777777777777778,
             "#fb9f3a"
            ],
            [
             0.8888888888888888,
             "#fdca26"
            ],
            [
             1,
             "#f0f921"
            ]
           ]
          },
          "colorway": [
           "#636efa",
           "#EF553B",
           "#00cc96",
           "#ab63fa",
           "#FFA15A",
           "#19d3f3",
           "#FF6692",
           "#B6E880",
           "#FF97FF",
           "#FECB52"
          ],
          "font": {
           "color": "#2a3f5f"
          },
          "geo": {
           "bgcolor": "white",
           "lakecolor": "white",
           "landcolor": "#E5ECF6",
           "showlakes": true,
           "showland": true,
           "subunitcolor": "white"
          },
          "hoverlabel": {
           "align": "left"
          },
          "hovermode": "closest",
          "mapbox": {
           "style": "light"
          },
          "paper_bgcolor": "white",
          "plot_bgcolor": "#E5ECF6",
          "polar": {
           "angularaxis": {
            "gridcolor": "white",
            "linecolor": "white",
            "ticks": ""
           },
           "bgcolor": "#E5ECF6",
           "radialaxis": {
            "gridcolor": "white",
            "linecolor": "white",
            "ticks": ""
           }
          },
          "scene": {
           "xaxis": {
            "backgroundcolor": "#E5ECF6",
            "gridcolor": "white",
            "gridwidth": 2,
            "linecolor": "white",
            "showbackground": true,
            "ticks": "",
            "zerolinecolor": "white"
           },
           "yaxis": {
            "backgroundcolor": "#E5ECF6",
            "gridcolor": "white",
            "gridwidth": 2,
            "linecolor": "white",
            "showbackground": true,
            "ticks": "",
            "zerolinecolor": "white"
           },
           "zaxis": {
            "backgroundcolor": "#E5ECF6",
            "gridcolor": "white",
            "gridwidth": 2,
            "linecolor": "white",
            "showbackground": true,
            "ticks": "",
            "zerolinecolor": "white"
           }
          },
          "shapedefaults": {
           "line": {
            "color": "#2a3f5f"
           }
          },
          "ternary": {
           "aaxis": {
            "gridcolor": "white",
            "linecolor": "white",
            "ticks": ""
           },
           "baxis": {
            "gridcolor": "white",
            "linecolor": "white",
            "ticks": ""
           },
           "bgcolor": "#E5ECF6",
           "caxis": {
            "gridcolor": "white",
            "linecolor": "white",
            "ticks": ""
           }
          },
          "title": {
           "x": 0.05
          },
          "xaxis": {
           "automargin": true,
           "gridcolor": "white",
           "linecolor": "white",
           "ticks": "",
           "title": {
            "standoff": 15
           },
           "zerolinecolor": "white",
           "zerolinewidth": 2
          },
          "yaxis": {
           "automargin": true,
           "gridcolor": "white",
           "linecolor": "white",
           "ticks": "",
           "title": {
            "standoff": 15
           },
           "zerolinecolor": "white",
           "zerolinewidth": 2
          }
         }
        },
        "title": {
         "text": "Dispersion des données dans le 6ème arrondissement"
        },
        "xaxis": {
         "anchor": "y",
         "domain": [
          0,
          1
         ],
         "title": {
          "text": "Année"
         }
        },
        "yaxis": {
         "anchor": "x",
         "domain": [
          0,
          1
         ],
         "title": {
          "text": "Prix du m2"
         }
        }
       }
      },
      "image/png": "[encoded data removed]"
     },
     "metadata": {},
     "output_type": "display_data"
    }
   ],
   "source": [
    "transaction_6 = df_transac_sixieme.value_counts('Annee').to_list()\n",
    "prix_m2_6 = (df_evolution_all.iloc[0:5,5]).to_list()\n",
    "\n",
    "\n",
    "fig4 = px.scatter(df_transac_sixieme,\n",
    "                  x=liste_annee,\n",
    "                  y=prix_m2_6,\n",
    "                  size=transaction_6,\n",
    "                  labels={'x':'Année','y':'Prix du m2','size':'Nombres de transactions'},\n",
    "                  title='Dispersion des données dans le 6ème arrondissement'\n",
    "                  )\n",
    "fig4.show()"
   ]
  },
  {
   "cell_type": "markdown",
   "id": "3a4245f6",
   "metadata": {},
   "source": [
    "On observe que le nombre de transactions a tendance à diminuer au fil des ans contrairement au prix du m2 qui lui, a tendance à augmenter.\n",
    "\n",
    "Pour nous rassurer sur la relation entre les données nous allons utiliser un test statistique de corrélation."
   ]
  },
  {
   "cell_type": "markdown",
   "id": "61988c31",
   "metadata": {},
   "source": [
    "### 8. Vérification de la relation entre le prix au m² et la date dans le 6ème arrondissement par le calcul du coefficient de corrélation de Pearson "
   ]
  },
  {
   "cell_type": "markdown",
   "id": "9c715d9c",
   "metadata": {},
   "source": [
    "Pour cette distribution nous allons calculer le coefficient de corrélation de Pearson. La relation entre le prix au metre carré et la date n'est pas forcément linéaire mais elle s'en rapproche suffisamment pour que cette analyse soit pertinente (voir l'évolution du prix au metre carré globale montrée plus haut, on a presque une droite sauf entre 2020 et 2021). Ce qui nous interesse c'est de prouver que le temps a une influence sur le prix."
   ]
  },
  {
   "cell_type": "code",
   "execution_count": 17,
   "id": "b184dd2c",
   "metadata": {
    "scrolled": true
   },
   "outputs": [
    {
     "data": {
      "text/html": [
       "<div>\n",
       "<style scoped>\n",
       "    .dataframe tbody tr th:only-of-type {\n",
       "        vertical-align: middle;\n",
       "    }\n",
       "\n",
       "    .dataframe tbody tr th {\n",
       "        vertical-align: top;\n",
       "    }\n",
       "\n",
       "    .dataframe thead th {\n",
       "        text-align: right;\n",
       "    }\n",
       "</style>\n",
       "<table border=\"1\" class=\"dataframe\">\n",
       "  <thead>\n",
       "    <tr style=\"text-align: right;\">\n",
       "      <th></th>\n",
       "      <th>Annee</th>\n",
       "      <th>valeur_fonciere</th>\n",
       "      <th>code_postal</th>\n",
       "      <th>surface_reelle</th>\n",
       "      <th>prix_m2</th>\n",
       "      <th>nombre_transaction</th>\n",
       "    </tr>\n",
       "  </thead>\n",
       "  <tbody>\n",
       "    <tr>\n",
       "      <th>0</th>\n",
       "      <td>2017</td>\n",
       "      <td>582541.65</td>\n",
       "      <td>75006.0</td>\n",
       "      <td>46.62</td>\n",
       "      <td>12508.84</td>\n",
       "      <td>198</td>\n",
       "    </tr>\n",
       "    <tr>\n",
       "      <th>1</th>\n",
       "      <td>2018</td>\n",
       "      <td>690174.51</td>\n",
       "      <td>75006.0</td>\n",
       "      <td>53.75</td>\n",
       "      <td>12896.28</td>\n",
       "      <td>175</td>\n",
       "    </tr>\n",
       "    <tr>\n",
       "      <th>2</th>\n",
       "      <td>2019</td>\n",
       "      <td>677444.41</td>\n",
       "      <td>75006.0</td>\n",
       "      <td>50.63</td>\n",
       "      <td>13378.07</td>\n",
       "      <td>123</td>\n",
       "    </tr>\n",
       "    <tr>\n",
       "      <th>3</th>\n",
       "      <td>2020</td>\n",
       "      <td>755259.93</td>\n",
       "      <td>75006.0</td>\n",
       "      <td>54.67</td>\n",
       "      <td>13807.09</td>\n",
       "      <td>108</td>\n",
       "    </tr>\n",
       "    <tr>\n",
       "      <th>4</th>\n",
       "      <td>2021</td>\n",
       "      <td>709572.17</td>\n",
       "      <td>75006.0</td>\n",
       "      <td>51.34</td>\n",
       "      <td>13795.05</td>\n",
       "      <td>105</td>\n",
       "    </tr>\n",
       "  </tbody>\n",
       "</table>\n",
       "</div>"
      ],
      "text/plain": [
       "   Annee  valeur_fonciere  code_postal  surface_reelle   prix_m2  \\\n",
       "0   2017        582541.65      75006.0           46.62  12508.84   \n",
       "1   2018        690174.51      75006.0           53.75  12896.28   \n",
       "2   2019        677444.41      75006.0           50.63  13378.07   \n",
       "3   2020        755259.93      75006.0           54.67  13807.09   \n",
       "4   2021        709572.17      75006.0           51.34  13795.05   \n",
       "\n",
       "   nombre_transaction  \n",
       "0                 198  \n",
       "1                 175  \n",
       "2                 123  \n",
       "3                 108  \n",
       "4                 105  "
      ]
     },
     "metadata": {},
     "output_type": "display_data"
    },
    {
     "name": "stdout",
     "output_type": "stream",
     "text": [
      "\n",
      "Le coefficient de corrélation : 0.97.\n",
      "Celui ci étant proche de 1 il confirme une forte corrélation entre nos deux variables. Etant positif, il indique que lorsque l'une de nos deux variables augmente, l'autre tend à faire de même .\n",
      "La valeur p (pvalue)est de 7.50885250540423e-11,\n"
     ]
    }
   ],
   "source": [
    "#On calcule la corrélation de Pearson\n",
    "from scipy import stats\n",
    "df_test_correlation = round(df_transac_sixieme.groupby('Annee').mean('valeur_fonciere'),2)\n",
    "df_test_correlation = df_test_correlation.rename_axis('Annee').reset_index()\n",
    "df_test_correlation['nombre_transaction'] = transaction_6\n",
    "display(df_test_correlation)\n",
    "print()\n",
    "coef_corr = round(st.pearsonr(df_test_correlation['Annee'],df_test_correlation['prix_m2'])[0],2)\n",
    "val_p = st.ttest_ind(df_test_correlation['Annee'],df_test_correlation['prix_m2']).pvalue\n",
    "print(f\"Le coefficient de corrélation : {coef_corr}.\")\n",
    "print(\"Celui ci étant proche de 1 il confirme une forte corrélation entre nos deux variables. Etant positif, il indique que lorsque l'une de nos deux variables augmente, l'autre tend à faire de même .\")\n",
    "print(f\"La valeur p (pvalue)est de {val_p},\")"
   ]
  },
  {
   "cell_type": "markdown",
   "id": "82a5fbab",
   "metadata": {},
   "source": [
    "Le coefficient de corrélation est de 0,97 avec une pvalue de 7e-11 donc nous pouvons confirmer la corrélation."
   ]
  },
  {
   "cell_type": "markdown",
   "id": "8d3978f5",
   "metadata": {},
   "source": [
    "### 9. Vérification de la relation entre la valeur fonciere et la surface"
   ]
  },
  {
   "cell_type": "code",
   "execution_count": 18,
   "id": "c8c11d53",
   "metadata": {},
   "outputs": [
    {
     "name": "stdout",
     "output_type": "stream",
     "text": [
      "Le coefficient de corrélation : 0.92.\n",
      "Celui ci étant proche de 1 et positif, il confirme une forte corrélation entre nos deux variables ainsi que le fait que lorsqu'une des deux variables augmente, l'autre a tendance à augmenter également.\n",
      "La valeur p (pvalue)est de 9.463551948605813e-09,\n"
     ]
    }
   ],
   "source": [
    "coef_corr1 = round(st.pearsonr(df_test_correlation['surface_reelle'],df_test_correlation['valeur_fonciere'])[0],2)\n",
    "val_p1 = st.ttest_ind(df_test_correlation['surface_reelle'],df_test_correlation['valeur_fonciere']).pvalue\n",
    "print(f\"Le coefficient de corrélation : {coef_corr1}.\")\n",
    "print(\"Celui ci étant proche de 1 et positif, il confirme une forte corrélation entre nos deux variables ainsi que le fait que lorsqu'une des deux variables augmente, l'autre a tendance à augmenter également.\")\n",
    "print(f\"La valeur p (pvalue)est de {val_p1},\")"
   ]
  },
  {
   "cell_type": "markdown",
   "id": "d428ff7e",
   "metadata": {},
   "source": [
    "Le coefficient de corrélation est de 0,92 avec une pvalue de 9e-9. La relation est donc confirmée."
   ]
  },
  {
   "cell_type": "markdown",
   "id": "35a150eb",
   "metadata": {},
   "source": [
    "Regardons maintenant si le type de bien à une influence sur le prix au metre carré également."
   ]
  },
  {
   "cell_type": "markdown",
   "id": "ee061e7d",
   "metadata": {},
   "source": [
    "### 10. Analyse des locaux industriels, commerciaux et assimilés "
   ]
  },
  {
   "cell_type": "code",
   "execution_count": 19,
   "id": "cfd7bc23",
   "metadata": {},
   "outputs": [
    {
     "data": {
      "text/html": [
       "<div>\n",
       "<style scoped>\n",
       "    .dataframe tbody tr th:only-of-type {\n",
       "        vertical-align: middle;\n",
       "    }\n",
       "\n",
       "    .dataframe tbody tr th {\n",
       "        vertical-align: top;\n",
       "    }\n",
       "\n",
       "    .dataframe thead th {\n",
       "        text-align: right;\n",
       "    }\n",
       "</style>\n",
       "<table border=\"1\" class=\"dataframe\">\n",
       "  <thead>\n",
       "    <tr style=\"text-align: right;\">\n",
       "      <th></th>\n",
       "      <th>date_mutation</th>\n",
       "      <th>valeur_fonciere</th>\n",
       "      <th>adresse_numero</th>\n",
       "      <th>adresse_nom_voie</th>\n",
       "      <th>code_postal</th>\n",
       "      <th>nom_commune</th>\n",
       "      <th>code_type_local</th>\n",
       "      <th>type_local</th>\n",
       "      <th>surface_reelle</th>\n",
       "      <th>prix_m2</th>\n",
       "    </tr>\n",
       "  </thead>\n",
       "  <tbody>\n",
       "    <tr>\n",
       "      <th>18</th>\n",
       "      <td>2017-02-01</td>\n",
       "      <td>3.113277e+06</td>\n",
       "      <td>65</td>\n",
       "      <td>RUE DE TURBIGO</td>\n",
       "      <td>75003</td>\n",
       "      <td>Paris 3e Arrondissement</td>\n",
       "      <td>4</td>\n",
       "      <td>Local industriel. commercial ou assimilé</td>\n",
       "      <td>250</td>\n",
       "      <td>12453.11</td>\n",
       "    </tr>\n",
       "    <tr>\n",
       "      <th>29</th>\n",
       "      <td>2017-02-17</td>\n",
       "      <td>1.164375e+06</td>\n",
       "      <td>17</td>\n",
       "      <td>RUE DU PONT AUX CHOUX</td>\n",
       "      <td>75003</td>\n",
       "      <td>Paris 3e Arrondissement</td>\n",
       "      <td>4</td>\n",
       "      <td>Local industriel. commercial ou assimilé</td>\n",
       "      <td>95</td>\n",
       "      <td>12256.58</td>\n",
       "    </tr>\n",
       "    <tr>\n",
       "      <th>34</th>\n",
       "      <td>2017-02-20</td>\n",
       "      <td>3.802522e+05</td>\n",
       "      <td>10</td>\n",
       "      <td>RUE CAFFARELLI</td>\n",
       "      <td>75003</td>\n",
       "      <td>Paris 3e Arrondissement</td>\n",
       "      <td>4</td>\n",
       "      <td>Local industriel. commercial ou assimilé</td>\n",
       "      <td>31</td>\n",
       "      <td>12266.20</td>\n",
       "    </tr>\n",
       "    <tr>\n",
       "      <th>91</th>\n",
       "      <td>2017-03-09</td>\n",
       "      <td>3.623842e+05</td>\n",
       "      <td>33</td>\n",
       "      <td>RUE DE RICHELIEU</td>\n",
       "      <td>75001</td>\n",
       "      <td>Paris 1er Arrondissement</td>\n",
       "      <td>4</td>\n",
       "      <td>Local industriel. commercial ou assimilé</td>\n",
       "      <td>29</td>\n",
       "      <td>12496.01</td>\n",
       "    </tr>\n",
       "    <tr>\n",
       "      <th>109</th>\n",
       "      <td>2017-03-29</td>\n",
       "      <td>3.159072e+05</td>\n",
       "      <td>130</td>\n",
       "      <td>RUE VIEILLE DU TEMPLE</td>\n",
       "      <td>75003</td>\n",
       "      <td>Paris 3e Arrondissement</td>\n",
       "      <td>4</td>\n",
       "      <td>Local industriel. commercial ou assimilé</td>\n",
       "      <td>25</td>\n",
       "      <td>12636.29</td>\n",
       "    </tr>\n",
       "    <tr>\n",
       "      <th>...</th>\n",
       "      <td>...</td>\n",
       "      <td>...</td>\n",
       "      <td>...</td>\n",
       "      <td>...</td>\n",
       "      <td>...</td>\n",
       "      <td>...</td>\n",
       "      <td>...</td>\n",
       "      <td>...</td>\n",
       "      <td>...</td>\n",
       "      <td>...</td>\n",
       "    </tr>\n",
       "    <tr>\n",
       "      <th>26149</th>\n",
       "      <td>2021-01-13</td>\n",
       "      <td>1.903438e+05</td>\n",
       "      <td>3</td>\n",
       "      <td>RUE SAINT-JOSEPH</td>\n",
       "      <td>75002</td>\n",
       "      <td>Paris 2e Arrondissement</td>\n",
       "      <td>4</td>\n",
       "      <td>Local industriel. commercial ou assimilé</td>\n",
       "      <td>15</td>\n",
       "      <td>12689.58</td>\n",
       "    </tr>\n",
       "    <tr>\n",
       "      <th>26164</th>\n",
       "      <td>2021-01-26</td>\n",
       "      <td>4.487582e+05</td>\n",
       "      <td>2</td>\n",
       "      <td>RUE GRETRY</td>\n",
       "      <td>75002</td>\n",
       "      <td>Paris 2e Arrondissement</td>\n",
       "      <td>4</td>\n",
       "      <td>Local industriel. commercial ou assimilé</td>\n",
       "      <td>35</td>\n",
       "      <td>12821.66</td>\n",
       "    </tr>\n",
       "    <tr>\n",
       "      <th>26166</th>\n",
       "      <td>2021-01-13</td>\n",
       "      <td>6.409217e+05</td>\n",
       "      <td>115</td>\n",
       "      <td>RUE D ABOUKIR</td>\n",
       "      <td>75002</td>\n",
       "      <td>Paris 2e Arrondissement</td>\n",
       "      <td>4</td>\n",
       "      <td>Local industriel. commercial ou assimilé</td>\n",
       "      <td>49</td>\n",
       "      <td>13080.03</td>\n",
       "    </tr>\n",
       "    <tr>\n",
       "      <th>26190</th>\n",
       "      <td>2021-02-26</td>\n",
       "      <td>5.131939e+05</td>\n",
       "      <td>16</td>\n",
       "      <td>RUE AUBRIOT</td>\n",
       "      <td>75004</td>\n",
       "      <td>Paris 4e Arrondissement</td>\n",
       "      <td>4</td>\n",
       "      <td>Local industriel. commercial ou assimilé</td>\n",
       "      <td>37</td>\n",
       "      <td>13870.11</td>\n",
       "    </tr>\n",
       "    <tr>\n",
       "      <th>26192</th>\n",
       "      <td>2021-02-17</td>\n",
       "      <td>1.982330e+06</td>\n",
       "      <td>23</td>\n",
       "      <td>RUE DU SENTIER</td>\n",
       "      <td>75002</td>\n",
       "      <td>Paris 2e Arrondissement</td>\n",
       "      <td>4</td>\n",
       "      <td>Local industriel. commercial ou assimilé</td>\n",
       "      <td>150</td>\n",
       "      <td>13215.54</td>\n",
       "    </tr>\n",
       "  </tbody>\n",
       "</table>\n",
       "<p>1843 rows × 10 columns</p>\n",
       "</div>"
      ],
      "text/plain": [
       "      date_mutation  valeur_fonciere  adresse_numero       adresse_nom_voie  \\\n",
       "18       2017-02-01     3.113277e+06              65         RUE DE TURBIGO   \n",
       "29       2017-02-17     1.164375e+06              17  RUE DU PONT AUX CHOUX   \n",
       "34       2017-02-20     3.802522e+05              10         RUE CAFFARELLI   \n",
       "91       2017-03-09     3.623842e+05              33       RUE DE RICHELIEU   \n",
       "109      2017-03-29     3.159072e+05             130  RUE VIEILLE DU TEMPLE   \n",
       "...             ...              ...             ...                    ...   \n",
       "26149    2021-01-13     1.903438e+05               3       RUE SAINT-JOSEPH   \n",
       "26164    2021-01-26     4.487582e+05               2             RUE GRETRY   \n",
       "26166    2021-01-13     6.409217e+05             115          RUE D ABOUKIR   \n",
       "26190    2021-02-26     5.131939e+05              16            RUE AUBRIOT   \n",
       "26192    2021-02-17     1.982330e+06              23         RUE DU SENTIER   \n",
       "\n",
       "       code_postal               nom_commune  code_type_local  \\\n",
       "18           75003   Paris 3e Arrondissement                4   \n",
       "29           75003   Paris 3e Arrondissement                4   \n",
       "34           75003   Paris 3e Arrondissement                4   \n",
       "91           75001  Paris 1er Arrondissement                4   \n",
       "109          75003   Paris 3e Arrondissement                4   \n",
       "...            ...                       ...              ...   \n",
       "26149        75002   Paris 2e Arrondissement                4   \n",
       "26164        75002   Paris 2e Arrondissement                4   \n",
       "26166        75002   Paris 2e Arrondissement                4   \n",
       "26190        75004   Paris 4e Arrondissement                4   \n",
       "26192        75002   Paris 2e Arrondissement                4   \n",
       "\n",
       "                                     type_local  surface_reelle   prix_m2  \n",
       "18     Local industriel. commercial ou assimilé             250  12453.11  \n",
       "29     Local industriel. commercial ou assimilé              95  12256.58  \n",
       "34     Local industriel. commercial ou assimilé              31  12266.20  \n",
       "91     Local industriel. commercial ou assimilé              29  12496.01  \n",
       "109    Local industriel. commercial ou assimilé              25  12636.29  \n",
       "...                                         ...             ...       ...  \n",
       "26149  Local industriel. commercial ou assimilé              15  12689.58  \n",
       "26164  Local industriel. commercial ou assimilé              35  12821.66  \n",
       "26166  Local industriel. commercial ou assimilé              49  13080.03  \n",
       "26190  Local industriel. commercial ou assimilé              37  13870.11  \n",
       "26192  Local industriel. commercial ou assimilé             150  13215.54  \n",
       "\n",
       "[1843 rows x 10 columns]"
      ]
     },
     "metadata": {},
     "output_type": "display_data"
    }
   ],
   "source": [
    "#On crée un dataset qui ne contient que les locaux commerciaux\n",
    "df_locaux = df_historique[df_historique['type_local']=='Local industriel. commercial ou assimilé']\n",
    "display(df_locaux)"
   ]
  },
  {
   "cell_type": "code",
   "execution_count": 20,
   "id": "c31ec545",
   "metadata": {
    "scrolled": true
   },
   "outputs": [
    {
     "data": {
      "text/html": [
       "<div>\n",
       "<style scoped>\n",
       "    .dataframe tbody tr th:only-of-type {\n",
       "        vertical-align: middle;\n",
       "    }\n",
       "\n",
       "    .dataframe tbody tr th {\n",
       "        vertical-align: top;\n",
       "    }\n",
       "\n",
       "    .dataframe thead th {\n",
       "        text-align: right;\n",
       "    }\n",
       "</style>\n",
       "<table border=\"1\" class=\"dataframe\">\n",
       "  <thead>\n",
       "    <tr style=\"text-align: right;\">\n",
       "      <th></th>\n",
       "      <th>Annee</th>\n",
       "      <th>valeur_fonciere</th>\n",
       "      <th>surface_reelle</th>\n",
       "      <th>prix_m2</th>\n",
       "    </tr>\n",
       "  </thead>\n",
       "  <tbody>\n",
       "    <tr>\n",
       "      <th>0</th>\n",
       "      <td>2017</td>\n",
       "      <td>965459.45</td>\n",
       "      <td>89.99</td>\n",
       "      <td>10949.91</td>\n",
       "    </tr>\n",
       "    <tr>\n",
       "      <th>1</th>\n",
       "      <td>2018</td>\n",
       "      <td>1003463.18</td>\n",
       "      <td>88.10</td>\n",
       "      <td>11569.50</td>\n",
       "    </tr>\n",
       "    <tr>\n",
       "      <th>2</th>\n",
       "      <td>2019</td>\n",
       "      <td>992822.16</td>\n",
       "      <td>82.83</td>\n",
       "      <td>11960.13</td>\n",
       "    </tr>\n",
       "    <tr>\n",
       "      <th>3</th>\n",
       "      <td>2020</td>\n",
       "      <td>1034380.46</td>\n",
       "      <td>85.63</td>\n",
       "      <td>11966.47</td>\n",
       "    </tr>\n",
       "    <tr>\n",
       "      <th>4</th>\n",
       "      <td>2021</td>\n",
       "      <td>1129357.18</td>\n",
       "      <td>92.83</td>\n",
       "      <td>12006.49</td>\n",
       "    </tr>\n",
       "  </tbody>\n",
       "</table>\n",
       "</div>"
      ],
      "text/plain": [
       "   Annee  valeur_fonciere  surface_reelle   prix_m2\n",
       "0   2017        965459.45           89.99  10949.91\n",
       "1   2018       1003463.18           88.10  11569.50\n",
       "2   2019        992822.16           82.83  11960.13\n",
       "3   2020       1034380.46           85.63  11966.47\n",
       "4   2021       1129357.18           92.83  12006.49"
      ]
     },
     "metadata": {},
     "output_type": "display_data"
    }
   ],
   "source": [
    "#Préparons un dataframe en regroupant les prix au metre carré moyens des ventes par année\n",
    "df_locaux['Annee'] = df_locaux['date_mutation'].dt.year\n",
    "df_moyenne_locaux = round(df_locaux.groupby('Annee').mean('prix_m2'),2)\n",
    "df_moyenne_locaux.drop(['adresse_numero','code_postal','code_type_local'],axis=1,inplace=True)\n",
    "df_moyenne_locaux = df_moyenne_locaux.rename_axis('Annee').reset_index()\n",
    "display(df_moyenne_locaux)"
   ]
  },
  {
   "cell_type": "code",
   "execution_count": 21,
   "id": "32b9b69c",
   "metadata": {},
   "outputs": [
    {
     "data": {
      "application/vnd.plotly.v1+json": {
       "config": {
        "plotlyServerURL": "https://plot.ly"
       },
       "data": [
        {
         "hovertemplate": "variable=Appartements<br>Annee=%{x}<br>Prix du m2 (€)=%{y}<extra></extra>",
         "legendgroup": "Appartements",
         "line": {
          "color": "#636efa",
          "dash": "solid"
         },
         "marker": {
          "symbol": "circle"
         },
         "mode": "lines+markers",
         "name": "Appartements",
         "orientation": "v",
         "showlegend": true,
         "type": "scatter",
         "x": [
          "2017",
          "2018",
          "2019",
          "2020",
          "2021"
         ],
         "xaxis": "x",
         "y": {
          "bdata": "SOF6FG6KwkAzMzMzs5fDQBSuR+FaocRAw/UoXG/ZxEDNzMzMzGvEQA==",
          "dtype": "f8"
         },
         "yaxis": "y"
        },
        {
         "hovertemplate": "variable=Locaux<br>Annee=%{x}<br>Prix du m2 (€)=%{y}<extra></extra>",
         "legendgroup": "Locaux",
         "line": {
          "color": "#EF553B",
          "dash": "solid"
         },
         "marker": {
          "symbol": "circle"
         },
         "mode": "lines+markers",
         "name": "Locaux",
         "orientation": "v",
         "showlegend": true,
         "type": "scatter",
         "x": [
          "2017",
          "2018",
          "2019",
          "2020",
          "2021"
         ],
         "xaxis": "x",
         "y": {
          "bdata": "rkfhevRixUAAAAAAwJjGQD0K16MQXMdAj8L1KDxfx0CF61G4PnPHQA==",
          "dtype": "f8"
         },
         "yaxis": "y"
        }
       ],
       "layout": {
        "legend": {
         "title": {
          "text": "variable"
         },
         "tracegroupgap": 0
        },
        "template": {
         "data": {
          "bar": [
           {
            "error_x": {
             "color": "#2a3f5f"
            },
            "error_y": {
             "color": "#2a3f5f"
            },
            "marker": {
             "line": {
              "color": "#E5ECF6",
              "width": 0.5
             },
             "pattern": {
              "fillmode": "overlay",
              "size": 10,
              "solidity": 0.2
             }
            },
            "type": "bar"
           }
          ],
          "barpolar": [
           {
            "marker": {
             "line": {
              "color": "#E5ECF6",
              "width": 0.5
             },
             "pattern": {
              "fillmode": "overlay",
              "size": 10,
              "solidity": 0.2
             }
            },
            "type": "barpolar"
           }
          ],
          "carpet": [
           {
            "aaxis": {
             "endlinecolor": "#2a3f5f",
             "gridcolor": "white",
             "linecolor": "white",
             "minorgridcolor": "white",
             "startlinecolor": "#2a3f5f"
            },
            "baxis": {
             "endlinecolor": "#2a3f5f",
             "gridcolor": "white",
             "linecolor": "white",
             "minorgridcolor": "white",
             "startlinecolor": "#2a3f5f"
            },
            "type": "carpet"
           }
          ],
          "choropleth": [
           {
            "colorbar": {
             "outlinewidth": 0,
             "ticks": ""
            },
            "type": "choropleth"
           }
          ],
          "contour": [
           {
            "colorbar": {
             "outlinewidth": 0,
             "ticks": ""
            },
            "colorscale": [
             [
              0,
              "#0d0887"
             ],
             [
              0.1111111111111111,
              "#46039f"
             ],
             [
              0.2222222222222222,
              "#7201a8"
             ],
             [
              0.3333333333333333,
              "#9c179e"
             ],
             [
              0.4444444444444444,
              "#bd3786"
             ],
             [
              0.5555555555555556,
              "#d8576b"
             ],
             [
              0.6666666666666666,
              "#ed7953"
             ],
             [
              0.7777777777777778,
              "#fb9f3a"
             ],
             [
              0.8888888888888888,
              "#fdca26"
             ],
             [
              1,
              "#f0f921"
             ]
            ],
            "type": "contour"
           }
          ],
          "contourcarpet": [
           {
            "colorbar": {
             "outlinewidth": 0,
             "ticks": ""
            },
            "type": "contourcarpet"
           }
          ],
          "heatmap": [
           {
            "colorbar": {
             "outlinewidth": 0,
             "ticks": ""
            },
            "colorscale": [
             [
              0,
              "#0d0887"
             ],
             [
              0.1111111111111111,
              "#46039f"
             ],
             [
              0.2222222222222222,
              "#7201a8"
             ],
             [
              0.3333333333333333,
              "#9c179e"
             ],
             [
              0.4444444444444444,
              "#bd3786"
             ],
             [
              0.5555555555555556,
              "#d8576b"
             ],
             [
              0.6666666666666666,
              "#ed7953"
             ],
             [
              0.7777777777777778,
              "#fb9f3a"
             ],
             [
              0.8888888888888888,
              "#fdca26"
             ],
             [
              1,
              "#f0f921"
             ]
            ],
            "type": "heatmap"
           }
          ],
          "histogram": [
           {
            "marker": {
             "pattern": {
              "fillmode": "overlay",
              "size": 10,
              "solidity": 0.2
             }
            },
            "type": "histogram"
           }
          ],
          "histogram2d": [
           {
            "colorbar": {
             "outlinewidth": 0,
             "ticks": ""
            },
            "colorscale": [
             [
              0,
              "#0d0887"
             ],
             [
              0.1111111111111111,
              "#46039f"
             ],
             [
              0.2222222222222222,
              "#7201a8"
             ],
             [
              0.3333333333333333,
              "#9c179e"
             ],
             [
              0.4444444444444444,
              "#bd3786"
             ],
             [
              0.5555555555555556,
              "#d8576b"
             ],
             [
              0.6666666666666666,
              "#ed7953"
             ],
             [
              0.7777777777777778,
              "#fb9f3a"
             ],
             [
              0.8888888888888888,
              "#fdca26"
             ],
             [
              1,
              "#f0f921"
             ]
            ],
            "type": "histogram2d"
           }
          ],
          "histogram2dcontour": [
           {
            "colorbar": {
             "outlinewidth": 0,
             "ticks": ""
            },
            "colorscale": [
             [
              0,
              "#0d0887"
             ],
             [
              0.1111111111111111,
              "#46039f"
             ],
             [
              0.2222222222222222,
              "#7201a8"
             ],
             [
              0.3333333333333333,
              "#9c179e"
             ],
             [
              0.4444444444444444,
              "#bd3786"
             ],
             [
              0.5555555555555556,
              "#d8576b"
             ],
             [
              0.6666666666666666,
              "#ed7953"
             ],
             [
              0.7777777777777778,
              "#fb9f3a"
             ],
             [
              0.8888888888888888,
              "#fdca26"
             ],
             [
              1,
              "#f0f921"
             ]
            ],
            "type": "histogram2dcontour"
           }
          ],
          "mesh3d": [
           {
            "colorbar": {
             "outlinewidth": 0,
             "ticks": ""
            },
            "type": "mesh3d"
           }
          ],
          "parcoords": [
           {
            "line": {
             "colorbar": {
              "outlinewidth": 0,
              "ticks": ""
             }
            },
            "type": "parcoords"
           }
          ],
          "pie": [
           {
            "automargin": true,
            "type": "pie"
           }
          ],
          "scatter": [
           {
            "fillpattern": {
             "fillmode": "overlay",
             "size": 10,
             "solidity": 0.2
            },
            "type": "scatter"
           }
          ],
          "scatter3d": [
           {
            "line": {
             "colorbar": {
              "outlinewidth": 0,
              "ticks": ""
             }
            },
            "marker": {
             "colorbar": {
              "outlinewidth": 0,
              "ticks": ""
             }
            },
            "type": "scatter3d"
           }
          ],
          "scattercarpet": [
           {
            "marker": {
             "colorbar": {
              "outlinewidth": 0,
              "ticks": ""
             }
            },
            "type": "scattercarpet"
           }
          ],
          "scattergeo": [
           {
            "marker": {
             "colorbar": {
              "outlinewidth": 0,
              "ticks": ""
             }
            },
            "type": "scattergeo"
           }
          ],
          "scattergl": [
           {
            "marker": {
             "colorbar": {
              "outlinewidth": 0,
              "ticks": ""
             }
            },
            "type": "scattergl"
           }
          ],
          "scattermap": [
           {
            "marker": {
             "colorbar": {
              "outlinewidth": 0,
              "ticks": ""
             }
            },
            "type": "scattermap"
           }
          ],
          "scattermapbox": [
           {
            "marker": {
             "colorbar": {
              "outlinewidth": 0,
              "ticks": ""
             }
            },
            "type": "scattermapbox"
           }
          ],
          "scatterpolar": [
           {
            "marker": {
             "colorbar": {
              "outlinewidth": 0,
              "ticks": ""
             }
            },
            "type": "scatterpolar"
           }
          ],
          "scatterpolargl": [
           {
            "marker": {
             "colorbar": {
              "outlinewidth": 0,
              "ticks": ""
             }
            },
            "type": "scatterpolargl"
           }
          ],
          "scatterternary": [
           {
            "marker": {
             "colorbar": {
              "outlinewidth": 0,
              "ticks": ""
             }
            },
            "type": "scatterternary"
           }
          ],
          "surface": [
           {
            "colorbar": {
             "outlinewidth": 0,
             "ticks": ""
            },
            "colorscale": [
             [
              0,
              "#0d0887"
             ],
             [
              0.1111111111111111,
              "#46039f"
             ],
             [
              0.2222222222222222,
              "#7201a8"
             ],
             [
              0.3333333333333333,
              "#9c179e"
             ],
             [
              0.4444444444444444,
              "#bd3786"
             ],
             [
              0.5555555555555556,
              "#d8576b"
             ],
             [
              0.6666666666666666,
              "#ed7953"
             ],
             [
              0.7777777777777778,
              "#fb9f3a"
             ],
             [
              0.8888888888888888,
              "#fdca26"
             ],
             [
              1,
              "#f0f921"
             ]
            ],
            "type": "surface"
           }
          ],
          "table": [
           {
            "cells": {
             "fill": {
              "color": "#EBF0F8"
             },
             "line": {
              "color": "white"
             }
            },
            "header": {
             "fill": {
              "color": "#C8D4E3"
             },
             "line": {
              "color": "white"
             }
            },
            "type": "table"
           }
          ]
         },
         "layout": {
          "annotationdefaults": {
           "arrowcolor": "#2a3f5f",
           "arrowhead": 0,
           "arrowwidth": 1
          },
          "autotypenumbers": "strict",
          "coloraxis": {
           "colorbar": {
            "outlinewidth": 0,
            "ticks": ""
           }
          },
          "colorscale": {
           "diverging": [
            [
             0,
             "#8e0152"
            ],
            [
             0.1,
             "#c51b7d"
            ],
            [
             0.2,
             "#de77ae"
            ],
            [
             0.3,
             "#f1b6da"
            ],
            [
             0.4,
             "#fde0ef"
            ],
            [
             0.5,
             "#f7f7f7"
            ],
            [
             0.6,
             "#e6f5d0"
            ],
            [
             0.7,
             "#b8e186"
            ],
            [
             0.8,
             "#7fbc41"
            ],
            [
             0.9,
             "#4d9221"
            ],
            [
             1,
             "#276419"
            ]
           ],
           "sequential": [
            [
             0,
             "#0d0887"
            ],
            [
             0.1111111111111111,
             "#46039f"
            ],
            [
             0.2222222222222222,
             "#7201a8"
            ],
            [
             0.3333333333333333,
             "#9c179e"
            ],
            [
             0.4444444444444444,
             "#bd3786"
            ],
            [
             0.5555555555555556,
             "#d8576b"
            ],
            [
             0.6666666666666666,
             "#ed7953"
            ],
            [
             0.7777777777777778,
             "#fb9f3a"
            ],
            [
             0.8888888888888888,
             "#fdca26"
            ],
            [
             1,
             "#f0f921"
            ]
           ],
           "sequentialminus": [
            [
             0,
             "#0d0887"
            ],
            [
             0.1111111111111111,
             "#46039f"
            ],
            [
             0.2222222222222222,
             "#7201a8"
            ],
            [
             0.3333333333333333,
             "#9c179e"
            ],
            [
             0.4444444444444444,
             "#bd3786"
            ],
            [
             0.5555555555555556,
             "#d8576b"
            ],
            [
             0.6666666666666666,
             "#ed7953"
            ],
            [
             0.7777777777777778,
             "#fb9f3a"
            ],
            [
             0.8888888888888888,
             "#fdca26"
            ],
            [
             1,
             "#f0f921"
            ]
           ]
          },
          "colorway": [
           "#636efa",
           "#EF553B",
           "#00cc96",
           "#ab63fa",
           "#FFA15A",
           "#19d3f3",
           "#FF6692",
           "#B6E880",
           "#FF97FF",
           "#FECB52"
          ],
          "font": {
           "color": "#2a3f5f"
          },
          "geo": {
           "bgcolor": "white",
           "lakecolor": "white",
           "landcolor": "#E5ECF6",
           "showlakes": true,
           "showland": true,
           "subunitcolor": "white"
          },
          "hoverlabel": {
           "align": "left"
          },
          "hovermode": "closest",
          "mapbox": {
           "style": "light"
          },
          "paper_bgcolor": "white",
          "plot_bgcolor": "#E5ECF6",
          "polar": {
           "angularaxis": {
            "gridcolor": "white",
            "linecolor": "white",
            "ticks": ""
           },
           "bgcolor": "#E5ECF6",
           "radialaxis": {
            "gridcolor": "white",
            "linecolor": "white",
            "ticks": ""
           }
          },
          "scene": {
           "xaxis": {
            "backgroundcolor": "#E5ECF6",
            "gridcolor": "white",
            "gridwidth": 2,
            "linecolor": "white",
            "showbackground": true,
            "ticks": "",
            "zerolinecolor": "white"
           },
           "yaxis": {
            "backgroundcolor": "#E5ECF6",
            "gridcolor": "white",
            "gridwidth": 2,
            "linecolor": "white",
            "showbackground": true,
            "ticks": "",
            "zerolinecolor": "white"
           },
           "zaxis": {
            "backgroundcolor": "#E5ECF6",
            "gridcolor": "white",
            "gridwidth": 2,
            "linecolor": "white",
            "showbackground": true,
            "ticks": "",
            "zerolinecolor": "white"
           }
          },
          "shapedefaults": {
           "line": {
            "color": "#2a3f5f"
           }
          },
          "ternary": {
           "aaxis": {
            "gridcolor": "white",
            "linecolor": "white",
            "ticks": ""
           },
           "baxis": {
            "gridcolor": "white",
            "linecolor": "white",
            "ticks": ""
           },
           "bgcolor": "#E5ECF6",
           "caxis": {
            "gridcolor": "white",
            "linecolor": "white",
            "ticks": ""
           }
          },
          "title": {
           "x": 0.05
          },
          "xaxis": {
           "automargin": true,
           "gridcolor": "white",
           "linecolor": "white",
           "ticks": "",
           "title": {
            "standoff": 15
           },
           "zerolinecolor": "white",
           "zerolinewidth": 2
          },
          "yaxis": {
           "automargin": true,
           "gridcolor": "white",
           "linecolor": "white",
           "ticks": "",
           "title": {
            "standoff": 15
           },
           "zerolinecolor": "white",
           "zerolinewidth": 2
          }
         }
        },
        "title": {
         "text": "Comparaison de l'évolution des prix au metre carré entre nos types de biens"
        },
        "xaxis": {
         "anchor": "y",
         "domain": [
          0,
          1
         ],
         "title": {
          "text": "Annee"
         }
        },
        "yaxis": {
         "anchor": "x",
         "domain": [
          0,
          1
         ],
         "title": {
          "text": "Prix du m2 (€)"
         }
        }
       }
      }
     },
     "metadata": {},
     "output_type": "display_data"
    }
   ],
   "source": [
    "prix_m2_appartement = df_all_appart['prix_m2'].to_list()\n",
    "prix_m2_locaux = df_moyenne_locaux['prix_m2'].to_list()\n",
    "fig4 = px.line(df_moyenne_locaux, \n",
    "               x=liste_annee, \n",
    "               y=[prix_m2_appartement,prix_m2_locaux],\n",
    "               title=\"Comparaison de l'évolution des prix au metre carré entre nos types de biens\",\n",
    "               markers=True,\n",
    "               labels={'x':'Annee','value':'Prix du m2 (€)'}\n",
    "               )\n",
    "newnames2 = {'wide_variable_0':'Appartements',\n",
    "            'wide_variable_1': 'Locaux'}\n",
    "fig4.for_each_trace(lambda t: t.update(name = newnames2[t.name], legendgroup = newnames2[t.name], \n",
    "                                      hovertemplate = t.hovertemplate.replace(t.name, newnames2[t.name])))\n",
    "fig4.show()"
   ]
  },
  {
   "cell_type": "markdown",
   "id": "1b1626cb",
   "metadata": {},
   "source": [
    "Le prix au metre carré des locaux commerciaux est supérieur à celui des appartements."
   ]
  },
  {
   "cell_type": "markdown",
   "id": "f766d471",
   "metadata": {},
   "source": [
    "Après ces analyses, nous pouvons conclure que les dimensions à utiliser pour prédire le prix au m² sont : \n",
    "- la surface du bien immobilier,\n",
    "- la date considérée, \n",
    "- la localisation (code_postal), \n",
    "- le type de bien."
   ]
  },
  {
   "cell_type": "markdown",
   "id": "0a546f7d",
   "metadata": {},
   "source": [
    "# Milestone 2 - Entraînement de l'algorithme"
   ]
  },
  {
   "cell_type": "markdown",
   "id": "8f756b84",
   "metadata": {},
   "source": [
    "Dans cette section nous allons maintenant entrâiner un algorithme à prédire la valeur fonciere d'un bien immobilier. Pour cela nous allons utiliser l'algorithme de régression linéaire."
   ]
  },
  {
   "cell_type": "markdown",
   "id": "917f244b",
   "metadata": {},
   "source": [
    "On commence par préparer nos données en transformant les colonnes catégoriques du code postal et du type de local grâce au one hot encoder (sklearn) / get_dummies (pandas)"
   ]
  },
  {
   "cell_type": "code",
   "execution_count": 22,
   "id": "823b0401",
   "metadata": {},
   "outputs": [
    {
     "data": {
      "text/html": [
       "<div>\n",
       "<style scoped>\n",
       "    .dataframe tbody tr th:only-of-type {\n",
       "        vertical-align: middle;\n",
       "    }\n",
       "\n",
       "    .dataframe tbody tr th {\n",
       "        vertical-align: top;\n",
       "    }\n",
       "\n",
       "    .dataframe thead th {\n",
       "        text-align: right;\n",
       "    }\n",
       "</style>\n",
       "<table border=\"1\" class=\"dataframe\">\n",
       "  <thead>\n",
       "    <tr style=\"text-align: right;\">\n",
       "      <th></th>\n",
       "      <th>date_mutation</th>\n",
       "      <th>valeur_fonciere</th>\n",
       "      <th>surface_reelle</th>\n",
       "      <th>prix_m2</th>\n",
       "      <th>Annee</th>\n",
       "      <th>code_postal_75001</th>\n",
       "      <th>code_postal_75002</th>\n",
       "      <th>code_postal_75003</th>\n",
       "      <th>code_postal_75004</th>\n",
       "      <th>code_postal_75005</th>\n",
       "      <th>...</th>\n",
       "      <th>code_postal_75013</th>\n",
       "      <th>code_postal_75014</th>\n",
       "      <th>code_postal_75015</th>\n",
       "      <th>code_postal_75016</th>\n",
       "      <th>code_postal_75017</th>\n",
       "      <th>code_postal_75018</th>\n",
       "      <th>code_postal_75019</th>\n",
       "      <th>code_postal_75020</th>\n",
       "      <th>type_local_Appartement</th>\n",
       "      <th>type_local_Local industriel. commercial ou assimilé</th>\n",
       "    </tr>\n",
       "  </thead>\n",
       "  <tbody>\n",
       "    <tr>\n",
       "      <th>0</th>\n",
       "      <td>2017-01-03</td>\n",
       "      <td>5.505597e+05</td>\n",
       "      <td>50</td>\n",
       "      <td>11011.19</td>\n",
       "      <td>2017</td>\n",
       "      <td>False</td>\n",
       "      <td>False</td>\n",
       "      <td>True</td>\n",
       "      <td>False</td>\n",
       "      <td>False</td>\n",
       "      <td>...</td>\n",
       "      <td>False</td>\n",
       "      <td>False</td>\n",
       "      <td>False</td>\n",
       "      <td>False</td>\n",
       "      <td>False</td>\n",
       "      <td>False</td>\n",
       "      <td>False</td>\n",
       "      <td>False</td>\n",
       "      <td>True</td>\n",
       "      <td>False</td>\n",
       "    </tr>\n",
       "    <tr>\n",
       "      <th>1</th>\n",
       "      <td>2017-01-12</td>\n",
       "      <td>1.576492e+06</td>\n",
       "      <td>163</td>\n",
       "      <td>9671.73</td>\n",
       "      <td>2017</td>\n",
       "      <td>False</td>\n",
       "      <td>False</td>\n",
       "      <td>False</td>\n",
       "      <td>False</td>\n",
       "      <td>False</td>\n",
       "      <td>...</td>\n",
       "      <td>False</td>\n",
       "      <td>False</td>\n",
       "      <td>False</td>\n",
       "      <td>False</td>\n",
       "      <td>False</td>\n",
       "      <td>False</td>\n",
       "      <td>False</td>\n",
       "      <td>False</td>\n",
       "      <td>True</td>\n",
       "      <td>False</td>\n",
       "    </tr>\n",
       "    <tr>\n",
       "      <th>2</th>\n",
       "      <td>2017-01-10</td>\n",
       "      <td>6.577574e+05</td>\n",
       "      <td>66</td>\n",
       "      <td>9966.02</td>\n",
       "      <td>2017</td>\n",
       "      <td>False</td>\n",
       "      <td>False</td>\n",
       "      <td>False</td>\n",
       "      <td>False</td>\n",
       "      <td>False</td>\n",
       "      <td>...</td>\n",
       "      <td>False</td>\n",
       "      <td>False</td>\n",
       "      <td>False</td>\n",
       "      <td>False</td>\n",
       "      <td>False</td>\n",
       "      <td>False</td>\n",
       "      <td>False</td>\n",
       "      <td>False</td>\n",
       "      <td>True</td>\n",
       "      <td>False</td>\n",
       "    </tr>\n",
       "    <tr>\n",
       "      <th>3</th>\n",
       "      <td>2017-01-10</td>\n",
       "      <td>2.500868e+05</td>\n",
       "      <td>22</td>\n",
       "      <td>11367.58</td>\n",
       "      <td>2017</td>\n",
       "      <td>False</td>\n",
       "      <td>False</td>\n",
       "      <td>True</td>\n",
       "      <td>False</td>\n",
       "      <td>False</td>\n",
       "      <td>...</td>\n",
       "      <td>False</td>\n",
       "      <td>False</td>\n",
       "      <td>False</td>\n",
       "      <td>False</td>\n",
       "      <td>False</td>\n",
       "      <td>False</td>\n",
       "      <td>False</td>\n",
       "      <td>False</td>\n",
       "      <td>True</td>\n",
       "      <td>False</td>\n",
       "    </tr>\n",
       "    <tr>\n",
       "      <th>4</th>\n",
       "      <td>2017-01-13</td>\n",
       "      <td>1.762667e+05</td>\n",
       "      <td>15</td>\n",
       "      <td>11751.11</td>\n",
       "      <td>2017</td>\n",
       "      <td>True</td>\n",
       "      <td>False</td>\n",
       "      <td>False</td>\n",
       "      <td>False</td>\n",
       "      <td>False</td>\n",
       "      <td>...</td>\n",
       "      <td>False</td>\n",
       "      <td>False</td>\n",
       "      <td>False</td>\n",
       "      <td>False</td>\n",
       "      <td>False</td>\n",
       "      <td>False</td>\n",
       "      <td>False</td>\n",
       "      <td>False</td>\n",
       "      <td>True</td>\n",
       "      <td>False</td>\n",
       "    </tr>\n",
       "  </tbody>\n",
       "</table>\n",
       "<p>5 rows × 27 columns</p>\n",
       "</div>"
      ],
      "text/plain": [
       "  date_mutation  valeur_fonciere  surface_reelle   prix_m2  Annee  \\\n",
       "0    2017-01-03     5.505597e+05              50  11011.19   2017   \n",
       "1    2017-01-12     1.576492e+06             163   9671.73   2017   \n",
       "2    2017-01-10     6.577574e+05              66   9966.02   2017   \n",
       "3    2017-01-10     2.500868e+05              22  11367.58   2017   \n",
       "4    2017-01-13     1.762667e+05              15  11751.11   2017   \n",
       "\n",
       "   code_postal_75001  code_postal_75002  code_postal_75003  code_postal_75004  \\\n",
       "0              False              False               True              False   \n",
       "1              False              False              False              False   \n",
       "2              False              False              False              False   \n",
       "3              False              False               True              False   \n",
       "4               True              False              False              False   \n",
       "\n",
       "   code_postal_75005  ...  code_postal_75013  code_postal_75014  \\\n",
       "0              False  ...              False              False   \n",
       "1              False  ...              False              False   \n",
       "2              False  ...              False              False   \n",
       "3              False  ...              False              False   \n",
       "4              False  ...              False              False   \n",
       "\n",
       "   code_postal_75015  code_postal_75016  code_postal_75017  code_postal_75018  \\\n",
       "0              False              False              False              False   \n",
       "1              False              False              False              False   \n",
       "2              False              False              False              False   \n",
       "3              False              False              False              False   \n",
       "4              False              False              False              False   \n",
       "\n",
       "   code_postal_75019  code_postal_75020  type_local_Appartement  \\\n",
       "0              False              False                    True   \n",
       "1              False              False                    True   \n",
       "2              False              False                    True   \n",
       "3              False              False                    True   \n",
       "4              False              False                    True   \n",
       "\n",
       "   type_local_Local industriel. commercial ou assimilé  \n",
       "0                                              False    \n",
       "1                                              False    \n",
       "2                                              False    \n",
       "3                                              False    \n",
       "4                                              False    \n",
       "\n",
       "[5 rows x 27 columns]"
      ]
     },
     "execution_count": 22,
     "metadata": {},
     "output_type": "execute_result"
    }
   ],
   "source": [
    "from sklearn.linear_model import LinearRegression\n",
    "from sklearn.metrics import mean_squared_error\n",
    "from sklearn.metrics import mean_absolute_error\n",
    "from sklearn.metrics import mean_absolute_percentage_error\n",
    "from sklearn.model_selection import train_test_split\n",
    "from sklearn.preprocessing import MinMaxScaler\n",
    "df_train = df_historique\n",
    "df_train['Annee'] = df_train['date_mutation'].dt.year\n",
    "df_train = pd.get_dummies(df_train, columns=['code_postal','type_local', ])\n",
    "df_train.drop(['adresse_numero','adresse_nom_voie','nom_commune','code_type_local'],axis=1,inplace=True)\n",
    "df_train.head()"
   ]
  },
  {
   "cell_type": "markdown",
   "id": "843bd9ed",
   "metadata": {},
   "source": [
    "On utilise le train_test_split pour prélever un tiers de nos données (33%) et les garder de côté. Nous allons entraîner notre algorithme sur le reste des données et puis mesurer notre erreur moyenne en pourcentage de la valeur foncière"
   ]
  },
  {
   "cell_type": "code",
   "execution_count": 23,
   "id": "972730c1",
   "metadata": {},
   "outputs": [],
   "source": [
    "# On sépare le jeu de données entre echantillons d'apprentissage et de test \n",
    "# La valeur y à trouver est la valeur foncière\n",
    "reg = LinearRegression()\n",
    "X = df_train[\n",
    "    ['surface_reelle',\n",
    "     'Annee',\n",
    "     'code_postal_75001',\n",
    "     'code_postal_75002',\n",
    "     'code_postal_75003',\n",
    "     'code_postal_75004',\n",
    "     'code_postal_75005',\n",
    "     'code_postal_75006',\n",
    "     'code_postal_75007',\n",
    "     'code_postal_75008',\n",
    "     'code_postal_75009',\n",
    "     'code_postal_75010',\n",
    "     'code_postal_75011',\n",
    "     'code_postal_75012',\n",
    "     'code_postal_75013',\n",
    "     'code_postal_75014',\n",
    "     'code_postal_75015',\n",
    "     'code_postal_75016',\n",
    "     'code_postal_75017',\n",
    "     'code_postal_75018',\n",
    "     'code_postal_75019',\n",
    "     'code_postal_75020',\n",
    "     'type_local_Appartement',\n",
    "     'type_local_Local industriel. commercial ou assimilé']\n",
    "     ]\n",
    "y = df_train['valeur_fonciere']\n",
    "\n",
    "X_train, X_test, y_train, y_test = train_test_split(X,y,test_size=0.33,random_state=100)\n",
    "\n"
   ]
  },
  {
   "cell_type": "code",
   "execution_count": 24,
   "id": "84d38146",
   "metadata": {},
   "outputs": [
    {
     "name": "stdout",
     "output_type": "stream",
     "text": [
      "RMSE: 3991111970.3095574\n",
      "MAE: 33650.36299979942\n",
      "MAPE: 0.09227448026320552\n",
      "R^2 : 0.982\n"
     ]
    }
   ],
   "source": [
    "#On entraîne l'algorithme ci-dessous et on effectue la prédiction\n",
    "reg.fit(X_train,y_train)\n",
    "y_pred_test = reg.predict(X_test)\n",
    "#Score quadratique moyen:\n",
    "print(f\"RMSE: {mean_squared_error(y_test, y_pred_test)}\")\n",
    "#Score erreur absolue moyenne:\n",
    "print(f\"MAE: {mean_absolute_error(y_test, y_pred_test)}\")\n",
    "#Score erreur absolue en %\n",
    "print(f\"MAPE: {mean_absolute_percentage_error(y_test, y_pred_test)}\")\n",
    "#Coefficient de détermination\n",
    "print(f\"R^2 : {np.round(reg.score(X, y), 3)}\")\n"
   ]
  },
  {
   "cell_type": "code",
   "execution_count": 25,
   "id": "33a7d912-695d-4097-8a65-7f3bd3faef72",
   "metadata": {
    "scrolled": true
   },
   "outputs": [
    {
     "name": "stderr",
     "output_type": "stream",
     "text": [
      "C:\\Users\\Lemairc1\\MyApps\\python-3.x.x-embed-amd64\\Lib\\site-packages\\sklearn\\utils\\validation.py:2749: UserWarning:\n",
      "\n",
      "X does not have valid feature names, but LinearRegression was fitted with feature names\n",
      "\n"
     ]
    },
    {
     "data": {
      "text/plain": [
       "array([87265.33425531])"
      ]
     },
     "execution_count": 25,
     "metadata": {},
     "output_type": "execute_result"
    }
   ],
   "source": [
    "reg.predict([[15, 2017, False, False, False, False, False, False, False, False,\n",
    "        False, False, False, False, False, False, False, False, False,\n",
    "        True, False, False, True, False]])"
   ]
  },
  {
   "cell_type": "code",
   "execution_count": 26,
   "id": "0662ea69-e841-465f-8eae-04c4f93d729e",
   "metadata": {},
   "outputs": [
    {
     "data": {
      "text/plain": [
       "array([[50, 2017, False, False, True, False, False, False, False, False,\n",
       "        False, False, False, False, False, False, False, False, False,\n",
       "        False, False, False, True, False]], dtype=object)"
      ]
     },
     "execution_count": 26,
     "metadata": {},
     "output_type": "execute_result"
    }
   ],
   "source": [
    "X.head(1).values"
   ]
  },
  {
   "cell_type": "code",
   "execution_count": 27,
   "id": "1d4208cf-5220-4b8b-9a65-3a3d68597cb9",
   "metadata": {},
   "outputs": [
    {
     "data": {
      "text/plain": [
       "array([[15, 2020, False, False, False, False, False, False, False, False,\n",
       "        False, False, False, False, False, False, False, False, False,\n",
       "        True, False, False, True, False]], dtype=object)"
      ]
     },
     "execution_count": 27,
     "metadata": {},
     "output_type": "execute_result"
    }
   ],
   "source": [
    "X_test.head(1).values"
   ]
  },
  {
   "cell_type": "markdown",
   "id": "178309e5",
   "metadata": {},
   "source": [
    "\n",
    "Mes conclusions sur ce résultat et comment j'aurais pu aller plus loin :\n",
    "- Nos prédicteurs sont fiables avec un score de R^2 à 0.98 (plus nous sommes proche de 1, meilleure est la qualité de nos prédicteurs)\n",
    "- Notre algorithme retourne un score d'erreur absolue % de 0.09, il y a donc 9% en moyenne d'erreurs commises sur la prédiction de la valeur foncière.\n",
    "- Nos prédicteurs ne sont peut être pas tous les éléments qui déterminent la valeur foncière. Il serait intéressant de lister ces derniers, les collecter et de les intégrer dans nos données pour les utiliser dans notre algorithme afin de réduire encore la marge d'erreur."
   ]
  },
  {
   "cell_type": "markdown",
   "id": "8057b17c",
   "metadata": {},
   "source": [
    "# Milestone 3 - Prédiction définitive pour le client "
   ]
  },
  {
   "cell_type": "markdown",
   "id": "9c696fd8",
   "metadata": {},
   "source": [
    "Nous avons récupéré le fichier avec le portefeuille des actifs de la société. Nous allons l'importer puis effectuer la prédiction et statuer sur la branche qui, selon notre prédiction, aura le plus de valeur à la date demandée c'est à dire au 31 décembre 2022.<br>\n",
    "Petite précision, nous souhaitons continuer à utiliser la surface réelle pour faire les calculs et pas la surface carrez. "
   ]
  },
  {
   "cell_type": "code",
   "execution_count": 28,
   "id": "9263e666",
   "metadata": {},
   "outputs": [
    {
     "name": "stdout",
     "output_type": "stream",
     "text": [
      "<class 'pandas.core.frame.DataFrame'>\n",
      "RangeIndex: 275 entries, 0 to 274\n",
      "Data columns (total 12 columns):\n",
      " #   Column                     Non-Null Count  Dtype  \n",
      "---  ------                     --------------  -----  \n",
      " 0   adresse_numero             275 non-null    int64  \n",
      " 1   adresse_nom_voie           275 non-null    object \n",
      " 2   code_postal                275 non-null    int64  \n",
      " 3   code_commune               275 non-null    int64  \n",
      " 4   nom_commune                275 non-null    object \n",
      " 5   surface_carrez             275 non-null    float64\n",
      " 6   code_type_local            275 non-null    int64  \n",
      " 7   type_local                 275 non-null    object \n",
      " 8   surface_reelle_bati        275 non-null    int64  \n",
      " 9   nombre_pieces_principales  275 non-null    int64  \n",
      " 10  longitude                  275 non-null    float64\n",
      " 11  latitude                   275 non-null    float64\n",
      "dtypes: float64(3), int64(6), object(3)\n",
      "memory usage: 25.9+ KB\n"
     ]
    }
   ],
   "source": [
    "#On importe les données dans un dataframe\n",
    "df_actifs = pd.read_excel('portefeuille_actifs+(3).xlsx')\n",
    "df_actifs.info()\n",
    "df_pred = df_actifs"
   ]
  },
  {
   "cell_type": "markdown",
   "id": "736a5380",
   "metadata": {},
   "source": [
    "Nous avons la liste des biens immobiliers de l'entreprise. Pour effectuer une prédiction, nous devons mettre ce fichier au même format que le dataframe que nous avons utilisé lors de l'entraînement de l'algorithme."
   ]
  },
  {
   "cell_type": "code",
   "execution_count": 29,
   "id": "4d6a8b40",
   "metadata": {},
   "outputs": [
    {
     "name": "stderr",
     "output_type": "stream",
     "text": [
      "C:\\Users\\Lemairc1\\AppData\\Local\\Temp\\ipykernel_800\\3052065873.py:7: UserWarning:\n",
      "\n",
      "Parsing dates in %d-%m-%Y format when dayfirst=False (the default) was specified. Pass `dayfirst=True` or specify a format to silence this warning.\n",
      "\n"
     ]
    },
    {
     "data": {
      "text/html": [
       "<div>\n",
       "<style scoped>\n",
       "    .dataframe tbody tr th:only-of-type {\n",
       "        vertical-align: middle;\n",
       "    }\n",
       "\n",
       "    .dataframe tbody tr th {\n",
       "        vertical-align: top;\n",
       "    }\n",
       "\n",
       "    .dataframe thead th {\n",
       "        text-align: right;\n",
       "    }\n",
       "</style>\n",
       "<table border=\"1\" class=\"dataframe\">\n",
       "  <thead>\n",
       "    <tr style=\"text-align: right;\">\n",
       "      <th></th>\n",
       "      <th>surface_reelle</th>\n",
       "      <th>Annee</th>\n",
       "      <th>code_postal_75001</th>\n",
       "      <th>code_postal_75002</th>\n",
       "      <th>code_postal_75003</th>\n",
       "      <th>code_postal_75004</th>\n",
       "      <th>code_postal_75005</th>\n",
       "      <th>code_postal_75006</th>\n",
       "      <th>code_postal_75007</th>\n",
       "      <th>code_postal_75008</th>\n",
       "      <th>...</th>\n",
       "      <th>code_postal_75013</th>\n",
       "      <th>code_postal_75014</th>\n",
       "      <th>code_postal_75015</th>\n",
       "      <th>code_postal_75016</th>\n",
       "      <th>code_postal_75017</th>\n",
       "      <th>code_postal_75018</th>\n",
       "      <th>code_postal_75019</th>\n",
       "      <th>code_postal_75020</th>\n",
       "      <th>type_local_Appartement</th>\n",
       "      <th>type_local_Local industriel. commercial ou assimilé</th>\n",
       "    </tr>\n",
       "  </thead>\n",
       "  <tbody>\n",
       "    <tr>\n",
       "      <th>0</th>\n",
       "      <td>25</td>\n",
       "      <td>2022</td>\n",
       "      <td>True</td>\n",
       "      <td>False</td>\n",
       "      <td>False</td>\n",
       "      <td>False</td>\n",
       "      <td>False</td>\n",
       "      <td>False</td>\n",
       "      <td>False</td>\n",
       "      <td>False</td>\n",
       "      <td>...</td>\n",
       "      <td>False</td>\n",
       "      <td>False</td>\n",
       "      <td>False</td>\n",
       "      <td>False</td>\n",
       "      <td>False</td>\n",
       "      <td>False</td>\n",
       "      <td>False</td>\n",
       "      <td>False</td>\n",
       "      <td>True</td>\n",
       "      <td>False</td>\n",
       "    </tr>\n",
       "    <tr>\n",
       "      <th>1</th>\n",
       "      <td>22</td>\n",
       "      <td>2022</td>\n",
       "      <td>False</td>\n",
       "      <td>False</td>\n",
       "      <td>True</td>\n",
       "      <td>False</td>\n",
       "      <td>False</td>\n",
       "      <td>False</td>\n",
       "      <td>False</td>\n",
       "      <td>False</td>\n",
       "      <td>...</td>\n",
       "      <td>False</td>\n",
       "      <td>False</td>\n",
       "      <td>False</td>\n",
       "      <td>False</td>\n",
       "      <td>False</td>\n",
       "      <td>False</td>\n",
       "      <td>False</td>\n",
       "      <td>False</td>\n",
       "      <td>True</td>\n",
       "      <td>False</td>\n",
       "    </tr>\n",
       "    <tr>\n",
       "      <th>2</th>\n",
       "      <td>65</td>\n",
       "      <td>2022</td>\n",
       "      <td>False</td>\n",
       "      <td>False</td>\n",
       "      <td>True</td>\n",
       "      <td>False</td>\n",
       "      <td>False</td>\n",
       "      <td>False</td>\n",
       "      <td>False</td>\n",
       "      <td>False</td>\n",
       "      <td>...</td>\n",
       "      <td>False</td>\n",
       "      <td>False</td>\n",
       "      <td>False</td>\n",
       "      <td>False</td>\n",
       "      <td>False</td>\n",
       "      <td>False</td>\n",
       "      <td>False</td>\n",
       "      <td>False</td>\n",
       "      <td>True</td>\n",
       "      <td>False</td>\n",
       "    </tr>\n",
       "    <tr>\n",
       "      <th>3</th>\n",
       "      <td>74</td>\n",
       "      <td>2022</td>\n",
       "      <td>False</td>\n",
       "      <td>False</td>\n",
       "      <td>False</td>\n",
       "      <td>False</td>\n",
       "      <td>False</td>\n",
       "      <td>False</td>\n",
       "      <td>False</td>\n",
       "      <td>True</td>\n",
       "      <td>...</td>\n",
       "      <td>False</td>\n",
       "      <td>False</td>\n",
       "      <td>False</td>\n",
       "      <td>False</td>\n",
       "      <td>False</td>\n",
       "      <td>False</td>\n",
       "      <td>False</td>\n",
       "      <td>False</td>\n",
       "      <td>True</td>\n",
       "      <td>False</td>\n",
       "    </tr>\n",
       "    <tr>\n",
       "      <th>4</th>\n",
       "      <td>22</td>\n",
       "      <td>2022</td>\n",
       "      <td>False</td>\n",
       "      <td>False</td>\n",
       "      <td>False</td>\n",
       "      <td>False</td>\n",
       "      <td>False</td>\n",
       "      <td>False</td>\n",
       "      <td>False</td>\n",
       "      <td>True</td>\n",
       "      <td>...</td>\n",
       "      <td>False</td>\n",
       "      <td>False</td>\n",
       "      <td>False</td>\n",
       "      <td>False</td>\n",
       "      <td>False</td>\n",
       "      <td>False</td>\n",
       "      <td>False</td>\n",
       "      <td>False</td>\n",
       "      <td>True</td>\n",
       "      <td>False</td>\n",
       "    </tr>\n",
       "    <tr>\n",
       "      <th>...</th>\n",
       "      <td>...</td>\n",
       "      <td>...</td>\n",
       "      <td>...</td>\n",
       "      <td>...</td>\n",
       "      <td>...</td>\n",
       "      <td>...</td>\n",
       "      <td>...</td>\n",
       "      <td>...</td>\n",
       "      <td>...</td>\n",
       "      <td>...</td>\n",
       "      <td>...</td>\n",
       "      <td>...</td>\n",
       "      <td>...</td>\n",
       "      <td>...</td>\n",
       "      <td>...</td>\n",
       "      <td>...</td>\n",
       "      <td>...</td>\n",
       "      <td>...</td>\n",
       "      <td>...</td>\n",
       "      <td>...</td>\n",
       "      <td>...</td>\n",
       "    </tr>\n",
       "    <tr>\n",
       "      <th>270</th>\n",
       "      <td>16</td>\n",
       "      <td>2022</td>\n",
       "      <td>False</td>\n",
       "      <td>False</td>\n",
       "      <td>False</td>\n",
       "      <td>False</td>\n",
       "      <td>False</td>\n",
       "      <td>False</td>\n",
       "      <td>False</td>\n",
       "      <td>False</td>\n",
       "      <td>...</td>\n",
       "      <td>False</td>\n",
       "      <td>False</td>\n",
       "      <td>False</td>\n",
       "      <td>False</td>\n",
       "      <td>False</td>\n",
       "      <td>False</td>\n",
       "      <td>True</td>\n",
       "      <td>False</td>\n",
       "      <td>False</td>\n",
       "      <td>True</td>\n",
       "    </tr>\n",
       "    <tr>\n",
       "      <th>271</th>\n",
       "      <td>15</td>\n",
       "      <td>2022</td>\n",
       "      <td>False</td>\n",
       "      <td>True</td>\n",
       "      <td>False</td>\n",
       "      <td>False</td>\n",
       "      <td>False</td>\n",
       "      <td>False</td>\n",
       "      <td>False</td>\n",
       "      <td>False</td>\n",
       "      <td>...</td>\n",
       "      <td>False</td>\n",
       "      <td>False</td>\n",
       "      <td>False</td>\n",
       "      <td>False</td>\n",
       "      <td>False</td>\n",
       "      <td>False</td>\n",
       "      <td>False</td>\n",
       "      <td>False</td>\n",
       "      <td>False</td>\n",
       "      <td>True</td>\n",
       "    </tr>\n",
       "    <tr>\n",
       "      <th>272</th>\n",
       "      <td>35</td>\n",
       "      <td>2022</td>\n",
       "      <td>False</td>\n",
       "      <td>True</td>\n",
       "      <td>False</td>\n",
       "      <td>False</td>\n",
       "      <td>False</td>\n",
       "      <td>False</td>\n",
       "      <td>False</td>\n",
       "      <td>False</td>\n",
       "      <td>...</td>\n",
       "      <td>False</td>\n",
       "      <td>False</td>\n",
       "      <td>False</td>\n",
       "      <td>False</td>\n",
       "      <td>False</td>\n",
       "      <td>False</td>\n",
       "      <td>False</td>\n",
       "      <td>False</td>\n",
       "      <td>False</td>\n",
       "      <td>True</td>\n",
       "    </tr>\n",
       "    <tr>\n",
       "      <th>273</th>\n",
       "      <td>49</td>\n",
       "      <td>2022</td>\n",
       "      <td>False</td>\n",
       "      <td>True</td>\n",
       "      <td>False</td>\n",
       "      <td>False</td>\n",
       "      <td>False</td>\n",
       "      <td>False</td>\n",
       "      <td>False</td>\n",
       "      <td>False</td>\n",
       "      <td>...</td>\n",
       "      <td>False</td>\n",
       "      <td>False</td>\n",
       "      <td>False</td>\n",
       "      <td>False</td>\n",
       "      <td>False</td>\n",
       "      <td>False</td>\n",
       "      <td>False</td>\n",
       "      <td>False</td>\n",
       "      <td>False</td>\n",
       "      <td>True</td>\n",
       "    </tr>\n",
       "    <tr>\n",
       "      <th>274</th>\n",
       "      <td>37</td>\n",
       "      <td>2022</td>\n",
       "      <td>False</td>\n",
       "      <td>False</td>\n",
       "      <td>False</td>\n",
       "      <td>True</td>\n",
       "      <td>False</td>\n",
       "      <td>False</td>\n",
       "      <td>False</td>\n",
       "      <td>False</td>\n",
       "      <td>...</td>\n",
       "      <td>False</td>\n",
       "      <td>False</td>\n",
       "      <td>False</td>\n",
       "      <td>False</td>\n",
       "      <td>False</td>\n",
       "      <td>False</td>\n",
       "      <td>False</td>\n",
       "      <td>False</td>\n",
       "      <td>False</td>\n",
       "      <td>True</td>\n",
       "    </tr>\n",
       "  </tbody>\n",
       "</table>\n",
       "<p>275 rows × 24 columns</p>\n",
       "</div>"
      ],
      "text/plain": [
       "     surface_reelle  Annee  code_postal_75001  code_postal_75002  \\\n",
       "0                25   2022               True              False   \n",
       "1                22   2022              False              False   \n",
       "2                65   2022              False              False   \n",
       "3                74   2022              False              False   \n",
       "4                22   2022              False              False   \n",
       "..              ...    ...                ...                ...   \n",
       "270              16   2022              False              False   \n",
       "271              15   2022              False               True   \n",
       "272              35   2022              False               True   \n",
       "273              49   2022              False               True   \n",
       "274              37   2022              False              False   \n",
       "\n",
       "     code_postal_75003  code_postal_75004  code_postal_75005  \\\n",
       "0                False              False              False   \n",
       "1                 True              False              False   \n",
       "2                 True              False              False   \n",
       "3                False              False              False   \n",
       "4                False              False              False   \n",
       "..                 ...                ...                ...   \n",
       "270              False              False              False   \n",
       "271              False              False              False   \n",
       "272              False              False              False   \n",
       "273              False              False              False   \n",
       "274              False               True              False   \n",
       "\n",
       "     code_postal_75006  code_postal_75007  code_postal_75008  ...  \\\n",
       "0                False              False              False  ...   \n",
       "1                False              False              False  ...   \n",
       "2                False              False              False  ...   \n",
       "3                False              False               True  ...   \n",
       "4                False              False               True  ...   \n",
       "..                 ...                ...                ...  ...   \n",
       "270              False              False              False  ...   \n",
       "271              False              False              False  ...   \n",
       "272              False              False              False  ...   \n",
       "273              False              False              False  ...   \n",
       "274              False              False              False  ...   \n",
       "\n",
       "     code_postal_75013  code_postal_75014  code_postal_75015  \\\n",
       "0                False              False              False   \n",
       "1                False              False              False   \n",
       "2                False              False              False   \n",
       "3                False              False              False   \n",
       "4                False              False              False   \n",
       "..                 ...                ...                ...   \n",
       "270              False              False              False   \n",
       "271              False              False              False   \n",
       "272              False              False              False   \n",
       "273              False              False              False   \n",
       "274              False              False              False   \n",
       "\n",
       "     code_postal_75016  code_postal_75017  code_postal_75018  \\\n",
       "0                False              False              False   \n",
       "1                False              False              False   \n",
       "2                False              False              False   \n",
       "3                False              False              False   \n",
       "4                False              False              False   \n",
       "..                 ...                ...                ...   \n",
       "270              False              False              False   \n",
       "271              False              False              False   \n",
       "272              False              False              False   \n",
       "273              False              False              False   \n",
       "274              False              False              False   \n",
       "\n",
       "     code_postal_75019  code_postal_75020  type_local_Appartement  \\\n",
       "0                False              False                    True   \n",
       "1                False              False                    True   \n",
       "2                False              False                    True   \n",
       "3                False              False                    True   \n",
       "4                False              False                    True   \n",
       "..                 ...                ...                     ...   \n",
       "270               True              False                   False   \n",
       "271              False              False                   False   \n",
       "272              False              False                   False   \n",
       "273              False              False                   False   \n",
       "274              False              False                   False   \n",
       "\n",
       "     type_local_Local industriel. commercial ou assimilé  \n",
       "0                                                False    \n",
       "1                                                False    \n",
       "2                                                False    \n",
       "3                                                False    \n",
       "4                                                False    \n",
       "..                                                 ...    \n",
       "270                                               True    \n",
       "271                                               True    \n",
       "272                                               True    \n",
       "273                                               True    \n",
       "274                                               True    \n",
       "\n",
       "[275 rows x 24 columns]"
      ]
     },
     "execution_count": 29,
     "metadata": {},
     "output_type": "execute_result"
    }
   ],
   "source": [
    "#On réutilise les mêmes fonctions pour faire le one hot encoding des variables catégorielles\n",
    "df_pred = pd.get_dummies(df_pred, columns=['code_postal', ])\n",
    "df_pred = pd.get_dummies(df_pred, columns=['type_local', ])\n",
    "#On importe la librairie datetime pour pouvoir créer une colonne timestamp avec la date du 31 décembre 2022 pour la prédiction\n",
    "import datetime as dt\n",
    "df_pred['date_mutation'] = \"31-12-2022\"\n",
    "df_pred['date_mutation'] = pd.to_datetime(df_pred.date_mutation)\n",
    "df_pred['Annee'] = df_pred['date_mutation'].dt.year\n",
    "df_pred['surface_reelle'] = df_pred['surface_reelle_bati']\n",
    "df_pred.drop(['adresse_numero','adresse_nom_voie','code_commune','nom_commune','surface_carrez','nombre_pieces_principales','longitude','latitude','code_type_local','surface_reelle_bati','date_mutation'],axis=1,inplace=True)\n",
    "df_pred.head()\n",
    "df_pred[['surface_reelle',\n",
    "     'Annee',\n",
    "     'code_postal_75001',\n",
    "     'code_postal_75002',\n",
    "     'code_postal_75003',\n",
    "     'code_postal_75004',\n",
    "     'code_postal_75005',\n",
    "     'code_postal_75006',\n",
    "     'code_postal_75007',\n",
    "     'code_postal_75008',\n",
    "     'code_postal_75009',\n",
    "     'code_postal_75010',\n",
    "     'code_postal_75011',\n",
    "     'code_postal_75012',\n",
    "     'code_postal_75013',\n",
    "     'code_postal_75014',\n",
    "     'code_postal_75015',\n",
    "     'code_postal_75016',\n",
    "     'code_postal_75017',\n",
    "     'code_postal_75018',\n",
    "     'code_postal_75019',\n",
    "     'code_postal_75020',\n",
    "     'type_local_Appartement',\n",
    "     'type_local_Local industriel. commercial ou assimilé']]\n"
   ]
  },
  {
   "cell_type": "markdown",
   "id": "fbb93276",
   "metadata": {},
   "source": [
    "Notre dataframe est prêt à être utilisé par notre algorithme de prédiction."
   ]
  },
  {
   "cell_type": "code",
   "execution_count": 30,
   "id": "c39e7427",
   "metadata": {},
   "outputs": [
    {
     "data": {
      "text/html": [
       "<div>\n",
       "<style scoped>\n",
       "    .dataframe tbody tr th:only-of-type {\n",
       "        vertical-align: middle;\n",
       "    }\n",
       "\n",
       "    .dataframe tbody tr th {\n",
       "        vertical-align: top;\n",
       "    }\n",
       "\n",
       "    .dataframe thead th {\n",
       "        text-align: right;\n",
       "    }\n",
       "</style>\n",
       "<table border=\"1\" class=\"dataframe\">\n",
       "  <thead>\n",
       "    <tr style=\"text-align: right;\">\n",
       "      <th></th>\n",
       "      <th>adresse_numero</th>\n",
       "      <th>adresse_nom_voie</th>\n",
       "      <th>code_postal</th>\n",
       "      <th>code_commune</th>\n",
       "      <th>nom_commune</th>\n",
       "      <th>surface_carrez</th>\n",
       "      <th>code_type_local</th>\n",
       "      <th>type_local</th>\n",
       "      <th>surface_reelle_bati</th>\n",
       "      <th>nombre_pieces_principales</th>\n",
       "      <th>longitude</th>\n",
       "      <th>latitude</th>\n",
       "      <th>Valeur_fonciere_pred</th>\n",
       "    </tr>\n",
       "  </thead>\n",
       "  <tbody>\n",
       "    <tr>\n",
       "      <th>0</th>\n",
       "      <td>127</td>\n",
       "      <td>RUE SAINT-DENIS</td>\n",
       "      <td>75001</td>\n",
       "      <td>75101</td>\n",
       "      <td>Paris 1er Arrondissement</td>\n",
       "      <td>16.41</td>\n",
       "      <td>2</td>\n",
       "      <td>Appartement</td>\n",
       "      <td>25</td>\n",
       "      <td>1</td>\n",
       "      <td>2.349593</td>\n",
       "      <td>48.863227</td>\n",
       "      <td>426702.80</td>\n",
       "    </tr>\n",
       "    <tr>\n",
       "      <th>1</th>\n",
       "      <td>62</td>\n",
       "      <td>RUE NOTRE-DAME DE NAZARETH</td>\n",
       "      <td>75003</td>\n",
       "      <td>75103</td>\n",
       "      <td>Paris 3e Arrondissement</td>\n",
       "      <td>20.47</td>\n",
       "      <td>2</td>\n",
       "      <td>Appartement</td>\n",
       "      <td>22</td>\n",
       "      <td>1</td>\n",
       "      <td>2.356977</td>\n",
       "      <td>48.867907</td>\n",
       "      <td>365698.81</td>\n",
       "    </tr>\n",
       "    <tr>\n",
       "      <th>2</th>\n",
       "      <td>62</td>\n",
       "      <td>RUE DE TURENNE</td>\n",
       "      <td>75003</td>\n",
       "      <td>75103</td>\n",
       "      <td>Paris 3e Arrondissement</td>\n",
       "      <td>64.48</td>\n",
       "      <td>2</td>\n",
       "      <td>Appartement</td>\n",
       "      <td>65</td>\n",
       "      <td>3</td>\n",
       "      <td>2.364855</td>\n",
       "      <td>48.859318</td>\n",
       "      <td>814498.69</td>\n",
       "    </tr>\n",
       "    <tr>\n",
       "      <th>3</th>\n",
       "      <td>32</td>\n",
       "      <td>AV GEORGE V</td>\n",
       "      <td>75008</td>\n",
       "      <td>75108</td>\n",
       "      <td>Paris 8e Arrondissement</td>\n",
       "      <td>63.29</td>\n",
       "      <td>2</td>\n",
       "      <td>Appartement</td>\n",
       "      <td>74</td>\n",
       "      <td>2</td>\n",
       "      <td>2.301586</td>\n",
       "      <td>48.868893</td>\n",
       "      <td>874733.77</td>\n",
       "    </tr>\n",
       "    <tr>\n",
       "      <th>4</th>\n",
       "      <td>152</td>\n",
       "      <td>BD HAUSSMANN</td>\n",
       "      <td>75008</td>\n",
       "      <td>75108</td>\n",
       "      <td>Paris 8e Arrondissement</td>\n",
       "      <td>20.58</td>\n",
       "      <td>2</td>\n",
       "      <td>Appartement</td>\n",
       "      <td>22</td>\n",
       "      <td>1</td>\n",
       "      <td>2.311643</td>\n",
       "      <td>48.875490</td>\n",
       "      <td>331999.03</td>\n",
       "    </tr>\n",
       "    <tr>\n",
       "      <th>5</th>\n",
       "      <td>152</td>\n",
       "      <td>BD HAUSSMANN</td>\n",
       "      <td>75008</td>\n",
       "      <td>75108</td>\n",
       "      <td>Paris 8e Arrondissement</td>\n",
       "      <td>33.40</td>\n",
       "      <td>2</td>\n",
       "      <td>Appartement</td>\n",
       "      <td>35</td>\n",
       "      <td>1</td>\n",
       "      <td>2.311643</td>\n",
       "      <td>48.875490</td>\n",
       "      <td>467682.71</td>\n",
       "    </tr>\n",
       "    <tr>\n",
       "      <th>6</th>\n",
       "      <td>52</td>\n",
       "      <td>RUE DES GRAVILLIERS</td>\n",
       "      <td>75003</td>\n",
       "      <td>75103</td>\n",
       "      <td>Paris 3e Arrondissement</td>\n",
       "      <td>21.35</td>\n",
       "      <td>2</td>\n",
       "      <td>Appartement</td>\n",
       "      <td>24</td>\n",
       "      <td>2</td>\n",
       "      <td>2.355637</td>\n",
       "      <td>48.864366</td>\n",
       "      <td>386573.22</td>\n",
       "    </tr>\n",
       "    <tr>\n",
       "      <th>7</th>\n",
       "      <td>208</td>\n",
       "      <td>RUE SAINT MAUR</td>\n",
       "      <td>75010</td>\n",
       "      <td>75110</td>\n",
       "      <td>Paris 10e Arrondissement</td>\n",
       "      <td>54.69</td>\n",
       "      <td>2</td>\n",
       "      <td>Appartement</td>\n",
       "      <td>60</td>\n",
       "      <td>3</td>\n",
       "      <td>2.371885</td>\n",
       "      <td>48.873209</td>\n",
       "      <td>635675.52</td>\n",
       "    </tr>\n",
       "    <tr>\n",
       "      <th>8</th>\n",
       "      <td>142</td>\n",
       "      <td>RUE DE COURCELLES</td>\n",
       "      <td>75017</td>\n",
       "      <td>75117</td>\n",
       "      <td>Paris 17e Arrondissement</td>\n",
       "      <td>9.30</td>\n",
       "      <td>2</td>\n",
       "      <td>Appartement</td>\n",
       "      <td>11</td>\n",
       "      <td>1</td>\n",
       "      <td>2.300373</td>\n",
       "      <td>48.882505</td>\n",
       "      <td>143176.69</td>\n",
       "    </tr>\n",
       "    <tr>\n",
       "      <th>9</th>\n",
       "      <td>52</td>\n",
       "      <td>RUE LAMARCK</td>\n",
       "      <td>75018</td>\n",
       "      <td>75118</td>\n",
       "      <td>Paris 18e Arrondissement</td>\n",
       "      <td>12.88</td>\n",
       "      <td>2</td>\n",
       "      <td>Appartement</td>\n",
       "      <td>13</td>\n",
       "      <td>1</td>\n",
       "      <td>2.342134</td>\n",
       "      <td>48.889431</td>\n",
       "      <td>142545.47</td>\n",
       "    </tr>\n",
       "  </tbody>\n",
       "</table>\n",
       "</div>"
      ],
      "text/plain": [
       "   adresse_numero            adresse_nom_voie  code_postal  code_commune  \\\n",
       "0             127             RUE SAINT-DENIS        75001         75101   \n",
       "1              62  RUE NOTRE-DAME DE NAZARETH        75003         75103   \n",
       "2              62              RUE DE TURENNE        75003         75103   \n",
       "3              32                 AV GEORGE V        75008         75108   \n",
       "4             152                BD HAUSSMANN        75008         75108   \n",
       "5             152                BD HAUSSMANN        75008         75108   \n",
       "6              52         RUE DES GRAVILLIERS        75003         75103   \n",
       "7             208              RUE SAINT MAUR        75010         75110   \n",
       "8             142           RUE DE COURCELLES        75017         75117   \n",
       "9              52                 RUE LAMARCK        75018         75118   \n",
       "\n",
       "                nom_commune  surface_carrez  code_type_local   type_local  \\\n",
       "0  Paris 1er Arrondissement           16.41                2  Appartement   \n",
       "1   Paris 3e Arrondissement           20.47                2  Appartement   \n",
       "2   Paris 3e Arrondissement           64.48                2  Appartement   \n",
       "3   Paris 8e Arrondissement           63.29                2  Appartement   \n",
       "4   Paris 8e Arrondissement           20.58                2  Appartement   \n",
       "5   Paris 8e Arrondissement           33.40                2  Appartement   \n",
       "6   Paris 3e Arrondissement           21.35                2  Appartement   \n",
       "7  Paris 10e Arrondissement           54.69                2  Appartement   \n",
       "8  Paris 17e Arrondissement            9.30                2  Appartement   \n",
       "9  Paris 18e Arrondissement           12.88                2  Appartement   \n",
       "\n",
       "   surface_reelle_bati  nombre_pieces_principales  longitude   latitude  \\\n",
       "0                   25                          1   2.349593  48.863227   \n",
       "1                   22                          1   2.356977  48.867907   \n",
       "2                   65                          3   2.364855  48.859318   \n",
       "3                   74                          2   2.301586  48.868893   \n",
       "4                   22                          1   2.311643  48.875490   \n",
       "5                   35                          1   2.311643  48.875490   \n",
       "6                   24                          2   2.355637  48.864366   \n",
       "7                   60                          3   2.371885  48.873209   \n",
       "8                   11                          1   2.300373  48.882505   \n",
       "9                   13                          1   2.342134  48.889431   \n",
       "\n",
       "   Valeur_fonciere_pred  \n",
       "0             426702.80  \n",
       "1             365698.81  \n",
       "2             814498.69  \n",
       "3             874733.77  \n",
       "4             331999.03  \n",
       "5             467682.71  \n",
       "6             386573.22  \n",
       "7             635675.52  \n",
       "8             143176.69  \n",
       "9             142545.47  "
      ]
     },
     "execution_count": 30,
     "metadata": {},
     "output_type": "execute_result"
    }
   ],
   "source": [
    "X2 = df_pred[\n",
    "    ['surface_reelle',\n",
    "     'Annee',\n",
    "     'code_postal_75001',\n",
    "     'code_postal_75002',\n",
    "     'code_postal_75003',\n",
    "     'code_postal_75004',\n",
    "     'code_postal_75005',\n",
    "     'code_postal_75006',\n",
    "     'code_postal_75007',\n",
    "     'code_postal_75008',\n",
    "     'code_postal_75009',\n",
    "     'code_postal_75010',\n",
    "     'code_postal_75011',\n",
    "     'code_postal_75012',\n",
    "     'code_postal_75013',\n",
    "     'code_postal_75014',\n",
    "     'code_postal_75015',\n",
    "     'code_postal_75016',\n",
    "     'code_postal_75017',\n",
    "     'code_postal_75018',\n",
    "     'code_postal_75019',\n",
    "     'code_postal_75020',\n",
    "     'type_local_Appartement',\n",
    "     'type_local_Local industriel. commercial ou assimilé']\n",
    "     ]\n",
    "#On effectue la prédiction\n",
    "valeur_pred = reg.predict(X2)\n",
    "df_actifs['Valeur_fonciere_pred'] = valeur_pred\n",
    "#On vérifie les 10 premières valeurs\n",
    "df_actifs['Valeur_fonciere_pred'] = round(df_actifs['Valeur_fonciere_pred'],2)\n",
    "df_actifs.head(10)"
   ]
  },
  {
   "cell_type": "markdown",
   "id": "718df322",
   "metadata": {},
   "source": [
    "Maintenant nous allons comparer la valorisation prédite pour les deux segments."
   ]
  },
  {
   "cell_type": "code",
   "execution_count": 31,
   "id": "12094465",
   "metadata": {},
   "outputs": [
    {
     "name": "stdout",
     "output_type": "stream",
     "text": [
      "La valorisation du segment particulier prédite est de 70452259.69 euros.\n"
     ]
    }
   ],
   "source": [
    "#Valorisation du portefeuille sur le segment des particuliers\n",
    "df_valo_appartement = df_actifs[df_actifs['type_local']=='Appartement']\n",
    "valo_particulier = df_valo_appartement['Valeur_fonciere_pred'].sum()\n",
    "print(f\"La valorisation du segment particulier prédite est de {valo_particulier} euros.\")\n"
   ]
  },
  {
   "cell_type": "code",
   "execution_count": 32,
   "id": "b6df7e85",
   "metadata": {},
   "outputs": [
    {
     "name": "stdout",
     "output_type": "stream",
     "text": [
      "La valorisation du segment corporate prédite est de 98562887.86 euros.\n"
     ]
    }
   ],
   "source": [
    "#Valorisation du portefeuille sur le segment corporate\n",
    "df_valo_corpo = df_actifs[df_actifs['type_local']=='Local industriel. commercial ou assimilé']\n",
    "valo_corpo = df_valo_corpo['Valeur_fonciere_pred'].sum()\n",
    "print(f\"La valorisation du segment corporate prédite est de {valo_corpo} euros.\")\n"
   ]
  },
  {
   "cell_type": "markdown",
   "id": "0372ca62",
   "metadata": {},
   "source": [
    "Mes conclusions sur le segment avec la plus grande valorisation et sur les limites de cette estimation :\n",
    "- Le segment des locaux commerciaux a une meilleure valorisation que le segment des appartements. Cela s'explique par le prix du m2 plus fort pour ce type de bien (voir nos analyses précedentes) et du fait qu'il y a quasiment le même nombres de type de biens dans notre portefeuille (154 appartements et 121 locaux). \n",
    "- Cette estimation ne se base que sur la valorisation des biens, la prise de décision devra tenir compte également du marché (nbr de demande / type de biens par exemple)"
   ]
  },
  {
   "cell_type": "markdown",
   "id": "1c20b98f",
   "metadata": {},
   "source": [
    "# Milestone 4 - Classification des données issues du jeu de test"
   ]
  },
  {
   "cell_type": "markdown",
   "id": "130e73ae",
   "metadata": {},
   "source": [
    "Dans cette partie nous allons labelliser automatiquement les biens immobiliers comme étant :\n",
    "- soit des Appartements\n",
    "- soit des Local industriel. commercial ou assimilé\n",
    "Pour cela nous allons utiliser l'algorithme du KMeans sur le jeu de données partagé par l'entreprise.\n",
    "\n",
    "Pour que l'algorithme fonctionne, il faut que nous préparions les données en supprimant les dimensions inutiles et en nous concentrant sur le facteur discriminant entre les appartements et les locaux commerciaux : la différence dans le prix au mètre carré tel que nous l'avons vu avant."
   ]
  },
  {
   "cell_type": "code",
   "execution_count": 33,
   "id": "a2f508e6",
   "metadata": {
    "scrolled": true
   },
   "outputs": [
    {
     "data": {
      "text/html": [
       "<div>\n",
       "<style scoped>\n",
       "    .dataframe tbody tr th:only-of-type {\n",
       "        vertical-align: middle;\n",
       "    }\n",
       "\n",
       "    .dataframe tbody tr th {\n",
       "        vertical-align: top;\n",
       "    }\n",
       "\n",
       "    .dataframe thead th {\n",
       "        text-align: right;\n",
       "    }\n",
       "</style>\n",
       "<table border=\"1\" class=\"dataframe\">\n",
       "  <thead>\n",
       "    <tr style=\"text-align: right;\">\n",
       "      <th></th>\n",
       "      <th>valeur_fonciere</th>\n",
       "      <th>code_postal</th>\n",
       "      <th>nom_commune</th>\n",
       "      <th>surface_reelle</th>\n",
       "    </tr>\n",
       "  </thead>\n",
       "  <tbody>\n",
       "    <tr>\n",
       "      <th>0</th>\n",
       "      <td>868687.083271</td>\n",
       "      <td>75019</td>\n",
       "      <td>Paris 19e Arrondissement</td>\n",
       "      <td>88</td>\n",
       "    </tr>\n",
       "    <tr>\n",
       "      <th>1</th>\n",
       "      <td>452050.762192</td>\n",
       "      <td>75019</td>\n",
       "      <td>Paris 19e Arrondissement</td>\n",
       "      <td>45</td>\n",
       "    </tr>\n",
       "    <tr>\n",
       "      <th>2</th>\n",
       "      <td>193088.653587</td>\n",
       "      <td>75019</td>\n",
       "      <td>Paris 19e Arrondissement</td>\n",
       "      <td>21</td>\n",
       "    </tr>\n",
       "    <tr>\n",
       "      <th>3</th>\n",
       "      <td>303012.549370</td>\n",
       "      <td>75019</td>\n",
       "      <td>Paris 19e Arrondissement</td>\n",
       "      <td>32</td>\n",
       "    </tr>\n",
       "    <tr>\n",
       "      <th>4</th>\n",
       "      <td>149272.200110</td>\n",
       "      <td>75019</td>\n",
       "      <td>Paris 19e Arrondissement</td>\n",
       "      <td>20</td>\n",
       "    </tr>\n",
       "  </tbody>\n",
       "</table>\n",
       "</div>"
      ],
      "text/plain": [
       "   valeur_fonciere  code_postal               nom_commune  surface_reelle\n",
       "0    868687.083271        75019  Paris 19e Arrondissement              88\n",
       "1    452050.762192        75019  Paris 19e Arrondissement              45\n",
       "2    193088.653587        75019  Paris 19e Arrondissement              21\n",
       "3    303012.549370        75019  Paris 19e Arrondissement              32\n",
       "4    149272.200110        75019  Paris 19e Arrondissement              20"
      ]
     },
     "execution_count": 33,
     "metadata": {},
     "output_type": "execute_result"
    }
   ],
   "source": [
    "#On importe les données dans un dataframe\n",
    "df_classification = pd.read_excel('echantillon_a_classer2.xlsx')\n",
    "df_classification.head()\n"
   ]
  },
  {
   "cell_type": "markdown",
   "id": "fbf40fbf",
   "metadata": {},
   "source": [
    "On applique les transformations nécessaires. Tout d'abord nous allons calculer le prix au mètre carré en divisant la valeur foncière par la surface. Ensuite nous allons retirer ces colonnes car nous avons déjà l'information qu'elles contiennent dans la dimension prix au mètre carré désormais.\n",
    "\n",
    "Enfin toutes nos données sont de l'année 2021. Nous allons retirer cette dimension qui ne devrait pas être discriminante dans le regroupement des données."
   ]
  },
  {
   "cell_type": "code",
   "execution_count": 34,
   "id": "d724e82e",
   "metadata": {},
   "outputs": [
    {
     "data": {
      "text/html": [
       "<div>\n",
       "<style scoped>\n",
       "    .dataframe tbody tr th:only-of-type {\n",
       "        vertical-align: middle;\n",
       "    }\n",
       "\n",
       "    .dataframe tbody tr th {\n",
       "        vertical-align: top;\n",
       "    }\n",
       "\n",
       "    .dataframe thead th {\n",
       "        text-align: right;\n",
       "    }\n",
       "</style>\n",
       "<table border=\"1\" class=\"dataframe\">\n",
       "  <thead>\n",
       "    <tr style=\"text-align: right;\">\n",
       "      <th></th>\n",
       "      <th>valeur_fonciere</th>\n",
       "      <th>code_postal</th>\n",
       "      <th>nom_commune</th>\n",
       "      <th>surface_reelle</th>\n",
       "      <th>prix_m2</th>\n",
       "    </tr>\n",
       "  </thead>\n",
       "  <tbody>\n",
       "    <tr>\n",
       "      <th>0</th>\n",
       "      <td>868687.083271</td>\n",
       "      <td>75019</td>\n",
       "      <td>Paris 19e Arrondissement</td>\n",
       "      <td>88</td>\n",
       "      <td>9871.44</td>\n",
       "    </tr>\n",
       "    <tr>\n",
       "      <th>1</th>\n",
       "      <td>452050.762192</td>\n",
       "      <td>75019</td>\n",
       "      <td>Paris 19e Arrondissement</td>\n",
       "      <td>45</td>\n",
       "      <td>10045.57</td>\n",
       "    </tr>\n",
       "    <tr>\n",
       "      <th>2</th>\n",
       "      <td>193088.653587</td>\n",
       "      <td>75019</td>\n",
       "      <td>Paris 19e Arrondissement</td>\n",
       "      <td>21</td>\n",
       "      <td>9194.70</td>\n",
       "    </tr>\n",
       "    <tr>\n",
       "      <th>3</th>\n",
       "      <td>303012.549370</td>\n",
       "      <td>75019</td>\n",
       "      <td>Paris 19e Arrondissement</td>\n",
       "      <td>32</td>\n",
       "      <td>9469.14</td>\n",
       "    </tr>\n",
       "    <tr>\n",
       "      <th>4</th>\n",
       "      <td>149272.200110</td>\n",
       "      <td>75019</td>\n",
       "      <td>Paris 19e Arrondissement</td>\n",
       "      <td>20</td>\n",
       "      <td>7463.61</td>\n",
       "    </tr>\n",
       "    <tr>\n",
       "      <th>5</th>\n",
       "      <td>179676.304545</td>\n",
       "      <td>75019</td>\n",
       "      <td>Paris 19e Arrondissement</td>\n",
       "      <td>18</td>\n",
       "      <td>9982.02</td>\n",
       "    </tr>\n",
       "    <tr>\n",
       "      <th>6</th>\n",
       "      <td>241856.569418</td>\n",
       "      <td>75019</td>\n",
       "      <td>Paris 19e Arrondissement</td>\n",
       "      <td>25</td>\n",
       "      <td>9674.26</td>\n",
       "    </tr>\n",
       "    <tr>\n",
       "      <th>7</th>\n",
       "      <td>462981.797149</td>\n",
       "      <td>75019</td>\n",
       "      <td>Paris 19e Arrondissement</td>\n",
       "      <td>63</td>\n",
       "      <td>7348.92</td>\n",
       "    </tr>\n",
       "    <tr>\n",
       "      <th>8</th>\n",
       "      <td>518819.726233</td>\n",
       "      <td>75019</td>\n",
       "      <td>Paris 19e Arrondissement</td>\n",
       "      <td>53</td>\n",
       "      <td>9789.05</td>\n",
       "    </tr>\n",
       "    <tr>\n",
       "      <th>9</th>\n",
       "      <td>403670.310822</td>\n",
       "      <td>75019</td>\n",
       "      <td>Paris 19e Arrondissement</td>\n",
       "      <td>53</td>\n",
       "      <td>7616.42</td>\n",
       "    </tr>\n",
       "  </tbody>\n",
       "</table>\n",
       "</div>"
      ],
      "text/plain": [
       "   valeur_fonciere  code_postal               nom_commune  surface_reelle  \\\n",
       "0    868687.083271        75019  Paris 19e Arrondissement              88   \n",
       "1    452050.762192        75019  Paris 19e Arrondissement              45   \n",
       "2    193088.653587        75019  Paris 19e Arrondissement              21   \n",
       "3    303012.549370        75019  Paris 19e Arrondissement              32   \n",
       "4    149272.200110        75019  Paris 19e Arrondissement              20   \n",
       "5    179676.304545        75019  Paris 19e Arrondissement              18   \n",
       "6    241856.569418        75019  Paris 19e Arrondissement              25   \n",
       "7    462981.797149        75019  Paris 19e Arrondissement              63   \n",
       "8    518819.726233        75019  Paris 19e Arrondissement              53   \n",
       "9    403670.310822        75019  Paris 19e Arrondissement              53   \n",
       "\n",
       "    prix_m2  \n",
       "0   9871.44  \n",
       "1  10045.57  \n",
       "2   9194.70  \n",
       "3   9469.14  \n",
       "4   7463.61  \n",
       "5   9982.02  \n",
       "6   9674.26  \n",
       "7   7348.92  \n",
       "8   9789.05  \n",
       "9   7616.42  "
      ]
     },
     "execution_count": 34,
     "metadata": {},
     "output_type": "execute_result"
    }
   ],
   "source": [
    "df_classification['prix_m2'] = round(df_classification['valeur_fonciere'] / df_classification['surface_reelle'],2)\n",
    "df_classification.head(10)"
   ]
  },
  {
   "cell_type": "markdown",
   "id": "d3cd06b4",
   "metadata": {},
   "source": [
    "Nous observons dans les données que nous avons des valeurs différentes de prix au mètre carré pour un même arrondissement (ici le 19ème arrondissement). Il se peut fort que cela soit notre dimension à utiliser pour attribuer les prix au mètre carré les plus élévé dans un département aux locaux commerciaux, et les prix les plus bas aux appartements.\n",
    "\n",
    "Pour effectuer cette opération, nous allons utiliser l'algorithme du Kmeans qui va rechercher 2 centroïdes à travers les données."
   ]
  },
  {
   "cell_type": "code",
   "execution_count": 35,
   "id": "3893202b",
   "metadata": {},
   "outputs": [
    {
     "data": {
      "application/vnd.plotly.v1+json": {
       "config": {
        "plotlyServerURL": "https://plot.ly"
       },
       "data": [
        {
         "hovertemplate": "Nbr de cluster=%{x}<br>Coefficient de silhouette=%{y}<extra></extra>",
         "legendgroup": "",
         "line": {
          "color": "#636efa",
          "dash": "solid"
         },
         "marker": {
          "symbol": "circle"
         },
         "mode": "lines+markers",
         "name": "",
         "orientation": "v",
         "showlegend": false,
         "type": "scatter",
         "x": {
          "bdata": "AgMEBQYH",
          "dtype": "i1"
         },
         "xaxis": "x",
         "y": {
          "bdata": "c0Ha+00T7T+YY2jsHQ/oP0xiQoJ3S+M/ySNKa0fg4j+sb6FBJZTiP9VdDvZj/OI/",
          "dtype": "f8"
         },
         "yaxis": "y"
        }
       ],
       "layout": {
        "legend": {
         "tracegroupgap": 0
        },
        "template": {
         "data": {
          "bar": [
           {
            "error_x": {
             "color": "#2a3f5f"
            },
            "error_y": {
             "color": "#2a3f5f"
            },
            "marker": {
             "line": {
              "color": "#E5ECF6",
              "width": 0.5
             },
             "pattern": {
              "fillmode": "overlay",
              "size": 10,
              "solidity": 0.2
             }
            },
            "type": "bar"
           }
          ],
          "barpolar": [
           {
            "marker": {
             "line": {
              "color": "#E5ECF6",
              "width": 0.5
             },
             "pattern": {
              "fillmode": "overlay",
              "size": 10,
              "solidity": 0.2
             }
            },
            "type": "barpolar"
           }
          ],
          "carpet": [
           {
            "aaxis": {
             "endlinecolor": "#2a3f5f",
             "gridcolor": "white",
             "linecolor": "white",
             "minorgridcolor": "white",
             "startlinecolor": "#2a3f5f"
            },
            "baxis": {
             "endlinecolor": "#2a3f5f",
             "gridcolor": "white",
             "linecolor": "white",
             "minorgridcolor": "white",
             "startlinecolor": "#2a3f5f"
            },
            "type": "carpet"
           }
          ],
          "choropleth": [
           {
            "colorbar": {
             "outlinewidth": 0,
             "ticks": ""
            },
            "type": "choropleth"
           }
          ],
          "contour": [
           {
            "colorbar": {
             "outlinewidth": 0,
             "ticks": ""
            },
            "colorscale": [
             [
              0,
              "#0d0887"
             ],
             [
              0.1111111111111111,
              "#46039f"
             ],
             [
              0.2222222222222222,
              "#7201a8"
             ],
             [
              0.3333333333333333,
              "#9c179e"
             ],
             [
              0.4444444444444444,
              "#bd3786"
             ],
             [
              0.5555555555555556,
              "#d8576b"
             ],
             [
              0.6666666666666666,
              "#ed7953"
             ],
             [
              0.7777777777777778,
              "#fb9f3a"
             ],
             [
              0.8888888888888888,
              "#fdca26"
             ],
             [
              1,
              "#f0f921"
             ]
            ],
            "type": "contour"
           }
          ],
          "contourcarpet": [
           {
            "colorbar": {
             "outlinewidth": 0,
             "ticks": ""
            },
            "type": "contourcarpet"
           }
          ],
          "heatmap": [
           {
            "colorbar": {
             "outlinewidth": 0,
             "ticks": ""
            },
            "colorscale": [
             [
              0,
              "#0d0887"
             ],
             [
              0.1111111111111111,
              "#46039f"
             ],
             [
              0.2222222222222222,
              "#7201a8"
             ],
             [
              0.3333333333333333,
              "#9c179e"
             ],
             [
              0.4444444444444444,
              "#bd3786"
             ],
             [
              0.5555555555555556,
              "#d8576b"
             ],
             [
              0.6666666666666666,
              "#ed7953"
             ],
             [
              0.7777777777777778,
              "#fb9f3a"
             ],
             [
              0.8888888888888888,
              "#fdca26"
             ],
             [
              1,
              "#f0f921"
             ]
            ],
            "type": "heatmap"
           }
          ],
          "histogram": [
           {
            "marker": {
             "pattern": {
              "fillmode": "overlay",
              "size": 10,
              "solidity": 0.2
             }
            },
            "type": "histogram"
           }
          ],
          "histogram2d": [
           {
            "colorbar": {
             "outlinewidth": 0,
             "ticks": ""
            },
            "colorscale": [
             [
              0,
              "#0d0887"
             ],
             [
              0.1111111111111111,
              "#46039f"
             ],
             [
              0.2222222222222222,
              "#7201a8"
             ],
             [
              0.3333333333333333,
              "#9c179e"
             ],
             [
              0.4444444444444444,
              "#bd3786"
             ],
             [
              0.5555555555555556,
              "#d8576b"
             ],
             [
              0.6666666666666666,
              "#ed7953"
             ],
             [
              0.7777777777777778,
              "#fb9f3a"
             ],
             [
              0.8888888888888888,
              "#fdca26"
             ],
             [
              1,
              "#f0f921"
             ]
            ],
            "type": "histogram2d"
           }
          ],
          "histogram2dcontour": [
           {
            "colorbar": {
             "outlinewidth": 0,
             "ticks": ""
            },
            "colorscale": [
             [
              0,
              "#0d0887"
             ],
             [
              0.1111111111111111,
              "#46039f"
             ],
             [
              0.2222222222222222,
              "#7201a8"
             ],
             [
              0.3333333333333333,
              "#9c179e"
             ],
             [
              0.4444444444444444,
              "#bd3786"
             ],
             [
              0.5555555555555556,
              "#d8576b"
             ],
             [
              0.6666666666666666,
              "#ed7953"
             ],
             [
              0.7777777777777778,
              "#fb9f3a"
             ],
             [
              0.8888888888888888,
              "#fdca26"
             ],
             [
              1,
              "#f0f921"
             ]
            ],
            "type": "histogram2dcontour"
           }
          ],
          "mesh3d": [
           {
            "colorbar": {
             "outlinewidth": 0,
             "ticks": ""
            },
            "type": "mesh3d"
           }
          ],
          "parcoords": [
           {
            "line": {
             "colorbar": {
              "outlinewidth": 0,
              "ticks": ""
             }
            },
            "type": "parcoords"
           }
          ],
          "pie": [
           {
            "automargin": true,
            "type": "pie"
           }
          ],
          "scatter": [
           {
            "fillpattern": {
             "fillmode": "overlay",
             "size": 10,
             "solidity": 0.2
            },
            "type": "scatter"
           }
          ],
          "scatter3d": [
           {
            "line": {
             "colorbar": {
              "outlinewidth": 0,
              "ticks": ""
             }
            },
            "marker": {
             "colorbar": {
              "outlinewidth": 0,
              "ticks": ""
             }
            },
            "type": "scatter3d"
           }
          ],
          "scattercarpet": [
           {
            "marker": {
             "colorbar": {
              "outlinewidth": 0,
              "ticks": ""
             }
            },
            "type": "scattercarpet"
           }
          ],
          "scattergeo": [
           {
            "marker": {
             "colorbar": {
              "outlinewidth": 0,
              "ticks": ""
             }
            },
            "type": "scattergeo"
           }
          ],
          "scattergl": [
           {
            "marker": {
             "colorbar": {
              "outlinewidth": 0,
              "ticks": ""
             }
            },
            "type": "scattergl"
           }
          ],
          "scattermap": [
           {
            "marker": {
             "colorbar": {
              "outlinewidth": 0,
              "ticks": ""
             }
            },
            "type": "scattermap"
           }
          ],
          "scattermapbox": [
           {
            "marker": {
             "colorbar": {
              "outlinewidth": 0,
              "ticks": ""
             }
            },
            "type": "scattermapbox"
           }
          ],
          "scatterpolar": [
           {
            "marker": {
             "colorbar": {
              "outlinewidth": 0,
              "ticks": ""
             }
            },
            "type": "scatterpolar"
           }
          ],
          "scatterpolargl": [
           {
            "marker": {
             "colorbar": {
              "outlinewidth": 0,
              "ticks": ""
             }
            },
            "type": "scatterpolargl"
           }
          ],
          "scatterternary": [
           {
            "marker": {
             "colorbar": {
              "outlinewidth": 0,
              "ticks": ""
             }
            },
            "type": "scatterternary"
           }
          ],
          "surface": [
           {
            "colorbar": {
             "outlinewidth": 0,
             "ticks": ""
            },
            "colorscale": [
             [
              0,
              "#0d0887"
             ],
             [
              0.1111111111111111,
              "#46039f"
             ],
             [
              0.2222222222222222,
              "#7201a8"
             ],
             [
              0.3333333333333333,
              "#9c179e"
             ],
             [
              0.4444444444444444,
              "#bd3786"
             ],
             [
              0.5555555555555556,
              "#d8576b"
             ],
             [
              0.6666666666666666,
              "#ed7953"
             ],
             [
              0.7777777777777778,
              "#fb9f3a"
             ],
             [
              0.8888888888888888,
              "#fdca26"
             ],
             [
              1,
              "#f0f921"
             ]
            ],
            "type": "surface"
           }
          ],
          "table": [
           {
            "cells": {
             "fill": {
              "color": "#EBF0F8"
             },
             "line": {
              "color": "white"
             }
            },
            "header": {
             "fill": {
              "color": "#C8D4E3"
             },
             "line": {
              "color": "white"
             }
            },
            "type": "table"
           }
          ]
         },
         "layout": {
          "annotationdefaults": {
           "arrowcolor": "#2a3f5f",
           "arrowhead": 0,
           "arrowwidth": 1
          },
          "autotypenumbers": "strict",
          "coloraxis": {
           "colorbar": {
            "outlinewidth": 0,
            "ticks": ""
           }
          },
          "colorscale": {
           "diverging": [
            [
             0,
             "#8e0152"
            ],
            [
             0.1,
             "#c51b7d"
            ],
            [
             0.2,
             "#de77ae"
            ],
            [
             0.3,
             "#f1b6da"
            ],
            [
             0.4,
             "#fde0ef"
            ],
            [
             0.5,
             "#f7f7f7"
            ],
            [
             0.6,
             "#e6f5d0"
            ],
            [
             0.7,
             "#b8e186"
            ],
            [
             0.8,
             "#7fbc41"
            ],
            [
             0.9,
             "#4d9221"
            ],
            [
             1,
             "#276419"
            ]
           ],
           "sequential": [
            [
             0,
             "#0d0887"
            ],
            [
             0.1111111111111111,
             "#46039f"
            ],
            [
             0.2222222222222222,
             "#7201a8"
            ],
            [
             0.3333333333333333,
             "#9c179e"
            ],
            [
             0.4444444444444444,
             "#bd3786"
            ],
            [
             0.5555555555555556,
             "#d8576b"
            ],
            [
             0.6666666666666666,
             "#ed7953"
            ],
            [
             0.7777777777777778,
             "#fb9f3a"
            ],
            [
             0.8888888888888888,
             "#fdca26"
            ],
            [
             1,
             "#f0f921"
            ]
           ],
           "sequentialminus": [
            [
             0,
             "#0d0887"
            ],
            [
             0.1111111111111111,
             "#46039f"
            ],
            [
             0.2222222222222222,
             "#7201a8"
            ],
            [
             0.3333333333333333,
             "#9c179e"
            ],
            [
             0.4444444444444444,
             "#bd3786"
            ],
            [
             0.5555555555555556,
             "#d8576b"
            ],
            [
             0.6666666666666666,
             "#ed7953"
            ],
            [
             0.7777777777777778,
             "#fb9f3a"
            ],
            [
             0.8888888888888888,
             "#fdca26"
            ],
            [
             1,
             "#f0f921"
            ]
           ]
          },
          "colorway": [
           "#636efa",
           "#EF553B",
           "#00cc96",
           "#ab63fa",
           "#FFA15A",
           "#19d3f3",
           "#FF6692",
           "#B6E880",
           "#FF97FF",
           "#FECB52"
          ],
          "font": {
           "color": "#2a3f5f"
          },
          "geo": {
           "bgcolor": "white",
           "lakecolor": "white",
           "landcolor": "#E5ECF6",
           "showlakes": true,
           "showland": true,
           "subunitcolor": "white"
          },
          "hoverlabel": {
           "align": "left"
          },
          "hovermode": "closest",
          "mapbox": {
           "style": "light"
          },
          "paper_bgcolor": "white",
          "plot_bgcolor": "#E5ECF6",
          "polar": {
           "angularaxis": {
            "gridcolor": "white",
            "linecolor": "white",
            "ticks": ""
           },
           "bgcolor": "#E5ECF6",
           "radialaxis": {
            "gridcolor": "white",
            "linecolor": "white",
            "ticks": ""
           }
          },
          "scene": {
           "xaxis": {
            "backgroundcolor": "#E5ECF6",
            "gridcolor": "white",
            "gridwidth": 2,
            "linecolor": "white",
            "showbackground": true,
            "ticks": "",
            "zerolinecolor": "white"
           },
           "yaxis": {
            "backgroundcolor": "#E5ECF6",
            "gridcolor": "white",
            "gridwidth": 2,
            "linecolor": "white",
            "showbackground": true,
            "ticks": "",
            "zerolinecolor": "white"
           },
           "zaxis": {
            "backgroundcolor": "#E5ECF6",
            "gridcolor": "white",
            "gridwidth": 2,
            "linecolor": "white",
            "showbackground": true,
            "ticks": "",
            "zerolinecolor": "white"
           }
          },
          "shapedefaults": {
           "line": {
            "color": "#2a3f5f"
           }
          },
          "ternary": {
           "aaxis": {
            "gridcolor": "white",
            "linecolor": "white",
            "ticks": ""
           },
           "baxis": {
            "gridcolor": "white",
            "linecolor": "white",
            "ticks": ""
           },
           "bgcolor": "#E5ECF6",
           "caxis": {
            "gridcolor": "white",
            "linecolor": "white",
            "ticks": ""
           }
          },
          "title": {
           "x": 0.05
          },
          "xaxis": {
           "automargin": true,
           "gridcolor": "white",
           "linecolor": "white",
           "ticks": "",
           "title": {
            "standoff": 15
           },
           "zerolinecolor": "white",
           "zerolinewidth": 2
          },
          "yaxis": {
           "automargin": true,
           "gridcolor": "white",
           "linecolor": "white",
           "ticks": "",
           "title": {
            "standoff": 15
           },
           "zerolinecolor": "white",
           "zerolinewidth": 2
          }
         }
        },
        "title": {
         "text": "Test du nombre de cluster optimal avec le coefficient de silhouette"
        },
        "xaxis": {
         "anchor": "y",
         "domain": [
          0,
          1
         ],
         "title": {
          "text": "Nbr de cluster"
         }
        },
        "yaxis": {
         "anchor": "x",
         "domain": [
          0,
          1
         ],
         "title": {
          "text": "Coefficient de silhouette"
         }
        }
       }
      }
     },
     "metadata": {},
     "output_type": "display_data"
    }
   ],
   "source": [
    "# Test du nombre de cluster optimal avec le coefficient de silhouette\n",
    "from sklearn.cluster import KMeans\n",
    "from sklearn.metrics import silhouette_score\n",
    "X = df_classification[['prix_m2']]\n",
    "silhouette_scores = []\n",
    "for n_clusters in range(2,8):\n",
    "        k_means = KMeans(init='k-means++', n_clusters=n_clusters, random_state = 5 , n_init = 'auto'  )\n",
    "        k_means.fit(X)\n",
    "        k_means_labels = k_means.predict(X)\n",
    "        silhouette_scores.append(silhouette_score(X,k_means_labels ))\n",
    "fig_coeff_silhouette = px.line(df_classification, \n",
    "               x= range(2,8), \n",
    "               y=silhouette_scores,\n",
    "               title='Test du nombre de cluster optimal avec le coefficient de silhouette',\n",
    "               markers=True,\n",
    "               labels={'x':'Nbr de cluster','y':'Coefficient de silhouette'}\n",
    "               )\n",
    "fig_coeff_silhouette.show()\n"
   ]
  },
  {
   "cell_type": "markdown",
   "id": "d55beb65",
   "metadata": {},
   "source": [
    "On choisira donc le nombre de cluster ayant le meilleur coefficient (celui qui s'approche le plus de 1), c'est à dire 2."
   ]
  },
  {
   "cell_type": "code",
   "execution_count": 36,
   "id": "4cd15e98",
   "metadata": {},
   "outputs": [
    {
     "name": "stdout",
     "output_type": "stream",
     "text": [
      "[[9806.924]\n",
      " [7408.774]]\n",
      "\n",
      "Score : -1410595.22\n",
      "Silhouette_score:  0.908606521510633\n"
     ]
    }
   ],
   "source": [
    "#Application K-Means\n",
    "X = df_classification[['prix_m2']]\n",
    "k_means = KMeans(n_clusters=2,random_state= 5, n_init= 'auto')\n",
    "k_means.fit(X)\n",
    "print(k_means.cluster_centers_)\n",
    "print()\n",
    "#Vérification des scores\n",
    "print(\"Score :\", round(k_means.score(X),2))\n",
    "k_means_labels = k_means.predict(X)\n",
    "print(\"Silhouette_score: \", silhouette_score(X,k_means_labels ))\n",
    "\n"
   ]
  },
  {
   "cell_type": "code",
   "execution_count": 37,
   "id": "e80ea363-e493-4fe2-b45d-6ff072263692",
   "metadata": {},
   "outputs": [
    {
     "data": {
      "text/plain": [
       "array([0, 0, 0, 0, 1, 0, 0, 1, 0, 1, 1, 0, 1, 0, 1, 1, 1, 0, 0, 1, 1, 1,\n",
       "       0, 1, 1, 1, 0, 0, 0, 1, 0, 1, 0, 1, 1, 1, 0, 1, 0, 0], dtype=int32)"
      ]
     },
     "execution_count": 37,
     "metadata": {},
     "output_type": "execute_result"
    }
   ],
   "source": [
    "k_means_labels"
   ]
  },
  {
   "cell_type": "code",
   "execution_count": 38,
   "id": "a9fd14d2",
   "metadata": {},
   "outputs": [
    {
     "data": {
      "application/vnd.plotly.v1+json": {
       "config": {
        "plotlyServerURL": "https://plot.ly"
       },
       "data": [
        {
         "hovertemplate": "Prix du m2=%{marker.size}<br>Classification=%{y}<br>color=%{marker.color}<extra></extra>",
         "legendgroup": "",
         "marker": {
          "color": {
           "bdata": "AAAAAAAAAAAAAAAAAAAAAAEAAAAAAAAAAAAAAAEAAAAAAAAAAQAAAAEAAAAAAAAAAQAAAAAAAAABAAAAAQAAAAEAAAAAAAAAAAAAAAEAAAABAAAAAQAAAAAAAAABAAAAAQAAAAEAAAAAAAAAAAAAAAAAAAABAAAAAAAAAAEAAAAAAAAAAQAAAAEAAAABAAAAAAAAAAEAAAAAAAAAAAAAAA==",
           "dtype": "i4"
          },
          "coloraxis": "coloraxis",
          "size": {
           "bdata": "H4XrUbhHw0Bcj8L1yJ7DQJqZmZlZ9cFAuB6F65F+wkCPwvUonCe9QPYoXI8Cf8NAexSuRyHlwkBSuB6F67S8QGZmZmaGHsNAUrgehWvAvUAfhetReEK9QNejcD0Kl8JAUrgehWtGvEAUrkfhukbDQNejcD2Kr7xAj8L1KByRvEDD9Shcj/e8QOxRuB7FbsNAcT0K12N9w0BmZmZm5oC8QLgeheuRmrxAH4XrUTgnvECPwvUo/CvDQHsUrkfhDb1A7FG4HkXnvEDD9Shcz4q8QDMzMzOTdMNArkfhepS7w0A9Ctej0L7CQPYoXI+Cvb1Aj8L1KFwDw0C4HoXrEfK9QJqZmZmZwMNA16NwPQqZvUAzMzMzM368QBSuR+H6R7xAcT0K18P5wkAUrkfh+p+9QFK4HoXLf8NAhetRuL4Vw0A=",
           "dtype": "f8"
          },
          "sizemode": "area",
          "sizeref": 25.283,
          "symbol": "circle"
         },
         "mode": "markers",
         "name": "",
         "orientation": "v",
         "showlegend": false,
         "type": "scatter",
         "x": {
          "bdata": "H4XrUbhHw0Bcj8L1yJ7DQJqZmZlZ9cFAuB6F65F+wkCPwvUonCe9QPYoXI8Cf8NAexSuRyHlwkBSuB6F67S8QGZmZmaGHsNAUrgehWvAvUAfhetReEK9QNejcD0Kl8JAUrgehWtGvEAUrkfhukbDQNejcD2Kr7xAj8L1KByRvEDD9Shcj/e8QOxRuB7FbsNAcT0K12N9w0BmZmZm5oC8QLgeheuRmrxAH4XrUTgnvECPwvUo/CvDQHsUrkfhDb1A7FG4HkXnvEDD9Shcz4q8QDMzMzOTdMNArkfhepS7w0A9Ctej0L7CQPYoXI+Cvb1Aj8L1KFwDw0C4HoXrEfK9QJqZmZmZwMNA16NwPQqZvUAzMzMzM368QBSuR+H6R7xAcT0K18P5wkAUrkfh+p+9QFK4HoXLf8NAhetRuL4Vw0A=",
          "dtype": "f8"
         },
         "xaxis": "x",
         "y": {
          "bdata": "AAAAAAAAAAAAAAAAAAAAAAEAAAAAAAAAAAAAAAEAAAAAAAAAAQAAAAEAAAAAAAAAAQAAAAAAAAABAAAAAQAAAAEAAAAAAAAAAAAAAAEAAAABAAAAAQAAAAAAAAABAAAAAQAAAAEAAAAAAAAAAAAAAAAAAAABAAAAAAAAAAEAAAAAAAAAAQAAAAEAAAABAAAAAAAAAAEAAAAAAAAAAAAAAA==",
          "dtype": "i4"
         },
         "yaxis": "y"
        },
        {
         "marker": {
          "color": "black",
          "size": 15
         },
         "name": "Centroide 0",
         "type": "scatter",
         "x": [
          9806.924
         ],
         "y": [
          0
         ]
        },
        {
         "marker": {
          "color": "black",
          "size": 15
         },
         "name": "Centroide 1",
         "type": "scatter",
         "x": [
          7408.774
         ],
         "y": [
          1
         ]
        }
       ],
       "layout": {
        "annotations": [
         {
          "arrowhead": 1,
          "showarrow": false,
          "text": "Moyenne du prix au m2 (8607.84€)",
          "x": 8350,
          "y": 0.5
         }
        ],
        "coloraxis": {
         "colorbar": {
          "title": {
           "text": "color"
          }
         },
         "colorscale": [
          [
           0,
           "rgb(0, 128, 128)"
          ],
          [
           0.16666666666666666,
           "rgb(112, 164, 148)"
          ],
          [
           0.3333333333333333,
           "rgb(180, 200, 168)"
          ],
          [
           0.5,
           "rgb(246, 237, 189)"
          ],
          [
           0.6666666666666666,
           "rgb(237, 187, 138)"
          ],
          [
           0.8333333333333334,
           "rgb(222, 138, 90)"
          ],
          [
           1,
           "rgb(202, 86, 44)"
          ]
         ]
        },
        "legend": {
         "itemsizing": "constant",
         "tracegroupgap": 0
        },
        "shapes": [
         {
          "line": {
           "color": "red",
           "dash": "dash",
           "width": 3
          },
          "name": "Moyenne prix m2",
          "type": "line",
          "x0": 8607.848999999998,
          "x1": 8607.848999999998,
          "xref": "x",
          "y0": 0,
          "y1": 1,
          "yref": "y domain"
         }
        ],
        "showlegend": false,
        "template": {
         "data": {
          "bar": [
           {
            "error_x": {
             "color": "#2a3f5f"
            },
            "error_y": {
             "color": "#2a3f5f"
            },
            "marker": {
             "line": {
              "color": "#E5ECF6",
              "width": 0.5
             },
             "pattern": {
              "fillmode": "overlay",
              "size": 10,
              "solidity": 0.2
             }
            },
            "type": "bar"
           }
          ],
          "barpolar": [
           {
            "marker": {
             "line": {
              "color": "#E5ECF6",
              "width": 0.5
             },
             "pattern": {
              "fillmode": "overlay",
              "size": 10,
              "solidity": 0.2
             }
            },
            "type": "barpolar"
           }
          ],
          "carpet": [
           {
            "aaxis": {
             "endlinecolor": "#2a3f5f",
             "gridcolor": "white",
             "linecolor": "white",
             "minorgridcolor": "white",
             "startlinecolor": "#2a3f5f"
            },
            "baxis": {
             "endlinecolor": "#2a3f5f",
             "gridcolor": "white",
             "linecolor": "white",
             "minorgridcolor": "white",
             "startlinecolor": "#2a3f5f"
            },
            "type": "carpet"
           }
          ],
          "choropleth": [
           {
            "colorbar": {
             "outlinewidth": 0,
             "ticks": ""
            },
            "type": "choropleth"
           }
          ],
          "contour": [
           {
            "colorbar": {
             "outlinewidth": 0,
             "ticks": ""
            },
            "colorscale": [
             [
              0,
              "#0d0887"
             ],
             [
              0.1111111111111111,
              "#46039f"
             ],
             [
              0.2222222222222222,
              "#7201a8"
             ],
             [
              0.3333333333333333,
              "#9c179e"
             ],
             [
              0.4444444444444444,
              "#bd3786"
             ],
             [
              0.5555555555555556,
              "#d8576b"
             ],
             [
              0.6666666666666666,
              "#ed7953"
             ],
             [
              0.7777777777777778,
              "#fb9f3a"
             ],
             [
              0.8888888888888888,
              "#fdca26"
             ],
             [
              1,
              "#f0f921"
             ]
            ],
            "type": "contour"
           }
          ],
          "contourcarpet": [
           {
            "colorbar": {
             "outlinewidth": 0,
             "ticks": ""
            },
            "type": "contourcarpet"
           }
          ],
          "heatmap": [
           {
            "colorbar": {
             "outlinewidth": 0,
             "ticks": ""
            },
            "colorscale": [
             [
              0,
              "#0d0887"
             ],
             [
              0.1111111111111111,
              "#46039f"
             ],
             [
              0.2222222222222222,
              "#7201a8"
             ],
             [
              0.3333333333333333,
              "#9c179e"
             ],
             [
              0.4444444444444444,
              "#bd3786"
             ],
             [
              0.5555555555555556,
              "#d8576b"
             ],
             [
              0.6666666666666666,
              "#ed7953"
             ],
             [
              0.7777777777777778,
              "#fb9f3a"
             ],
             [
              0.8888888888888888,
              "#fdca26"
             ],
             [
              1,
              "#f0f921"
             ]
            ],
            "type": "heatmap"
           }
          ],
          "histogram": [
           {
            "marker": {
             "pattern": {
              "fillmode": "overlay",
              "size": 10,
              "solidity": 0.2
             }
            },
            "type": "histogram"
           }
          ],
          "histogram2d": [
           {
            "colorbar": {
             "outlinewidth": 0,
             "ticks": ""
            },
            "colorscale": [
             [
              0,
              "#0d0887"
             ],
             [
              0.1111111111111111,
              "#46039f"
             ],
             [
              0.2222222222222222,
              "#7201a8"
             ],
             [
              0.3333333333333333,
              "#9c179e"
             ],
             [
              0.4444444444444444,
              "#bd3786"
             ],
             [
              0.5555555555555556,
              "#d8576b"
             ],
             [
              0.6666666666666666,
              "#ed7953"
             ],
             [
              0.7777777777777778,
              "#fb9f3a"
             ],
             [
              0.8888888888888888,
              "#fdca26"
             ],
             [
              1,
              "#f0f921"
             ]
            ],
            "type": "histogram2d"
           }
          ],
          "histogram2dcontour": [
           {
            "colorbar": {
             "outlinewidth": 0,
             "ticks": ""
            },
            "colorscale": [
             [
              0,
              "#0d0887"
             ],
             [
              0.1111111111111111,
              "#46039f"
             ],
             [
              0.2222222222222222,
              "#7201a8"
             ],
             [
              0.3333333333333333,
              "#9c179e"
             ],
             [
              0.4444444444444444,
              "#bd3786"
             ],
             [
              0.5555555555555556,
              "#d8576b"
             ],
             [
              0.6666666666666666,
              "#ed7953"
             ],
             [
              0.7777777777777778,
              "#fb9f3a"
             ],
             [
              0.8888888888888888,
              "#fdca26"
             ],
             [
              1,
              "#f0f921"
             ]
            ],
            "type": "histogram2dcontour"
           }
          ],
          "mesh3d": [
           {
            "colorbar": {
             "outlinewidth": 0,
             "ticks": ""
            },
            "type": "mesh3d"
           }
          ],
          "parcoords": [
           {
            "line": {
             "colorbar": {
              "outlinewidth": 0,
              "ticks": ""
             }
            },
            "type": "parcoords"
           }
          ],
          "pie": [
           {
            "automargin": true,
            "type": "pie"
           }
          ],
          "scatter": [
           {
            "fillpattern": {
             "fillmode": "overlay",
             "size": 10,
             "solidity": 0.2
            },
            "type": "scatter"
           }
          ],
          "scatter3d": [
           {
            "line": {
             "colorbar": {
              "outlinewidth": 0,
              "ticks": ""
             }
            },
            "marker": {
             "colorbar": {
              "outlinewidth": 0,
              "ticks": ""
             }
            },
            "type": "scatter3d"
           }
          ],
          "scattercarpet": [
           {
            "marker": {
             "colorbar": {
              "outlinewidth": 0,
              "ticks": ""
             }
            },
            "type": "scattercarpet"
           }
          ],
          "scattergeo": [
           {
            "marker": {
             "colorbar": {
              "outlinewidth": 0,
              "ticks": ""
             }
            },
            "type": "scattergeo"
           }
          ],
          "scattergl": [
           {
            "marker": {
             "colorbar": {
              "outlinewidth": 0,
              "ticks": ""
             }
            },
            "type": "scattergl"
           }
          ],
          "scattermap": [
           {
            "marker": {
             "colorbar": {
              "outlinewidth": 0,
              "ticks": ""
             }
            },
            "type": "scattermap"
           }
          ],
          "scattermapbox": [
           {
            "marker": {
             "colorbar": {
              "outlinewidth": 0,
              "ticks": ""
             }
            },
            "type": "scattermapbox"
           }
          ],
          "scatterpolar": [
           {
            "marker": {
             "colorbar": {
              "outlinewidth": 0,
              "ticks": ""
             }
            },
            "type": "scatterpolar"
           }
          ],
          "scatterpolargl": [
           {
            "marker": {
             "colorbar": {
              "outlinewidth": 0,
              "ticks": ""
             }
            },
            "type": "scatterpolargl"
           }
          ],
          "scatterternary": [
           {
            "marker": {
             "colorbar": {
              "outlinewidth": 0,
              "ticks": ""
             }
            },
            "type": "scatterternary"
           }
          ],
          "surface": [
           {
            "colorbar": {
             "outlinewidth": 0,
             "ticks": ""
            },
            "colorscale": [
             [
              0,
              "#0d0887"
             ],
             [
              0.1111111111111111,
              "#46039f"
             ],
             [
              0.2222222222222222,
              "#7201a8"
             ],
             [
              0.3333333333333333,
              "#9c179e"
             ],
             [
              0.4444444444444444,
              "#bd3786"
             ],
             [
              0.5555555555555556,
              "#d8576b"
             ],
             [
              0.6666666666666666,
              "#ed7953"
             ],
             [
              0.7777777777777778,
              "#fb9f3a"
             ],
             [
              0.8888888888888888,
              "#fdca26"
             ],
             [
              1,
              "#f0f921"
             ]
            ],
            "type": "surface"
           }
          ],
          "table": [
           {
            "cells": {
             "fill": {
              "color": "#EBF0F8"
             },
             "line": {
              "color": "white"
             }
            },
            "header": {
             "fill": {
              "color": "#C8D4E3"
             },
             "line": {
              "color": "white"
             }
            },
            "type": "table"
           }
          ]
         },
         "layout": {
          "annotationdefaults": {
           "arrowcolor": "#2a3f5f",
           "arrowhead": 0,
           "arrowwidth": 1
          },
          "autotypenumbers": "strict",
          "coloraxis": {
           "colorbar": {
            "outlinewidth": 0,
            "ticks": ""
           }
          },
          "colorscale": {
           "diverging": [
            [
             0,
             "#8e0152"
            ],
            [
             0.1,
             "#c51b7d"
            ],
            [
             0.2,
             "#de77ae"
            ],
            [
             0.3,
             "#f1b6da"
            ],
            [
             0.4,
             "#fde0ef"
            ],
            [
             0.5,
             "#f7f7f7"
            ],
            [
             0.6,
             "#e6f5d0"
            ],
            [
             0.7,
             "#b8e186"
            ],
            [
             0.8,
             "#7fbc41"
            ],
            [
             0.9,
             "#4d9221"
            ],
            [
             1,
             "#276419"
            ]
           ],
           "sequential": [
            [
             0,
             "#0d0887"
            ],
            [
             0.1111111111111111,
             "#46039f"
            ],
            [
             0.2222222222222222,
             "#7201a8"
            ],
            [
             0.3333333333333333,
             "#9c179e"
            ],
            [
             0.4444444444444444,
             "#bd3786"
            ],
            [
             0.5555555555555556,
             "#d8576b"
            ],
            [
             0.6666666666666666,
             "#ed7953"
            ],
            [
             0.7777777777777778,
             "#fb9f3a"
            ],
            [
             0.8888888888888888,
             "#fdca26"
            ],
            [
             1,
             "#f0f921"
            ]
           ],
           "sequentialminus": [
            [
             0,
             "#0d0887"
            ],
            [
             0.1111111111111111,
             "#46039f"
            ],
            [
             0.2222222222222222,
             "#7201a8"
            ],
            [
             0.3333333333333333,
             "#9c179e"
            ],
            [
             0.4444444444444444,
             "#bd3786"
            ],
            [
             0.5555555555555556,
             "#d8576b"
            ],
            [
             0.6666666666666666,
             "#ed7953"
            ],
            [
             0.7777777777777778,
             "#fb9f3a"
            ],
            [
             0.8888888888888888,
             "#fdca26"
            ],
            [
             1,
             "#f0f921"
            ]
           ]
          },
          "colorway": [
           "#636efa",
           "#EF553B",
           "#00cc96",
           "#ab63fa",
           "#FFA15A",
           "#19d3f3",
           "#FF6692",
           "#B6E880",
           "#FF97FF",
           "#FECB52"
          ],
          "font": {
           "color": "#2a3f5f"
          },
          "geo": {
           "bgcolor": "white",
           "lakecolor": "white",
           "landcolor": "#E5ECF6",
           "showlakes": true,
           "showland": true,
           "subunitcolor": "white"
          },
          "hoverlabel": {
           "align": "left"
          },
          "hovermode": "closest",
          "mapbox": {
           "style": "light"
          },
          "paper_bgcolor": "white",
          "plot_bgcolor": "#E5ECF6",
          "polar": {
           "angularaxis": {
            "gridcolor": "white",
            "linecolor": "white",
            "ticks": ""
           },
           "bgcolor": "#E5ECF6",
           "radialaxis": {
            "gridcolor": "white",
            "linecolor": "white",
            "ticks": ""
           }
          },
          "scene": {
           "xaxis": {
            "backgroundcolor": "#E5ECF6",
            "gridcolor": "white",
            "gridwidth": 2,
            "linecolor": "white",
            "showbackground": true,
            "ticks": "",
            "zerolinecolor": "white"
           },
           "yaxis": {
            "backgroundcolor": "#E5ECF6",
            "gridcolor": "white",
            "gridwidth": 2,
            "linecolor": "white",
            "showbackground": true,
            "ticks": "",
            "zerolinecolor": "white"
           },
           "zaxis": {
            "backgroundcolor": "#E5ECF6",
            "gridcolor": "white",
            "gridwidth": 2,
            "linecolor": "white",
            "showbackground": true,
            "ticks": "",
            "zerolinecolor": "white"
           }
          },
          "shapedefaults": {
           "line": {
            "color": "#2a3f5f"
           }
          },
          "ternary": {
           "aaxis": {
            "gridcolor": "white",
            "linecolor": "white",
            "ticks": ""
           },
           "baxis": {
            "gridcolor": "white",
            "linecolor": "white",
            "ticks": ""
           },
           "bgcolor": "#E5ECF6",
           "caxis": {
            "gridcolor": "white",
            "linecolor": "white",
            "ticks": ""
           }
          },
          "title": {
           "x": 0.05
          },
          "xaxis": {
           "automargin": true,
           "gridcolor": "white",
           "linecolor": "white",
           "ticks": "",
           "title": {
            "standoff": 15
           },
           "zerolinecolor": "white",
           "zerolinewidth": 2
          },
          "yaxis": {
           "automargin": true,
           "gridcolor": "white",
           "linecolor": "white",
           "ticks": "",
           "title": {
            "standoff": 15
           },
           "zerolinecolor": "white",
           "zerolinewidth": 2
          }
         }
        },
        "title": {
         "text": "Visualisation du regroupement de nos données (Clustering)"
        },
        "xaxis": {
         "anchor": "y",
         "domain": [
          0,
          1
         ],
         "title": {
          "text": "Prix du m2"
         }
        },
        "yaxis": {
         "anchor": "x",
         "domain": [
          0,
          1
         ],
         "showticklabels": false,
         "title": {
          "text": "Classification"
         },
         "visible": false
        }
       }
      }
     },
     "metadata": {},
     "output_type": "display_data"
    }
   ],
   "source": [
    "# On vérifie les données de la prédiction\n",
    "moyenne_prix_m2 = df_classification['prix_m2'].mean()\n",
    "verification = px.scatter(df_classification,\n",
    "                  x='prix_m2',\n",
    "                  y=k_means_labels,\n",
    "                  size='prix_m2',\n",
    "                  color= k_means_labels,\n",
    "                  labels={'y':'Classification','prix_m2':'Prix du m2'},\n",
    "                  color_continuous_scale=px.colors.diverging.Geyser,\n",
    "                  title='Visualisation du regroupement de nos données (Clustering)'\n",
    "                  )\n",
    "verification.add_scatter(x=[9806.924], \n",
    "                y=[0],\n",
    "                marker=dict(\n",
    "                    color='black',\n",
    "                    size=15\n",
    "                ),\n",
    "                name='Centroide 0'\n",
    "               )\n",
    "verification.add_scatter(x=[7408.774], \n",
    "                y=[1],\n",
    "                marker=dict(\n",
    "                    color='black',\n",
    "                    size=15\n",
    "                ),\n",
    "                name='Centroide 1'\n",
    "               )\n",
    "verification.add_vline(x=moyenne_prix_m2,\n",
    "                line_width=3,\n",
    "                line_dash=\"dash\", \n",
    "                line_color=\"red\",\n",
    "                name='Moyenne prix m2'\n",
    "                ),\n",
    "verification.add_annotation(text=\"Moyenne du prix au m2 (8607.84€)\",\n",
    "                            x=8350, \n",
    "                            y=0.5,\n",
    "                            arrowhead=1, \n",
    "                            showarrow=False)\n",
    "verification.update_layout(showlegend=False)\n",
    "verification.update_layout(yaxis={'visible': False, 'showticklabels': False})\n",
    "verification.show()\n"
   ]
  },
  {
   "cell_type": "markdown",
   "id": "b19ee04c",
   "metadata": {},
   "source": [
    "Nous avons obtenu notre prédiction. Nous pouvons changer les labels et remplacer les valeurs à 0 par Local industriel. commercial ou assimilé et les valeurs à +1 par Appartement. "
   ]
  },
  {
   "cell_type": "code",
   "execution_count": 39,
   "id": "ecb1ec6a",
   "metadata": {
    "scrolled": true
   },
   "outputs": [
    {
     "data": {
      "text/html": [
       "<div>\n",
       "<style scoped>\n",
       "    .dataframe tbody tr th:only-of-type {\n",
       "        vertical-align: middle;\n",
       "    }\n",
       "\n",
       "    .dataframe tbody tr th {\n",
       "        vertical-align: top;\n",
       "    }\n",
       "\n",
       "    .dataframe thead th {\n",
       "        text-align: right;\n",
       "    }\n",
       "</style>\n",
       "<table border=\"1\" class=\"dataframe\">\n",
       "  <thead>\n",
       "    <tr style=\"text-align: right;\">\n",
       "      <th></th>\n",
       "      <th>valeur_fonciere</th>\n",
       "      <th>code_postal</th>\n",
       "      <th>nom_commune</th>\n",
       "      <th>surface_reelle</th>\n",
       "      <th>prix_m2</th>\n",
       "      <th>Type_de_bien</th>\n",
       "    </tr>\n",
       "  </thead>\n",
       "  <tbody>\n",
       "    <tr>\n",
       "      <th>0</th>\n",
       "      <td>868687.083271</td>\n",
       "      <td>75019</td>\n",
       "      <td>Paris 19e Arrondissement</td>\n",
       "      <td>88</td>\n",
       "      <td>9871.44</td>\n",
       "      <td>Local industriel. commercial ou assimilé</td>\n",
       "    </tr>\n",
       "    <tr>\n",
       "      <th>1</th>\n",
       "      <td>452050.762192</td>\n",
       "      <td>75019</td>\n",
       "      <td>Paris 19e Arrondissement</td>\n",
       "      <td>45</td>\n",
       "      <td>10045.57</td>\n",
       "      <td>Local industriel. commercial ou assimilé</td>\n",
       "    </tr>\n",
       "    <tr>\n",
       "      <th>2</th>\n",
       "      <td>193088.653587</td>\n",
       "      <td>75019</td>\n",
       "      <td>Paris 19e Arrondissement</td>\n",
       "      <td>21</td>\n",
       "      <td>9194.70</td>\n",
       "      <td>Local industriel. commercial ou assimilé</td>\n",
       "    </tr>\n",
       "    <tr>\n",
       "      <th>3</th>\n",
       "      <td>303012.549370</td>\n",
       "      <td>75019</td>\n",
       "      <td>Paris 19e Arrondissement</td>\n",
       "      <td>32</td>\n",
       "      <td>9469.14</td>\n",
       "      <td>Local industriel. commercial ou assimilé</td>\n",
       "    </tr>\n",
       "    <tr>\n",
       "      <th>4</th>\n",
       "      <td>149272.200110</td>\n",
       "      <td>75019</td>\n",
       "      <td>Paris 19e Arrondissement</td>\n",
       "      <td>20</td>\n",
       "      <td>7463.61</td>\n",
       "      <td>Appartement</td>\n",
       "    </tr>\n",
       "    <tr>\n",
       "      <th>5</th>\n",
       "      <td>179676.304545</td>\n",
       "      <td>75019</td>\n",
       "      <td>Paris 19e Arrondissement</td>\n",
       "      <td>18</td>\n",
       "      <td>9982.02</td>\n",
       "      <td>Local industriel. commercial ou assimilé</td>\n",
       "    </tr>\n",
       "    <tr>\n",
       "      <th>6</th>\n",
       "      <td>241856.569418</td>\n",
       "      <td>75019</td>\n",
       "      <td>Paris 19e Arrondissement</td>\n",
       "      <td>25</td>\n",
       "      <td>9674.26</td>\n",
       "      <td>Local industriel. commercial ou assimilé</td>\n",
       "    </tr>\n",
       "    <tr>\n",
       "      <th>7</th>\n",
       "      <td>462981.797149</td>\n",
       "      <td>75019</td>\n",
       "      <td>Paris 19e Arrondissement</td>\n",
       "      <td>63</td>\n",
       "      <td>7348.92</td>\n",
       "      <td>Appartement</td>\n",
       "    </tr>\n",
       "    <tr>\n",
       "      <th>8</th>\n",
       "      <td>518819.726233</td>\n",
       "      <td>75019</td>\n",
       "      <td>Paris 19e Arrondissement</td>\n",
       "      <td>53</td>\n",
       "      <td>9789.05</td>\n",
       "      <td>Local industriel. commercial ou assimilé</td>\n",
       "    </tr>\n",
       "    <tr>\n",
       "      <th>9</th>\n",
       "      <td>403670.310822</td>\n",
       "      <td>75019</td>\n",
       "      <td>Paris 19e Arrondissement</td>\n",
       "      <td>53</td>\n",
       "      <td>7616.42</td>\n",
       "      <td>Appartement</td>\n",
       "    </tr>\n",
       "    <tr>\n",
       "      <th>10</th>\n",
       "      <td>374523.452055</td>\n",
       "      <td>75019</td>\n",
       "      <td>Paris 19e Arrondissement</td>\n",
       "      <td>50</td>\n",
       "      <td>7490.47</td>\n",
       "      <td>Appartement</td>\n",
       "    </tr>\n",
       "    <tr>\n",
       "      <th>11</th>\n",
       "      <td>371204.968028</td>\n",
       "      <td>75019</td>\n",
       "      <td>Paris 19e Arrondissement</td>\n",
       "      <td>39</td>\n",
       "      <td>9518.08</td>\n",
       "      <td>Local industriel. commercial ou assimilé</td>\n",
       "    </tr>\n",
       "    <tr>\n",
       "      <th>12</th>\n",
       "      <td>188198.997288</td>\n",
       "      <td>75019</td>\n",
       "      <td>Paris 19e Arrondissement</td>\n",
       "      <td>26</td>\n",
       "      <td>7238.42</td>\n",
       "      <td>Appartement</td>\n",
       "    </tr>\n",
       "    <tr>\n",
       "      <th>13</th>\n",
       "      <td>384909.031356</td>\n",
       "      <td>75019</td>\n",
       "      <td>Paris 19e Arrondissement</td>\n",
       "      <td>39</td>\n",
       "      <td>9869.46</td>\n",
       "      <td>Local industriel. commercial ou assimilé</td>\n",
       "    </tr>\n",
       "    <tr>\n",
       "      <th>14</th>\n",
       "      <td>323115.729863</td>\n",
       "      <td>75019</td>\n",
       "      <td>Paris 19e Arrondissement</td>\n",
       "      <td>44</td>\n",
       "      <td>7343.54</td>\n",
       "      <td>Appartement</td>\n",
       "    </tr>\n",
       "    <tr>\n",
       "      <th>15</th>\n",
       "      <td>299837.689726</td>\n",
       "      <td>75019</td>\n",
       "      <td>Paris 19e Arrondissement</td>\n",
       "      <td>41</td>\n",
       "      <td>7313.11</td>\n",
       "      <td>Appartement</td>\n",
       "    </tr>\n",
       "    <tr>\n",
       "      <th>16</th>\n",
       "      <td>385609.346236</td>\n",
       "      <td>75019</td>\n",
       "      <td>Paris 19e Arrondissement</td>\n",
       "      <td>52</td>\n",
       "      <td>7415.56</td>\n",
       "      <td>Appartement</td>\n",
       "    </tr>\n",
       "    <tr>\n",
       "      <th>17</th>\n",
       "      <td>985004.900753</td>\n",
       "      <td>75019</td>\n",
       "      <td>Paris 19e Arrondissement</td>\n",
       "      <td>99</td>\n",
       "      <td>9949.54</td>\n",
       "      <td>Local industriel. commercial ou assimilé</td>\n",
       "    </tr>\n",
       "    <tr>\n",
       "      <th>18</th>\n",
       "      <td>249469.620558</td>\n",
       "      <td>75019</td>\n",
       "      <td>Paris 19e Arrondissement</td>\n",
       "      <td>25</td>\n",
       "      <td>9978.78</td>\n",
       "      <td>Local industriel. commercial ou assimilé</td>\n",
       "    </tr>\n",
       "    <tr>\n",
       "      <th>19</th>\n",
       "      <td>269985.318855</td>\n",
       "      <td>75019</td>\n",
       "      <td>Paris 19e Arrondissement</td>\n",
       "      <td>37</td>\n",
       "      <td>7296.90</td>\n",
       "      <td>Appartement</td>\n",
       "    </tr>\n",
       "    <tr>\n",
       "      <th>20</th>\n",
       "      <td>256289.969178</td>\n",
       "      <td>75019</td>\n",
       "      <td>Paris 19e Arrondissement</td>\n",
       "      <td>35</td>\n",
       "      <td>7322.57</td>\n",
       "      <td>Appartement</td>\n",
       "    </tr>\n",
       "    <tr>\n",
       "      <th>21</th>\n",
       "      <td>252252.617055</td>\n",
       "      <td>75019</td>\n",
       "      <td>Paris 19e Arrondissement</td>\n",
       "      <td>35</td>\n",
       "      <td>7207.22</td>\n",
       "      <td>Appartement</td>\n",
       "    </tr>\n",
       "    <tr>\n",
       "      <th>22</th>\n",
       "      <td>588958.335493</td>\n",
       "      <td>75019</td>\n",
       "      <td>Paris 19e Arrondissement</td>\n",
       "      <td>60</td>\n",
       "      <td>9815.97</td>\n",
       "      <td>Local industriel. commercial ou assimilé</td>\n",
       "    </tr>\n",
       "    <tr>\n",
       "      <th>23</th>\n",
       "      <td>483462.212110</td>\n",
       "      <td>75019</td>\n",
       "      <td>Paris 19e Arrondissement</td>\n",
       "      <td>65</td>\n",
       "      <td>7437.88</td>\n",
       "      <td>Appartement</td>\n",
       "    </tr>\n",
       "    <tr>\n",
       "      <th>24</th>\n",
       "      <td>177582.384658</td>\n",
       "      <td>75019</td>\n",
       "      <td>Paris 19e Arrondissement</td>\n",
       "      <td>24</td>\n",
       "      <td>7399.27</td>\n",
       "      <td>Appartement</td>\n",
       "    </tr>\n",
       "    <tr>\n",
       "      <th>25</th>\n",
       "      <td>255738.359589</td>\n",
       "      <td>75019</td>\n",
       "      <td>Paris 19e Arrondissement</td>\n",
       "      <td>35</td>\n",
       "      <td>7306.81</td>\n",
       "      <td>Appartement</td>\n",
       "    </tr>\n",
       "    <tr>\n",
       "      <th>26</th>\n",
       "      <td>298834.405808</td>\n",
       "      <td>75019</td>\n",
       "      <td>Paris 19e Arrondissement</td>\n",
       "      <td>30</td>\n",
       "      <td>9961.15</td>\n",
       "      <td>Local industriel. commercial ou assimilé</td>\n",
       "    </tr>\n",
       "    <tr>\n",
       "      <th>27</th>\n",
       "      <td>333404.332032</td>\n",
       "      <td>75019</td>\n",
       "      <td>Paris 19e Arrondissement</td>\n",
       "      <td>33</td>\n",
       "      <td>10103.16</td>\n",
       "      <td>Local industriel. commercial ou assimilé</td>\n",
       "    </tr>\n",
       "    <tr>\n",
       "      <th>28</th>\n",
       "      <td>537467.363310</td>\n",
       "      <td>75019</td>\n",
       "      <td>Paris 19e Arrondissement</td>\n",
       "      <td>56</td>\n",
       "      <td>9597.63</td>\n",
       "      <td>Local industriel. commercial ou assimilé</td>\n",
       "    </tr>\n",
       "    <tr>\n",
       "      <th>29</th>\n",
       "      <td>129429.748549</td>\n",
       "      <td>75019</td>\n",
       "      <td>Paris 19e Arrondissement</td>\n",
       "      <td>17</td>\n",
       "      <td>7613.51</td>\n",
       "      <td>Appartement</td>\n",
       "    </tr>\n",
       "    <tr>\n",
       "      <th>30</th>\n",
       "      <td>457531.863242</td>\n",
       "      <td>75019</td>\n",
       "      <td>Paris 19e Arrondissement</td>\n",
       "      <td>47</td>\n",
       "      <td>9734.72</td>\n",
       "      <td>Local industriel. commercial ou assimilé</td>\n",
       "    </tr>\n",
       "    <tr>\n",
       "      <th>31</th>\n",
       "      <td>191651.792500</td>\n",
       "      <td>75019</td>\n",
       "      <td>Paris 19e Arrondissement</td>\n",
       "      <td>25</td>\n",
       "      <td>7666.07</td>\n",
       "      <td>Appartement</td>\n",
       "    </tr>\n",
       "    <tr>\n",
       "      <th>32</th>\n",
       "      <td>991093.190548</td>\n",
       "      <td>75019</td>\n",
       "      <td>Paris 19e Arrondissement</td>\n",
       "      <td>98</td>\n",
       "      <td>10113.20</td>\n",
       "      <td>Local industriel. commercial ou assimilé</td>\n",
       "    </tr>\n",
       "    <tr>\n",
       "      <th>33</th>\n",
       "      <td>113655.667808</td>\n",
       "      <td>75019</td>\n",
       "      <td>Paris 19e Arrondissement</td>\n",
       "      <td>15</td>\n",
       "      <td>7577.04</td>\n",
       "      <td>Appartement</td>\n",
       "    </tr>\n",
       "    <tr>\n",
       "      <th>34</th>\n",
       "      <td>160472.445205</td>\n",
       "      <td>75019</td>\n",
       "      <td>Paris 19e Arrondissement</td>\n",
       "      <td>22</td>\n",
       "      <td>7294.20</td>\n",
       "      <td>Appartement</td>\n",
       "    </tr>\n",
       "    <tr>\n",
       "      <th>35</th>\n",
       "      <td>456118.944103</td>\n",
       "      <td>75019</td>\n",
       "      <td>Paris 19e Arrondissement</td>\n",
       "      <td>63</td>\n",
       "      <td>7239.98</td>\n",
       "      <td>Appartement</td>\n",
       "    </tr>\n",
       "    <tr>\n",
       "      <th>36</th>\n",
       "      <td>194310.633151</td>\n",
       "      <td>75019</td>\n",
       "      <td>Paris 19e Arrondissement</td>\n",
       "      <td>20</td>\n",
       "      <td>9715.53</td>\n",
       "      <td>Local industriel. commercial ou assimilé</td>\n",
       "    </tr>\n",
       "    <tr>\n",
       "      <th>37</th>\n",
       "      <td>379199.041849</td>\n",
       "      <td>75019</td>\n",
       "      <td>Paris 19e Arrondissement</td>\n",
       "      <td>50</td>\n",
       "      <td>7583.98</td>\n",
       "      <td>Appartement</td>\n",
       "    </tr>\n",
       "    <tr>\n",
       "      <th>38</th>\n",
       "      <td>628966.283383</td>\n",
       "      <td>75019</td>\n",
       "      <td>Paris 19e Arrondissement</td>\n",
       "      <td>63</td>\n",
       "      <td>9983.59</td>\n",
       "      <td>Local industriel. commercial ou assimilé</td>\n",
       "    </tr>\n",
       "    <tr>\n",
       "      <th>39</th>\n",
       "      <td>938062.665205</td>\n",
       "      <td>75019</td>\n",
       "      <td>Paris 19e Arrondissement</td>\n",
       "      <td>96</td>\n",
       "      <td>9771.49</td>\n",
       "      <td>Local industriel. commercial ou assimilé</td>\n",
       "    </tr>\n",
       "  </tbody>\n",
       "</table>\n",
       "</div>"
      ],
      "text/plain": [
       "    valeur_fonciere  code_postal               nom_commune  surface_reelle  \\\n",
       "0     868687.083271        75019  Paris 19e Arrondissement              88   \n",
       "1     452050.762192        75019  Paris 19e Arrondissement              45   \n",
       "2     193088.653587        75019  Paris 19e Arrondissement              21   \n",
       "3     303012.549370        75019  Paris 19e Arrondissement              32   \n",
       "4     149272.200110        75019  Paris 19e Arrondissement              20   \n",
       "5     179676.304545        75019  Paris 19e Arrondissement              18   \n",
       "6     241856.569418        75019  Paris 19e Arrondissement              25   \n",
       "7     462981.797149        75019  Paris 19e Arrondissement              63   \n",
       "8     518819.726233        75019  Paris 19e Arrondissement              53   \n",
       "9     403670.310822        75019  Paris 19e Arrondissement              53   \n",
       "10    374523.452055        75019  Paris 19e Arrondissement              50   \n",
       "11    371204.968028        75019  Paris 19e Arrondissement              39   \n",
       "12    188198.997288        75019  Paris 19e Arrondissement              26   \n",
       "13    384909.031356        75019  Paris 19e Arrondissement              39   \n",
       "14    323115.729863        75019  Paris 19e Arrondissement              44   \n",
       "15    299837.689726        75019  Paris 19e Arrondissement              41   \n",
       "16    385609.346236        75019  Paris 19e Arrondissement              52   \n",
       "17    985004.900753        75019  Paris 19e Arrondissement              99   \n",
       "18    249469.620558        75019  Paris 19e Arrondissement              25   \n",
       "19    269985.318855        75019  Paris 19e Arrondissement              37   \n",
       "20    256289.969178        75019  Paris 19e Arrondissement              35   \n",
       "21    252252.617055        75019  Paris 19e Arrondissement              35   \n",
       "22    588958.335493        75019  Paris 19e Arrondissement              60   \n",
       "23    483462.212110        75019  Paris 19e Arrondissement              65   \n",
       "24    177582.384658        75019  Paris 19e Arrondissement              24   \n",
       "25    255738.359589        75019  Paris 19e Arrondissement              35   \n",
       "26    298834.405808        75019  Paris 19e Arrondissement              30   \n",
       "27    333404.332032        75019  Paris 19e Arrondissement              33   \n",
       "28    537467.363310        75019  Paris 19e Arrondissement              56   \n",
       "29    129429.748549        75019  Paris 19e Arrondissement              17   \n",
       "30    457531.863242        75019  Paris 19e Arrondissement              47   \n",
       "31    191651.792500        75019  Paris 19e Arrondissement              25   \n",
       "32    991093.190548        75019  Paris 19e Arrondissement              98   \n",
       "33    113655.667808        75019  Paris 19e Arrondissement              15   \n",
       "34    160472.445205        75019  Paris 19e Arrondissement              22   \n",
       "35    456118.944103        75019  Paris 19e Arrondissement              63   \n",
       "36    194310.633151        75019  Paris 19e Arrondissement              20   \n",
       "37    379199.041849        75019  Paris 19e Arrondissement              50   \n",
       "38    628966.283383        75019  Paris 19e Arrondissement              63   \n",
       "39    938062.665205        75019  Paris 19e Arrondissement              96   \n",
       "\n",
       "     prix_m2                              Type_de_bien  \n",
       "0    9871.44  Local industriel. commercial ou assimilé  \n",
       "1   10045.57  Local industriel. commercial ou assimilé  \n",
       "2    9194.70  Local industriel. commercial ou assimilé  \n",
       "3    9469.14  Local industriel. commercial ou assimilé  \n",
       "4    7463.61                               Appartement  \n",
       "5    9982.02  Local industriel. commercial ou assimilé  \n",
       "6    9674.26  Local industriel. commercial ou assimilé  \n",
       "7    7348.92                               Appartement  \n",
       "8    9789.05  Local industriel. commercial ou assimilé  \n",
       "9    7616.42                               Appartement  \n",
       "10   7490.47                               Appartement  \n",
       "11   9518.08  Local industriel. commercial ou assimilé  \n",
       "12   7238.42                               Appartement  \n",
       "13   9869.46  Local industriel. commercial ou assimilé  \n",
       "14   7343.54                               Appartement  \n",
       "15   7313.11                               Appartement  \n",
       "16   7415.56                               Appartement  \n",
       "17   9949.54  Local industriel. commercial ou assimilé  \n",
       "18   9978.78  Local industriel. commercial ou assimilé  \n",
       "19   7296.90                               Appartement  \n",
       "20   7322.57                               Appartement  \n",
       "21   7207.22                               Appartement  \n",
       "22   9815.97  Local industriel. commercial ou assimilé  \n",
       "23   7437.88                               Appartement  \n",
       "24   7399.27                               Appartement  \n",
       "25   7306.81                               Appartement  \n",
       "26   9961.15  Local industriel. commercial ou assimilé  \n",
       "27  10103.16  Local industriel. commercial ou assimilé  \n",
       "28   9597.63  Local industriel. commercial ou assimilé  \n",
       "29   7613.51                               Appartement  \n",
       "30   9734.72  Local industriel. commercial ou assimilé  \n",
       "31   7666.07                               Appartement  \n",
       "32  10113.20  Local industriel. commercial ou assimilé  \n",
       "33   7577.04                               Appartement  \n",
       "34   7294.20                               Appartement  \n",
       "35   7239.98                               Appartement  \n",
       "36   9715.53  Local industriel. commercial ou assimilé  \n",
       "37   7583.98                               Appartement  \n",
       "38   9983.59  Local industriel. commercial ou assimilé  \n",
       "39   9771.49  Local industriel. commercial ou assimilé  "
      ]
     },
     "metadata": {},
     "output_type": "display_data"
    }
   ],
   "source": [
    "#On affiche les résultats\n",
    "df_classification['Type_de_bien'] = k_means_labels\n",
    "def classification(Type_de_bien):\n",
    "    if Type_de_bien == 0:\n",
    "        return 'Local industriel. commercial ou assimilé'\n",
    "    else:\n",
    "        return 'Appartement'\n",
    "df_classification['Type_de_bien'] = df_classification['Type_de_bien'].apply(classification)\n",
    "df_classification.head()\n",
    "display(df_classification)"
   ]
  },
  {
   "cell_type": "markdown",
   "id": "cea621ed",
   "metadata": {},
   "source": [
    "# Milestone 5 - Analyse et présentation des résultats"
   ]
  },
  {
   "cell_type": "markdown",
   "id": "9553046e",
   "metadata": {},
   "source": [
    "Mes conclusions sur l'analyse et les limites de l'exercice :\n",
    "- Concernant la valorisation prédite, nous avons un taux moyen d'erreur de 9%. Comme évoqué, nous pouvons tenter de réduire ce taux en ajoutant des prédicteurs à notre algorithme. \n",
    "- Nos résultats nous aident déjà dans la prise de décision concernant la conservation des biens mais il faudra prendre également en compte le marché actuel (nombre de demande par type de biens, surface souhaitée, proximité de point d'interêts...) afin de conserver les actifs ayants un plus fort potentiel.\n",
    "- Notre algorithme de classification répond à votre besoin de connaître le type de bien lorsqu'une opportunité d'achat se présente. Il faudra cependant bien isoler et segmenter les données par localisation avant de l'utiliser (les prix du m2 variants en fonction de celle-ci, les résultats risquent d'être confus si l'on l'utilise avec un tableau regroupant plusieurs localisations)."
   ]
  }
 ],
 "metadata": {
  "kernelspec": {
   "display_name": "Python 3 (ipykernel)",
   "language": "python",
   "name": "python3"
  },
  "language_info": {
   "codemirror_mode": {
    "name": "ipython",
    "version": 3
   },
   "file_extension": ".py",
   "mimetype": "text/x-python",
   "name": "python",
   "nbconvert_exporter": "python",
   "pygments_lexer": "ipython3",
   "version": "3.13.2"
  }
 },
 "nbformat": 4,
 "nbformat_minor": 5
}
